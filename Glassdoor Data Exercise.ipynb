{
 "cells": [
  {
   "cell_type": "markdown",
   "metadata": {},
   "source": [
    "# Glassdoor Take home "
   ]
  },
  {
   "cell_type": "markdown",
   "metadata": {},
   "source": [
    "### PART 1:  JOB SLOT SALES AND PERFORMANCE DISTRIBUTION"
   ]
  },
  {
   "cell_type": "raw",
   "metadata": {},
   "source": [
    "1)\tWhat is the variation across the Job Slot packages we sell?  \t\t\t\t\t\t\t\t\t\t\t\t\t\t\n",
    "\t- What does the distribution of pricing look like?\t\t\t\t\t\t\t\t\t\t\t\t\t\t\n",
    "\t- What packages are most popular, based on the number of slots?\t\t\t\t\t\t\t\t\t\t\t\t\t\t\n",
    "\t- How does term length vary?\t\t\t\t\t\t\t\t\t\t\t\t\t\t\n",
    "\t\t\t\t\t\t\t\t\t\t\t\t\t\t\t\n",
    "2)\tWhat metrics should we use to compare delivery performance across customers?  How does performance vary in terms of: \n",
    "\t- Application metrics?\t\t\t\t\t\t\t\t\t\t\t\t\t\t\n",
    "\t- Cost?\t\t\t\t\t\t\t\t\t\t\t\t\t\t\n",
    "\t- Marketplace value?\t\t\t\t\t\t\t\t\t\t\t\t\t\t"
   ]
  },
  {
   "cell_type": "markdown",
   "metadata": {},
   "source": [
    "### PART 2:  RETENTION ANALYSIS\t\t\t\t\t\t\t\t\t\t\t\t\t\t\t"
   ]
  },
  {
   "cell_type": "raw",
   "metadata": {},
   "source": [
    "3)\tWhat factor or combination of factors best predict likelihood to retain (i.e., Renewed = 1)?  Which factors appear to have the greatest impact on retention?\n",
    "\n",
    "4)\tHow well does your analysis in #3 predict retention?  What other factors might you want to investigate to see if they could improve your analysis?\t\t\t\t\t\t\t\t\n",
    "\n",
    "5) \tBased on your analysis, what modifications would you recommend we make to our ad platform algorithm to improve retention?"
   ]
  },
  {
   "cell_type": "markdown",
   "metadata": {},
   "source": [
    "# Code Start Here:"
   ]
  },
  {
   "cell_type": "code",
   "execution_count": 926,
   "metadata": {
    "collapsed": true
   },
   "outputs": [],
   "source": [
    "# Import all packages\n",
    "import pandas as pd\n",
    "import numpy as np\n",
    "from datetime import date\n",
    "%matplotlib notebook\n",
    "import matplotlib\n",
    "import matplotlib.pyplot as plt\n",
    "from sklearn.linear_model import LogisticRegression\n",
    "from sklearn.model_selection import train_test_split\n",
    "from sklearn.model_selection import validation_curve\n",
    "\n",
    "from sklearn.ensemble import GradientBoostingClassifier  #GBM algorithm\n",
    "from sklearn.ensemble.partial_dependence import plot_partial_dependence\n",
    "from sklearn.ensemble.partial_dependence import partial_dependence\n",
    "\n",
    "#from sklearn import cross_validation, metrics   #Additional scklearn functions\n",
    "from sklearn.grid_search import GridSearchCV   #Perforing grid search\n",
    "\n",
    "import matplotlib.pylab as plot\n",
    "%matplotlib inline\n",
    "from matplotlib.pylab import rcParams\n",
    "rcParams['figure.figsize'] = 12, 4\n"
   ]
  },
  {
   "cell_type": "code",
   "execution_count": 71,
   "metadata": {
    "collapsed": false
   },
   "outputs": [],
   "source": [
    "# Read data into dataframe job\n",
    "job = pd.read_excel(\"Job Slot Retention Case vCandidate.xlsx\", sheetname = \"Ex 1 - Job Slot Raw Data\")"
   ]
  },
  {
   "cell_type": "code",
   "execution_count": 53,
   "metadata": {
    "collapsed": false
   },
   "outputs": [
    {
     "data": {
      "text/html": [
       "<div>\n",
       "<table border=\"1\" class=\"dataframe\">\n",
       "  <thead>\n",
       "    <tr style=\"text-align: right;\">\n",
       "      <th></th>\n",
       "      <th>Start Date</th>\n",
       "      <th>End Date</th>\n",
       "      <th>Employer ID</th>\n",
       "      <th>Employer City</th>\n",
       "      <th>Employer State</th>\n",
       "      <th>Number of Slots</th>\n",
       "      <th>Price Paid</th>\n",
       "      <th>Marketplace Value Delivered</th>\n",
       "      <th>Applications</th>\n",
       "      <th>Renewed?</th>\n",
       "    </tr>\n",
       "  </thead>\n",
       "  <tbody>\n",
       "    <tr>\n",
       "      <th>0</th>\n",
       "      <td>2015-02-01</td>\n",
       "      <td>2016-02-29</td>\n",
       "      <td>40</td>\n",
       "      <td>Belmont</td>\n",
       "      <td>California</td>\n",
       "      <td>125</td>\n",
       "      <td>67125.0</td>\n",
       "      <td>147711.043445</td>\n",
       "      <td>9647.7</td>\n",
       "      <td>0</td>\n",
       "    </tr>\n",
       "    <tr>\n",
       "      <th>1</th>\n",
       "      <td>2015-12-31</td>\n",
       "      <td>2016-12-30</td>\n",
       "      <td>43</td>\n",
       "      <td>Northbrook</td>\n",
       "      <td>Illinois</td>\n",
       "      <td>100</td>\n",
       "      <td>85025.0</td>\n",
       "      <td>62214.929769</td>\n",
       "      <td>7182.2</td>\n",
       "      <td>1</td>\n",
       "    </tr>\n",
       "    <tr>\n",
       "      <th>2</th>\n",
       "      <td>2016-01-02</td>\n",
       "      <td>2017-01-01</td>\n",
       "      <td>72</td>\n",
       "      <td>New York</td>\n",
       "      <td>New York State</td>\n",
       "      <td>100</td>\n",
       "      <td>71600.0</td>\n",
       "      <td>58759.871766</td>\n",
       "      <td>6537.0</td>\n",
       "      <td>0</td>\n",
       "    </tr>\n",
       "  </tbody>\n",
       "</table>\n",
       "</div>"
      ],
      "text/plain": [
       "  Start Date   End Date  Employer ID Employer City  Employer State  \\\n",
       "0 2015-02-01 2016-02-29           40       Belmont      California   \n",
       "1 2015-12-31 2016-12-30           43    Northbrook        Illinois   \n",
       "2 2016-01-02 2017-01-01           72      New York  New York State   \n",
       "\n",
       "   Number of Slots  Price Paid  Marketplace Value Delivered  Applications  \\\n",
       "0              125     67125.0                147711.043445        9647.7   \n",
       "1              100     85025.0                 62214.929769        7182.2   \n",
       "2              100     71600.0                 58759.871766        6537.0   \n",
       "\n",
       "   Renewed?  \n",
       "0         0  \n",
       "1         1  \n",
       "2         0  "
      ]
     },
     "execution_count": 53,
     "metadata": {},
     "output_type": "execute_result"
    }
   ],
   "source": [
    "job.head(3)"
   ]
  },
  {
   "cell_type": "markdown",
   "metadata": {},
   "source": [
    "## Data Sanity Check"
   ]
  },
  {
   "cell_type": "code",
   "execution_count": 54,
   "metadata": {
    "collapsed": false
   },
   "outputs": [
    {
     "name": "stdout",
     "output_type": "stream",
     "text": [
      "(3078, 10)\n",
      "<class 'pandas.core.frame.DataFrame'>\n",
      "RangeIndex: 3078 entries, 0 to 3077\n",
      "Data columns (total 10 columns):\n",
      "Start Date                     3078 non-null datetime64[ns]\n",
      "End Date                       3078 non-null datetime64[ns]\n",
      "Employer ID                    3078 non-null int64\n",
      "Employer City                  3078 non-null object\n",
      "Employer State                 3078 non-null object\n",
      "Number of Slots                3078 non-null int64\n",
      "Price Paid                     3078 non-null float64\n",
      "Marketplace Value Delivered    3078 non-null float64\n",
      "Applications                   3078 non-null float64\n",
      "Renewed?                       3078 non-null int64\n",
      "dtypes: datetime64[ns](2), float64(3), int64(3), object(2)\n",
      "memory usage: 240.5+ KB\n",
      "None\n"
     ]
    }
   ],
   "source": [
    "# print data structure: # records, # columns, column names and type\n",
    "print(job.shape)\n",
    "print(job.info())"
   ]
  },
  {
   "cell_type": "code",
   "execution_count": 57,
   "metadata": {
    "collapsed": false
   },
   "outputs": [
    {
     "data": {
      "text/plain": [
       "(0, 10)"
      ]
     },
     "execution_count": 57,
     "metadata": {},
     "output_type": "execute_result"
    }
   ],
   "source": [
    "# check if date range is valid\n",
    "job_invalid = job[job[\"Start Date\"] > job[\"End Date\"]]\n",
    "job_invalid.shape\n",
    "# No invalid date data"
   ]
  },
  {
   "cell_type": "markdown",
   "metadata": {},
   "source": [
    "#### Conclusion: No valid record found for Start Date and End Date"
   ]
  },
  {
   "cell_type": "code",
   "execution_count": 26,
   "metadata": {
    "collapsed": false
   },
   "outputs": [
    {
     "name": "stdout",
     "output_type": "stream",
     "text": [
      "((0, 10), (0, 10), (0, 10), (0, 10))\n"
     ]
    },
    {
     "data": {
      "text/plain": [
       "1    2087\n",
       "0     991\n",
       "Name: Renewed?, dtype: int64"
      ]
     },
     "execution_count": 26,
     "metadata": {},
     "output_type": "execute_result"
    }
   ],
   "source": [
    "# Check if negative value for # slots, price paid, application, marketplace value, or invalid value for renewed\n",
    "job_negslot = job[job[\"Number of Slots\"] <= 0]\n",
    "job_negprice = job[job[\"Price Paid\"] <= 0]\n",
    "job_negvalue = job[job[\"Marketplace Value Delivered\"] < 0]\n",
    "job_negapp = job[job[\"Applications\"] < 0]\n",
    "print(job_negslot.shape, job_negprice.shape, job_negvalue.shape, job_negapp.shape)\n",
    "job[\"Renewed?\"].value_counts()"
   ]
  },
  {
   "cell_type": "markdown",
   "metadata": {},
   "source": [
    "#### Conclusion: No invalid value for #slot, price paid, marketplace value, #application, Renew or not fields"
   ]
  },
  {
   "cell_type": "code",
   "execution_count": 58,
   "metadata": {
    "collapsed": false
   },
   "outputs": [
    {
     "name": "stdout",
     "output_type": "stream",
     "text": [
      "127\n"
     ]
    },
    {
     "data": {
      "text/plain": [
       "0    10\n",
       "Name: Employer State, dtype: int64"
      ]
     },
     "execution_count": 58,
     "metadata": {},
     "output_type": "execute_result"
    }
   ],
   "source": [
    "# Chcek Employer State distribution\n",
    "print(job[\"Employer State\"].nunique(dropna = False))\n",
    "#job[\"Employer State\"].value_counts()\n",
    "#job[\"Employer City\"].value_counts()\n",
    "job[job[\"Employer City\"]==0][\"Employer State\"].value_counts()"
   ]
  },
  {
   "cell_type": "markdown",
   "metadata": {},
   "source": [
    "#### Conclusion 1: The file has \"na\" and \"0\" values for City and State; \n",
    "#### Assumption 1: City with \"0\" is data error (invalid records); State with \"0\" (while City has Valid value, like Singapore) is valid\n",
    "#### Assumption 2: \"na\" means no specific request location for the job and is valid\n",
    "#### Conclusion 2: The file includes both International and US market"
   ]
  },
  {
   "cell_type": "code",
   "execution_count": 79,
   "metadata": {
    "collapsed": false
   },
   "outputs": [
    {
     "data": {
      "text/plain": [
       "(3068, 10)"
      ]
     },
     "execution_count": 79,
     "metadata": {},
     "output_type": "execute_result"
    }
   ],
   "source": [
    "# Check duplication record\n",
    "# Given employer can have multiple contract transactions around the same period,\n",
    "# here I checked if there is duplicated contract transaction records\n",
    "job.drop_duplicates().shape"
   ]
  },
  {
   "cell_type": "code",
   "execution_count": 213,
   "metadata": {
    "collapsed": false
   },
   "outputs": [
    {
     "name": "stdout",
     "output_type": "stream",
     "text": [
      "(2748, 1)\n",
      "(3043, 3)\n"
     ]
    }
   ],
   "source": [
    "# Check duplications for repeated customers, and repeat_customers/ job location\n",
    "print(job[[\"Employer ID\"]].drop_duplicates().shape)\n",
    "print(job[[\"Employer ID\", \"Employer State\",\"Employer City\"]].drop_duplicates().shape)"
   ]
  },
  {
   "cell_type": "markdown",
   "metadata": {},
   "source": [
    "#### Conclusion: No duplication based on contract transaction data; \n",
    "#### Conclusion: Employer can purchase multiple contracts due to (1) different job location, (2) renew, and/or (3) purchase multiple contracts around the time"
   ]
  },
  {
   "cell_type": "markdown",
   "metadata": {},
   "source": [
    "## Data Cleaning"
   ]
  },
  {
   "cell_type": "code",
   "execution_count": 73,
   "metadata": {
    "collapsed": false
   },
   "outputs": [
    {
     "data": {
      "text/plain": [
       "(3068, 10)"
      ]
     },
     "execution_count": 73,
     "metadata": {},
     "output_type": "execute_result"
    }
   ],
   "source": [
    "# delete invalid values, both city has 0 values\n",
    "job = job[job[\"Employer City\"] != 0]\n",
    "job.shape"
   ]
  },
  {
   "cell_type": "code",
   "execution_count": 74,
   "metadata": {
    "collapsed": false
   },
   "outputs": [],
   "source": [
    "# Fill \"0\" in field employer state with the value in employer City\n",
    "def fillcity(row):\n",
    "    if row[\"Employer State\"] == 0:\n",
    "        return row[\"Employer City\"]\n",
    "    else:\n",
    "        return row[\"Employer State\"]\n",
    "job[\"Employer State\"] = job.apply(lambda x: fillcity(x), axis = 1)"
   ]
  },
  {
   "cell_type": "code",
   "execution_count": 77,
   "metadata": {
    "collapsed": false
   },
   "outputs": [],
   "source": [
    "#job[\"Employer State\"].value_counts()"
   ]
  },
  {
   "cell_type": "markdown",
   "metadata": {},
   "source": [
    "## PART 1:  JOB SLOT SALES AND PERFORMANCE DISTRIBUTION"
   ]
  },
  {
   "cell_type": "markdown",
   "metadata": {},
   "source": [
    "### What is the variation across the Job Slot packages we sell?  "
   ]
  },
  {
   "cell_type": "markdown",
   "metadata": {},
   "source": [
    "#### Price Distribution"
   ]
  },
  {
   "cell_type": "code",
   "execution_count": 90,
   "metadata": {
    "collapsed": false
   },
   "outputs": [
    {
     "data": {
      "text/plain": [
       "count      3068.000000\n",
       "mean      22365.443325\n",
       "std       15614.701211\n",
       "min         205.402500\n",
       "1%         5788.384397\n",
       "2%        10740.000000\n",
       "5%        10740.000000\n",
       "10%       10740.000000\n",
       "25%       13425.000000\n",
       "50%       17094.500000\n",
       "75%       26850.000000\n",
       "90%       40275.000000\n",
       "95%       53700.000000\n",
       "98%       67125.000000\n",
       "99%       80550.000000\n",
       "max      273870.000000\n",
       "Name: Price Paid, dtype: float64"
      ]
     },
     "execution_count": 90,
     "metadata": {},
     "output_type": "execute_result"
    }
   ],
   "source": [
    "# Price Paid: Statistics\n",
    "job[\"Price Paid\"].describe(percentiles=[.01, 0.02, .05, .1, .25, .5, .75, .9, .95, 0.98, .99])"
   ]
  },
  {
   "cell_type": "code",
   "execution_count": 123,
   "metadata": {
    "collapsed": false
   },
   "outputs": [],
   "source": [
    "# Floor/ Cap the field at 1%/99% percentile\n",
    "price = [job[\"Price Paid\"].quantile(0.01), job[\"Price Paid\"].quantile(0.95)]\n",
    "job[\"Price_paid_mani\"] = job[\"Price Paid\"].apply(lambda x: price[0] if x < price[0] else x)\n",
    "job[\"Price_paid_mani\"] = job[\"Price_paid_mani\"].apply(lambda x: price[1] if x > price[1] else x)"
   ]
  },
  {
   "cell_type": "code",
   "execution_count": 136,
   "metadata": {
    "collapsed": false
   },
   "outputs": [
    {
     "data": {
      "text/plain": [
       "<matplotlib.text.Text at 0xd313828>"
      ]
     },
     "execution_count": 136,
     "metadata": {},
     "output_type": "execute_result"
    },
    {
     "data": {
      "image/png": "[encoded data removed]",
      "text/plain": [
       "<matplotlib.figure.Figure at 0xcc86198>"
      ]
     },
     "metadata": {},
     "output_type": "display_data"
    }
   ],
   "source": [
    "bin_values = np.arange(start= job[\"Price_paid_mani\"].min(), stop=job[\"Price_paid_mani\"].max(), step=2000)\n",
    "price_plot = job['Price_paid_mani'].hist(bins=bin_values, figsize=[10,6])\n",
    "price_plot.set_title(\"Histogram for Price Paid\", fontsize = 20)\n",
    "price_plot.set_xlabel(\"$ Price Paid\", fontsize = 15)\n",
    "price_plot.set_ylabel(\"# Count\", fontsize = 15)"
   ]
  },
  {
   "cell_type": "markdown",
   "metadata": {},
   "source": [
    "### Popular Package"
   ]
  },
  {
   "cell_type": "code",
   "execution_count": 181,
   "metadata": {
    "collapsed": false
   },
   "outputs": [],
   "source": [
    "## Popularity by # puchased\n",
    "pkg_purchase = job[\"Number of Slots\"].value_counts().to_frame().rename(columns = {\"index\": \"# Slots\",\"Number of Slots\": \"# Purchase\"})\n",
    "pkg_purchase.sort_values(by = \"# Purchase\", ascending = False, inplace = True)"
   ]
  },
  {
   "cell_type": "code",
   "execution_count": 182,
   "metadata": {
    "collapsed": false
   },
   "outputs": [
    {
     "data": {
      "text/html": [
       "<div>\n",
       "<table border=\"1\" class=\"dataframe\">\n",
       "  <thead>\n",
       "    <tr style=\"text-align: right;\">\n",
       "      <th></th>\n",
       "      <th># Purchase</th>\n",
       "    </tr>\n",
       "  </thead>\n",
       "  <tbody>\n",
       "    <tr>\n",
       "      <th>25</th>\n",
       "      <td>888</td>\n",
       "    </tr>\n",
       "    <tr>\n",
       "      <th>15</th>\n",
       "      <td>869</td>\n",
       "    </tr>\n",
       "    <tr>\n",
       "      <th>50</th>\n",
       "      <td>488</td>\n",
       "    </tr>\n",
       "    <tr>\n",
       "      <th>20</th>\n",
       "      <td>226</td>\n",
       "    </tr>\n",
       "    <tr>\n",
       "      <th>35</th>\n",
       "      <td>213</td>\n",
       "    </tr>\n",
       "    <tr>\n",
       "      <th>75</th>\n",
       "      <td>193</td>\n",
       "    </tr>\n",
       "    <tr>\n",
       "      <th>100</th>\n",
       "      <td>108</td>\n",
       "    </tr>\n",
       "    <tr>\n",
       "      <th>125</th>\n",
       "      <td>28</td>\n",
       "    </tr>\n",
       "    <tr>\n",
       "      <th>10</th>\n",
       "      <td>22</td>\n",
       "    </tr>\n",
       "    <tr>\n",
       "      <th>200</th>\n",
       "      <td>16</td>\n",
       "    </tr>\n",
       "    <tr>\n",
       "      <th>150</th>\n",
       "      <td>12</td>\n",
       "    </tr>\n",
       "    <tr>\n",
       "      <th>175</th>\n",
       "      <td>5</td>\n",
       "    </tr>\n",
       "  </tbody>\n",
       "</table>\n",
       "</div>"
      ],
      "text/plain": [
       "     # Purchase\n",
       "25          888\n",
       "15          869\n",
       "50          488\n",
       "20          226\n",
       "35          213\n",
       "75          193\n",
       "100         108\n",
       "125          28\n",
       "10           22\n",
       "200          16\n",
       "150          12\n",
       "175           5"
      ]
     },
     "execution_count": 182,
     "metadata": {},
     "output_type": "execute_result"
    }
   ],
   "source": [
    "pkg_purchase"
   ]
  },
  {
   "cell_type": "code",
   "execution_count": 183,
   "metadata": {
    "collapsed": false
   },
   "outputs": [
    {
     "data": {
      "text/plain": [
       "<matplotlib.text.Text at 0x123eed30>"
      ]
     },
     "execution_count": 183,
     "metadata": {},
     "output_type": "execute_result"
    },
    {
     "data": {
      "image/png": "[encoded data removed]",
      "text/plain": [
       "<matplotlib.figure.Figure at 0x112a4748>"
      ]
     },
     "metadata": {},
     "output_type": "display_data"
    }
   ],
   "source": [
    "purchase_plot = pkg_purchase.plot(kind='bar', figsize = [10,6],legend=None)\n",
    "purchase_plot.set_xlabel(\"# Slots in a package\", fontsize = 16)\n",
    "purchase_plot.set_ylabel(\"# Purchase\", fontsize = 16)\n",
    "purchase_plot.set_title(\"Package Popularity by # Purchase\", fontsize = 20)"
   ]
  },
  {
   "cell_type": "code",
   "execution_count": 185,
   "metadata": {
    "collapsed": false
   },
   "outputs": [],
   "source": [
    "## Popularity by # Employer purchased\n",
    "pkg_employer = job.drop_duplicates([\"Number of Slots\",\"Employer ID\"]).groupby(\"Number of Slots\").count()[[\"Employer ID\"]].rename(columns = {\"Employer ID\": \"# User\"})\n",
    "pkg_employer.sort_values(by = \"# User\", ascending = False, inplace = True)"
   ]
  },
  {
   "cell_type": "code",
   "execution_count": 186,
   "metadata": {
    "collapsed": false
   },
   "outputs": [
    {
     "data": {
      "text/plain": [
       "<matplotlib.text.Text at 0x12b034a8>"
      ]
     },
     "execution_count": 186,
     "metadata": {},
     "output_type": "execute_result"
    },
    {
     "data": {
      "image/png": "[encoded data removed]",
      "text/plain": [
       "<matplotlib.figure.Figure at 0x12736278>"
      ]
     },
     "metadata": {},
     "output_type": "display_data"
    }
   ],
   "source": [
    "employer_plot = pkg_employer.plot(kind='bar',legend=None,figsize = [10,6], color =\"green\")\n",
    "employer_plot.set_xlabel(\"# Slots in a package\", fontsize = 16)\n",
    "employer_plot.set_ylabel(\"# Users/Employers\", fontsize = 16)\n",
    "employer_plot.set_title(\"Package Popularity by # User\", fontsize = 20)"
   ]
  },
  {
   "cell_type": "code",
   "execution_count": 193,
   "metadata": {
    "collapsed": false
   },
   "outputs": [
    {
     "data": {
      "text/plain": [
       "<matplotlib.text.Text at 0x132d5ac8>"
      ]
     },
     "execution_count": 193,
     "metadata": {},
     "output_type": "execute_result"
    },
    {
     "data": {
      "image/png": "[encoded data removed]",
      "text/plain": [
       "<matplotlib.figure.Figure at 0x12b03278>"
      ]
     },
     "metadata": {},
     "output_type": "display_data"
    }
   ],
   "source": [
    "# Combine 2 charts\n",
    "popular = pkg_purchase.merge(pkg_employer, left_index = True, right_index = True, how = \"outer\")\n",
    "popular_plot = popular.plot(kind='bar',legend= True,figsize = [12,6])\n",
    "popular_plot.set_xlabel(\"# Slots in a package\", fontsize = 16)\n",
    "popular_plot.set_ylabel(\"# Purchase/Users\", fontsize = 16)\n",
    "popular_plot.set_title(\"Package Popularity\", fontsize = 20)"
   ]
  },
  {
   "cell_type": "markdown",
   "metadata": {},
   "source": [
    "### Conclusion 1: The most popular package measured by # Times purchased is the one with 25 job slots;\n",
    "### Conclusion 2: The most popular package measured by # users/employers is the one with 15 job slots"
   ]
  },
  {
   "cell_type": "markdown",
   "metadata": {},
   "source": [
    "## Term variation"
   ]
  },
  {
   "cell_type": "code",
   "execution_count": 194,
   "metadata": {
    "collapsed": true
   },
   "outputs": [],
   "source": [
    "### Create term for each contract\n",
    "from dateutil import rrule\n",
    "import datetime\n",
    "def day_between(start_date, end_date):\n",
    "    days = rrule.rrule(rrule.DAILY, dtstart=start_date, until=end_date)\n",
    "    return days.count()\n",
    "job[\"term\"] = job.apply(lambda row: day_between(row[\"Start Date\"], row[\"End Date\"]), axis = 1)"
   ]
  },
  {
   "cell_type": "code",
   "execution_count": 197,
   "metadata": {
    "collapsed": false
   },
   "outputs": [
    {
     "data": {
      "text/plain": [
       "count    3068.000000\n",
       "mean      346.041069\n",
       "std        73.959362\n",
       "min         1.000000\n",
       "1%         37.680000\n",
       "2%         92.000000\n",
       "5%        154.350000\n",
       "10%       275.000000\n",
       "25%       365.000000\n",
       "50%       366.000000\n",
       "75%       366.000000\n",
       "90%       366.000000\n",
       "95%       366.000000\n",
       "98%       397.000000\n",
       "99%       427.000000\n",
       "max       732.000000\n",
       "Name: term, dtype: float64"
      ]
     },
     "execution_count": 197,
     "metadata": {},
     "output_type": "execute_result"
    }
   ],
   "source": [
    "job[\"term\"].describe(percentiles=[.01, 0.02, .05, .1, .25, .5, .75, .9, .95, 0.98, .99])"
   ]
  },
  {
   "cell_type": "code",
   "execution_count": 206,
   "metadata": {
    "collapsed": true
   },
   "outputs": [],
   "source": [
    "# Floor/ Cap at 1% and 99%\n",
    "term_perc = [job[\"term\"].quantile(0.01), job[\"term\"].quantile(0.99)]\n",
    "job[\"term_mani\"] = job[\"term\"].apply(lambda x: term_perc[0] if x < term_perc[0] else x)\n",
    "job[\"term_mani\"] = job[\"term_mani\"].apply(lambda x: term_perc[1] if x > term_perc[1] else x)"
   ]
  },
  {
   "cell_type": "code",
   "execution_count": 581,
   "metadata": {
    "collapsed": false
   },
   "outputs": [
    {
     "data": {
      "text/plain": [
       "<matplotlib.text.Text at 0x139ae2b0>"
      ]
     },
     "execution_count": 581,
     "metadata": {},
     "output_type": "execute_result"
    },
    {
     "data": {
      "image/png": "[encoded data removed]",
      "text/plain": [
       "<matplotlib.figure.Figure at 0x14573b00>"
      ]
     },
     "metadata": {},
     "output_type": "display_data"
    }
   ],
   "source": [
    "bin_values = np.arange(start= job[\"term_mani\"].min(), stop=job[\"term_mani\"].max(), step=20)\n",
    "term_plot = job['term_mani'].hist(bins=bin_values, figsize=[10,6])\n",
    "term_plot.set_title(\"Histogram for Contract Term\", fontsize = 20)\n",
    "term_plot.set_xlabel(\"Term by Contract (# days)\", fontsize = 15)\n",
    "term_plot.set_ylabel(\"# Count\", fontsize = 15)"
   ]
  },
  {
   "cell_type": "markdown",
   "metadata": {},
   "source": [
    "## What metrics should we use to compare delivery performance across customers?"
   ]
  },
  {
   "cell_type": "markdown",
   "metadata": {},
   "source": [
    "### Customer level matrix: Dedup Contract-level dataframe into Employer-level dataframe"
   ]
  },
  {
   "cell_type": "code",
   "execution_count": 357,
   "metadata": {
    "collapsed": false
   },
   "outputs": [
    {
     "name": "stdout",
     "output_type": "stream",
     "text": [
      "947\n"
     ]
    }
   ],
   "source": [
    "# Combine \"City\" and \"State\" into one column: Location\n",
    "job[\"Location\"] = job[\"Employer City\"].str.strip() + str(\", \") + job[\"Employer State\"].str.strip()\n",
    "print(job[\"Location\"].nunique(dropna = False))"
   ]
  },
  {
   "cell_type": "code",
   "execution_count": 413,
   "metadata": {
    "collapsed": true
   },
   "outputs": [],
   "source": [
    "# Create indicator for Domestic vs. international market\n",
    "# job posted in domestic or international market\n",
    "US_list = [\"Alabama\",\"Alaska\",\"Arizona\",\"Arkansas\", \"California\", \"Colorado\", \"Connecticut\",\"Delaware\",\n",
    "           \"Florida\", \"Georgia\", \"Hawaii\", \"Idaho\", \"Illinois\", \"Indiana\",\"Iowa\",\"Kansas\",\"Kentucky\",\n",
    "           \"Louisiana\",\"Maine\", \"Maryland\",\"Massachusetts\",\"Michigan\",\"Minnesota\",\"Mississippi\",\"Missouri\",\n",
    "           \"Montana\",\"Nebraska\",\"Nevada\",\"New Hampshire\",\"New Jersey\",\"New Mexico\",\"New York State\", \"New York\"\n",
    "           \"North Carolina\", \"North Dakota\", \"Ohio\",\"Oklahoma\",\"Oregon\", \"Pennsylvania\",\"Rhode Island\",\n",
    "           \"South Carolina\",\"South Dakota\", \"Tennessee\",\"Texas\", \"Utah\",\"Vermont\", \"Virginia\",\"Washington\",\"Washington State\"\n",
    "           \"West Virginia\",\"Wisconsin\",\"Wyoming\",\"District of Columbia\"]\n",
    "\n",
    "def mkt_def(state):\n",
    "    if state == \"na\":\n",
    "        return -1\n",
    "    elif state in US_list:\n",
    "        return 1\n",
    "    else:\n",
    "        return 0\n",
    "    \n",
    "job[\"US_MKT\"] = job[\"Employer State\"].apply(lambda x: mkt_def(x))"
   ]
  },
  {
   "cell_type": "code",
   "execution_count": 414,
   "metadata": {
    "collapsed": false
   },
   "outputs": [
    {
     "data": {
      "text/plain": [
       " 1    1846\n",
       "-1     834\n",
       " 0     388\n",
       "Name: US_MKT, dtype: int64"
      ]
     },
     "execution_count": 414,
     "metadata": {},
     "output_type": "execute_result"
    }
   ],
   "source": [
    "job.US_MKT.value_counts()"
   ]
  },
  {
   "cell_type": "code",
   "execution_count": 493,
   "metadata": {
    "collapsed": false
   },
   "outputs": [],
   "source": [
    "# Create customer level dataframe\n",
    "employer_dup = job.groupby(\"Employer ID\")[\"Employer ID\"].count().to_frame().rename(columns = {\"Employer ID\":\"Count\"}).reset_index()"
   ]
  },
  {
   "cell_type": "code",
   "execution_count": 495,
   "metadata": {
    "collapsed": false
   },
   "outputs": [
    {
     "name": "stdout",
     "output_type": "stream",
     "text": [
      "2748\n"
     ]
    }
   ],
   "source": [
    "# check # unique Employer ID\n",
    "print(employer_dup.shape[0])"
   ]
  },
  {
   "cell_type": "code",
   "execution_count": 511,
   "metadata": {
    "collapsed": true
   },
   "outputs": [],
   "source": [
    "multi_pkg = employer_dup.merge(job, left_on = \"Employer ID\", right_on = \"Employer ID\", how = \"left\")"
   ]
  },
  {
   "cell_type": "code",
   "execution_count": 396,
   "metadata": {
    "collapsed": false
   },
   "outputs": [
    {
     "name": "stdout",
     "output_type": "stream",
     "text": [
      "(2449, 619)\n"
     ]
    }
   ],
   "source": [
    "#print(one_pkg.shape[0], multi_pkg.shape[0])"
   ]
  },
  {
   "cell_type": "code",
   "execution_count": null,
   "metadata": {
    "collapsed": true
   },
   "outputs": [],
   "source": [
    "# Determine grouping/deduping logic for Employers with multiple packages\n",
    "# sum: # Slots, price paid, market value delivered,applications, duration\n",
    "# Most recent: End date, Employer city, Employer State, last time purchase information, renewed or not\n",
    "# Early start: Start date\n",
    "# Agg: # job locations, # packages purchased, # renewed, # na"
   ]
  },
  {
   "cell_type": "code",
   "execution_count": 548,
   "metadata": {
    "collapsed": false
   },
   "outputs": [
    {
     "name": "stdout",
     "output_type": "stream",
     "text": [
      "((2748, 8), (2748, 8))\n"
     ]
    },
    {
     "data": {
      "text/plain": [
       "Employer ID                      int64\n",
       "Number of Slots                  int64\n",
       "Price Paid                     float64\n",
       "Marketplace Value Delivered    float64\n",
       "Applications                   float64\n",
       "# Renewed                        int64\n",
       "term                             int64\n",
       "NA_num                           int64\n",
       "dtype: object"
      ]
     },
     "execution_count": 548,
     "metadata": {},
     "output_type": "execute_result"
    }
   ],
   "source": [
    "# sum: # Slots, price paid, market value delivered,applications, duration\n",
    "# renewed (including the last time renewed record) & #NA \n",
    "multi_pkg[\"NA_num\"] = multi_pkg[\"Employer City\"].apply(lambda x: 1 if x == \"na\" else 0)\n",
    "employer_sum = multi_pkg.groupby(\"Employer ID\")[\"Number of Slots\",\"Price Paid\", \"Marketplace Value Delivered\",\"Applications\",\"Renewed?\",\"term\",\"NA_num\"].sum().reset_index()\n",
    "employer_sum.rename(columns = {\"Renewed?\": \"# Renewed\"}, inplace = True)\n",
    "print(employer_sum.shape, employer_sum.drop_duplicates(\"Employer ID\").shape)\n",
    "employer_sum.dtypes"
   ]
  },
  {
   "cell_type": "code",
   "execution_count": 512,
   "metadata": {
    "collapsed": false
   },
   "outputs": [],
   "source": [
    "# Users have Purchase at the same time\n",
    "multi_st = multi_pkg.groupby([\"Start Date\",\"End Date\"])[\"Employer ID\"].value_counts().to_frame().rename(columns = {\"Employer ID\": \"Count ST\"})\n",
    "multi_st = multi_st.reset_index().sort_values(by = [\"Employer ID\",\"Start Date\",\"End Date\"], ascending = False)\n",
    "multi_pkg2 = multi_st[multi_st[\"Count ST\"] > 1].merge(multi_pkg, left_on = [\"Employer ID\",\"Start Date\",\"End Date\"],right_on = [\"Employer ID\",\"Start Date\",\"End Date\"], how = \"right\", indicator = True)"
   ]
  },
  {
   "cell_type": "code",
   "execution_count": 515,
   "metadata": {
    "collapsed": false
   },
   "outputs": [],
   "source": [
    "multi_purchase_st = multi_pkg2[multi_pkg2[\"_merge\"]== \"both\"].groupby([\"Employer ID\",\"Start Date\",\"End Date\"])[\"Number of Slots\",\"Price Paid\", \"Marketplace Value Delivered\",\"Applications\",\"Renewed?\",\"term\"].sum()\n",
    "multi_purchase_st.reset_index(inplace = True)"
   ]
  },
  {
   "cell_type": "code",
   "execution_count": 516,
   "metadata": {
    "collapsed": false
   },
   "outputs": [],
   "source": [
    "# Combine users have purchases at the same time and 1 purchase at a time\n",
    "single_purchase_st = multi_pkg2[multi_pkg2[\"_merge\"]==\"right_only\"][[\"Employer ID\", \"Start Date\",\"End Date\",\"Number of Slots\",\"Price Paid\",\"Marketplace Value Delivered\",\"Applications\",\"Renewed?\",\"term\"]]\n",
    "multi_pkg_reset = pd.concat([single_purchase_st, multi_purchase_st])"
   ]
  },
  {
   "cell_type": "code",
   "execution_count": 517,
   "metadata": {
    "collapsed": false
   },
   "outputs": [
    {
     "data": {
      "text/html": [
       "<div>\n",
       "<table border=\"1\" class=\"dataframe\">\n",
       "  <thead>\n",
       "    <tr style=\"text-align: right;\">\n",
       "      <th></th>\n",
       "      <th>Employer ID</th>\n",
       "      <th>Last Date</th>\n",
       "      <th>Last #Slots</th>\n",
       "      <th>Last Price Paid</th>\n",
       "      <th>Last MKT Value</th>\n",
       "      <th>Last Apps</th>\n",
       "      <th>End Renewed</th>\n",
       "      <th>last term</th>\n",
       "    </tr>\n",
       "  </thead>\n",
       "  <tbody>\n",
       "    <tr>\n",
       "      <th>3067</th>\n",
       "      <td>107337</td>\n",
       "      <td>2016-12-31</td>\n",
       "      <td>50</td>\n",
       "      <td>4533.6941</td>\n",
       "      <td>3394.84598</td>\n",
       "      <td>211.0</td>\n",
       "      <td>1</td>\n",
       "      <td>44</td>\n",
       "    </tr>\n",
       "    <tr>\n",
       "      <th>3066</th>\n",
       "      <td>105891</td>\n",
       "      <td>2017-01-06</td>\n",
       "      <td>10</td>\n",
       "      <td>12530.0000</td>\n",
       "      <td>3090.77510</td>\n",
       "      <td>165.4</td>\n",
       "      <td>1</td>\n",
       "      <td>68</td>\n",
       "    </tr>\n",
       "    <tr>\n",
       "      <th>3065</th>\n",
       "      <td>103826</td>\n",
       "      <td>2017-01-26</td>\n",
       "      <td>15</td>\n",
       "      <td>16110.0000</td>\n",
       "      <td>2451.16872</td>\n",
       "      <td>203.2</td>\n",
       "      <td>0</td>\n",
       "      <td>91</td>\n",
       "    </tr>\n",
       "  </tbody>\n",
       "</table>\n",
       "</div>"
      ],
      "text/plain": [
       "      Employer ID  Last Date  Last #Slots  Last Price Paid  Last MKT Value  \\\n",
       "3067       107337 2016-12-31           50        4533.6941      3394.84598   \n",
       "3066       105891 2017-01-06           10       12530.0000      3090.77510   \n",
       "3065       103826 2017-01-26           15       16110.0000      2451.16872   \n",
       "\n",
       "      Last Apps  End Renewed  last term  \n",
       "3067      211.0            1         44  \n",
       "3066      165.4            1         68  \n",
       "3065      203.2            0         91  "
      ]
     },
     "execution_count": 517,
     "metadata": {},
     "output_type": "execute_result"
    }
   ],
   "source": [
    "# Get last record\n",
    "multi_pkg_reset = multi_pkg_reset.sort_values(by = [\"Employer ID\",\"End Date\",\"Start Date\",\"Renewed?\"], ascending = False)\n",
    "employer_last = multi_pkg_reset.drop_duplicates([\"Employer ID\"], keep= \"first\").drop(\"Start Date\", axis = 1)\n",
    "employer_last.rename(columns = {\"End Date\": \"Last Date\", \"Number of Slots\": \"Last #Slots\",\n",
    "                                \"Price Paid\": \"Last Price Paid\",\"Marketplace Value Delivered\": \"Last MKT Value\",\n",
    "                                \"Applications\": \"Last Apps\", \"Renewed?\": \"End Renewed\", \"term\": \"last term\"}, inplace= True)\n",
    "employer_last.head(3)"
   ]
  },
  {
   "cell_type": "code",
   "execution_count": 519,
   "metadata": {
    "collapsed": false
   },
   "outputs": [
    {
     "data": {
      "text/plain": [
       "(2748, 8)"
      ]
     },
     "execution_count": 519,
     "metadata": {},
     "output_type": "execute_result"
    }
   ],
   "source": [
    "employer_last.shape"
   ]
  },
  {
   "cell_type": "code",
   "execution_count": 523,
   "metadata": {
    "collapsed": false
   },
   "outputs": [
    {
     "data": {
      "text/html": [
       "<div>\n",
       "<table border=\"1\" class=\"dataframe\">\n",
       "  <thead>\n",
       "    <tr style=\"text-align: right;\">\n",
       "      <th></th>\n",
       "      <th>Employer ID</th>\n",
       "      <th>Earliest Date</th>\n",
       "    </tr>\n",
       "  </thead>\n",
       "  <tbody>\n",
       "    <tr>\n",
       "      <th>33</th>\n",
       "      <td>40</td>\n",
       "      <td>2015-02-01</td>\n",
       "    </tr>\n",
       "  </tbody>\n",
       "</table>\n",
       "</div>"
      ],
      "text/plain": [
       "    Employer ID Earliest Date\n",
       "33           40    2015-02-01"
      ]
     },
     "execution_count": 523,
     "metadata": {},
     "output_type": "execute_result"
    }
   ],
   "source": [
    "# First record: Early date\n",
    "multi_pkg_first = multi_pkg_reset.sort_values(by = [\"Employer ID\",\"Start Date\"], ascending = True)\n",
    "multi_pkg_first = multi_pkg_first.drop_duplicates([\"Employer ID\"], keep = \"first\")[[\"Employer ID\",\"Start Date\"]]\n",
    "employer_first = multi_pkg_first.rename(columns = {\"Start Date\": \"Earliest Date\"})\n",
    "employer_first.head(1)"
   ]
  },
  {
   "cell_type": "code",
   "execution_count": 479,
   "metadata": {
    "collapsed": false
   },
   "outputs": [],
   "source": [
    "# Agg: # job locations, # States, domestic or international, # packages purchased, # renewed, # na\n",
    "# job location: count unique values\n",
    "location_dedup = multi_pkg.groupby([\"Employer ID\"])[\"Location\"].nunique().to_frame().rename(columns = {\"Location\": \"Loc count\"})\n",
    "location_dedup.reset_index(inplace = True)\n",
    "# States: count unique values\n",
    "state_dedup = multi_pkg.groupby([\"Employer ID\"])[\"Employer State\"].nunique().to_frame().rename(columns = {\"Employer State\": \"State count\"})\n",
    "state_dedup.reset_index(inplace = True)"
   ]
  },
  {
   "cell_type": "code",
   "execution_count": 480,
   "metadata": {
    "collapsed": false
   },
   "outputs": [
    {
     "name": "stdout",
     "output_type": "stream",
     "text": [
      "((2748, 2), (2748, 2))\n",
      "((2748, 2), (2748, 2))\n"
     ]
    }
   ],
   "source": [
    "print(location_dedup.shape, location_dedup.drop_duplicates(\"Employer ID\").shape)\n",
    "print(state_dedup.shape, state_dedup.drop_duplicates(\"Employer ID\").shape)"
   ]
  },
  {
   "cell_type": "code",
   "execution_count": 481,
   "metadata": {
    "collapsed": false
   },
   "outputs": [],
   "source": [
    "# both or only international\n",
    "multi_pk3 = multi_pkg\n",
    "multi_pk3[\"int_mkt\"] = multi_pk3[\"US_MKT\"].apply(lambda x: 1 if x == 0 else 0)\n",
    "multi_pk3[\"us_mkt\"] = multi_pk3[\"US_MKT\"].apply(lambda x: 1 if x == 1 else 0)\n",
    "mkt_dedup = multi_pk3.groupby([\"Employer ID\"]).max()[[\"int_mkt\",\"us_mkt\"]].reset_index()\n",
    "def jobmkt(row):\n",
    "    if row[\"int_mkt\"] == 1 and row[\"us_mkt\"] == 0:\n",
    "        return \"International\"\n",
    "    elif row[\"int_mkt\"] == 0 and row[\"us_mkt\"] == 1:\n",
    "        return \"Domestic\"\n",
    "    elif row[\"int_mkt\"] == 1 and row[\"us_mkt\"] ==1:\n",
    "        return \"Both\"\n",
    "    else:\n",
    "        return \"Unknown\"\n",
    "    \n",
    "mkt_dedup[\"job_mkt\"] = mkt_dedup.apply(lambda row: jobmkt(row),axis = 1)"
   ]
  },
  {
   "cell_type": "code",
   "execution_count": 482,
   "metadata": {
    "collapsed": false
   },
   "outputs": [
    {
     "name": "stdout",
     "output_type": "stream",
     "text": [
      "((2748, 4), (2748, 4))\n"
     ]
    },
    {
     "data": {
      "text/html": [
       "<div>\n",
       "<table border=\"1\" class=\"dataframe\">\n",
       "  <thead>\n",
       "    <tr style=\"text-align: right;\">\n",
       "      <th></th>\n",
       "      <th>Employer ID</th>\n",
       "      <th>int_mkt</th>\n",
       "      <th>us_mkt</th>\n",
       "      <th>job_mkt</th>\n",
       "    </tr>\n",
       "  </thead>\n",
       "  <tbody>\n",
       "    <tr>\n",
       "      <th>0</th>\n",
       "      <td>40</td>\n",
       "      <td>0</td>\n",
       "      <td>1</td>\n",
       "      <td>Domestic</td>\n",
       "    </tr>\n",
       "    <tr>\n",
       "      <th>1</th>\n",
       "      <td>43</td>\n",
       "      <td>0</td>\n",
       "      <td>1</td>\n",
       "      <td>Domestic</td>\n",
       "    </tr>\n",
       "    <tr>\n",
       "      <th>2</th>\n",
       "      <td>72</td>\n",
       "      <td>0</td>\n",
       "      <td>1</td>\n",
       "      <td>Domestic</td>\n",
       "    </tr>\n",
       "  </tbody>\n",
       "</table>\n",
       "</div>"
      ],
      "text/plain": [
       "   Employer ID  int_mkt  us_mkt   job_mkt\n",
       "0           40        0       1  Domestic\n",
       "1           43        0       1  Domestic\n",
       "2           72        0       1  Domestic"
      ]
     },
     "execution_count": 482,
     "metadata": {},
     "output_type": "execute_result"
    }
   ],
   "source": [
    "print(mkt_dedup.shape, mkt_dedup.drop_duplicates(\"Employer ID\").shape)\n",
    "mkt_dedup.head(3)"
   ]
  },
  {
   "cell_type": "code",
   "execution_count": 483,
   "metadata": {
    "collapsed": false
   },
   "outputs": [],
   "source": [
    "# packages purchased, # renewed, # NA\n",
    "# packages purchased (# time repeated)\n",
    "pkg_dedup = multi_pkg.groupby(\"Employer ID\")[\"Employer ID\"].count().to_frame().rename(columns = {\"Employer ID\": \"# Packages\"}).reset_index()"
   ]
  },
  {
   "cell_type": "code",
   "execution_count": 484,
   "metadata": {
    "collapsed": false
   },
   "outputs": [
    {
     "name": "stdout",
     "output_type": "stream",
     "text": [
      "((2748, 2), (2748, 2))\n",
      "((2748, 3), (299, 2))\n"
     ]
    }
   ],
   "source": [
    "# Check Employer level duplications ;\n",
    "print(pkg_dedup.shape, pkg_dedup.drop_duplicates(\"Employer ID\").shape)"
   ]
  },
  {
   "cell_type": "code",
   "execution_count": 540,
   "metadata": {
    "collapsed": false
   },
   "outputs": [
    {
     "data": {
      "text/plain": [
       "2748"
      ]
     },
     "execution_count": 540,
     "metadata": {},
     "output_type": "execute_result"
    }
   ],
   "source": [
    "# Combine aggregated matrix into 1 df\n",
    "employer_agg = location_dedup.merge(state_dedup, left_on = \"Employer ID\", right_on = \"Employer ID\", how = \"left\")\n",
    "employer_agg = employer_agg.merge(pkg_dedup, left_on = \"Employer ID\", right_on = \"Employer ID\", how = \"left\")\n",
    "employer_agg = employer_agg.merge(mkt_dedup, left_on = \"Employer ID\", right_on = \"Employer ID\", how = \"left\")\n",
    "employer_agg.shape[0]"
   ]
  },
  {
   "cell_type": "code",
   "execution_count": 541,
   "metadata": {
    "collapsed": false
   },
   "outputs": [
    {
     "data": {
      "text/html": [
       "<div>\n",
       "<table border=\"1\" class=\"dataframe\">\n",
       "  <thead>\n",
       "    <tr style=\"text-align: right;\">\n",
       "      <th></th>\n",
       "      <th>Employer ID</th>\n",
       "      <th>Loc count</th>\n",
       "      <th>State count</th>\n",
       "      <th># Packages</th>\n",
       "      <th>int_mkt</th>\n",
       "      <th>us_mkt</th>\n",
       "      <th>job_mkt</th>\n",
       "    </tr>\n",
       "  </thead>\n",
       "  <tbody>\n",
       "    <tr>\n",
       "      <th>0</th>\n",
       "      <td>40</td>\n",
       "      <td>1</td>\n",
       "      <td>1</td>\n",
       "      <td>1</td>\n",
       "      <td>0</td>\n",
       "      <td>1</td>\n",
       "      <td>Domestic</td>\n",
       "    </tr>\n",
       "    <tr>\n",
       "      <th>1</th>\n",
       "      <td>43</td>\n",
       "      <td>1</td>\n",
       "      <td>1</td>\n",
       "      <td>1</td>\n",
       "      <td>0</td>\n",
       "      <td>1</td>\n",
       "      <td>Domestic</td>\n",
       "    </tr>\n",
       "    <tr>\n",
       "      <th>2</th>\n",
       "      <td>72</td>\n",
       "      <td>2</td>\n",
       "      <td>2</td>\n",
       "      <td>2</td>\n",
       "      <td>0</td>\n",
       "      <td>1</td>\n",
       "      <td>Domestic</td>\n",
       "    </tr>\n",
       "    <tr>\n",
       "      <th>3</th>\n",
       "      <td>94</td>\n",
       "      <td>1</td>\n",
       "      <td>1</td>\n",
       "      <td>1</td>\n",
       "      <td>0</td>\n",
       "      <td>1</td>\n",
       "      <td>Domestic</td>\n",
       "    </tr>\n",
       "    <tr>\n",
       "      <th>4</th>\n",
       "      <td>102</td>\n",
       "      <td>1</td>\n",
       "      <td>1</td>\n",
       "      <td>1</td>\n",
       "      <td>1</td>\n",
       "      <td>0</td>\n",
       "      <td>International</td>\n",
       "    </tr>\n",
       "  </tbody>\n",
       "</table>\n",
       "</div>"
      ],
      "text/plain": [
       "   Employer ID  Loc count  State count  # Packages  int_mkt  us_mkt  \\\n",
       "0           40          1            1           1        0       1   \n",
       "1           43          1            1           1        0       1   \n",
       "2           72          2            2           2        0       1   \n",
       "3           94          1            1           1        0       1   \n",
       "4          102          1            1           1        1       0   \n",
       "\n",
       "         job_mkt  \n",
       "0       Domestic  \n",
       "1       Domestic  \n",
       "2       Domestic  \n",
       "3       Domestic  \n",
       "4  International  "
      ]
     },
     "execution_count": 541,
     "metadata": {},
     "output_type": "execute_result"
    }
   ],
   "source": [
    "employer_agg.head()"
   ]
  },
  {
   "cell_type": "code",
   "execution_count": 734,
   "metadata": {
    "collapsed": false
   },
   "outputs": [
    {
     "name": "stdout",
     "output_type": "stream",
     "text": [
      "2748\n",
      "Employer ID                             int64\n",
      "Number of Slots                         int64\n",
      "Price Paid                            float64\n",
      "Marketplace Value Delivered           float64\n",
      "Applications                          float64\n",
      "# Renewed                               int64\n",
      "term                                    int64\n",
      "NA_num                                  int64\n",
      "Last Date                      datetime64[ns]\n",
      "Last #Slots                             int64\n",
      "Last Price Paid                       float64\n",
      "Last MKT Value                        float64\n",
      "Last Apps                             float64\n",
      "End Renewed                             int64\n",
      "last term                               int64\n",
      "Earliest Date                  datetime64[ns]\n",
      "Loc count                               int64\n",
      "State count                             int64\n",
      "# Packages                              int64\n",
      "int_mkt                                 int64\n",
      "us_mkt                                  int64\n",
      "job_mkt                                object\n",
      "dtype: object\n"
     ]
    }
   ],
   "source": [
    "# Combine all multi-package df together\n",
    "employer_all = employer_sum.merge(employer_last, left_on = \"Employer ID\", right_on = \"Employer ID\", how = \"left\")\n",
    "employer_all = employer_all.merge(employer_first, left_on = \"Employer ID\", right_on = \"Employer ID\", how = \"left\")\n",
    "employer_all = employer_all.merge(employer_agg, left_on = \"Employer ID\", right_on = \"Employer ID\", how = \"left\")\n",
    "print(employer_all.shape[0])\n",
    "print(employer_all.dtypes)"
   ]
  },
  {
   "cell_type": "code",
   "execution_count": 551,
   "metadata": {
    "collapsed": false
   },
   "outputs": [
    {
     "data": {
      "text/html": [
       "<div>\n",
       "<table border=\"1\" class=\"dataframe\">\n",
       "  <thead>\n",
       "    <tr style=\"text-align: right;\">\n",
       "      <th></th>\n",
       "      <th>Employer ID</th>\n",
       "      <th>Number of Slots</th>\n",
       "      <th>Price Paid</th>\n",
       "      <th>Marketplace Value Delivered</th>\n",
       "      <th>Applications</th>\n",
       "      <th># Renewed</th>\n",
       "      <th>term</th>\n",
       "      <th>NA_num</th>\n",
       "      <th>Last Date</th>\n",
       "      <th>Last #Slots</th>\n",
       "      <th>...</th>\n",
       "      <th>Last Apps</th>\n",
       "      <th>End Renewed</th>\n",
       "      <th>last term</th>\n",
       "      <th>Earliest Date</th>\n",
       "      <th>Loc count</th>\n",
       "      <th>State count</th>\n",
       "      <th># Packages</th>\n",
       "      <th>int_mkt</th>\n",
       "      <th>us_mkt</th>\n",
       "      <th>job_mkt</th>\n",
       "    </tr>\n",
       "  </thead>\n",
       "  <tbody>\n",
       "    <tr>\n",
       "      <th>0</th>\n",
       "      <td>40</td>\n",
       "      <td>125</td>\n",
       "      <td>67125.0</td>\n",
       "      <td>147711.043445</td>\n",
       "      <td>9647.7</td>\n",
       "      <td>0</td>\n",
       "      <td>394</td>\n",
       "      <td>0</td>\n",
       "      <td>2016-02-29</td>\n",
       "      <td>125</td>\n",
       "      <td>...</td>\n",
       "      <td>9647.7</td>\n",
       "      <td>0</td>\n",
       "      <td>394</td>\n",
       "      <td>2015-02-01</td>\n",
       "      <td>1</td>\n",
       "      <td>1</td>\n",
       "      <td>1</td>\n",
       "      <td>0</td>\n",
       "      <td>1</td>\n",
       "      <td>Domestic</td>\n",
       "    </tr>\n",
       "  </tbody>\n",
       "</table>\n",
       "<p>1 rows × 22 columns</p>\n",
       "</div>"
      ],
      "text/plain": [
       "   Employer ID  Number of Slots  Price Paid  Marketplace Value Delivered  \\\n",
       "0           40              125     67125.0                147711.043445   \n",
       "\n",
       "   Applications  # Renewed  term  NA_num  Last Date  Last #Slots    ...     \\\n",
       "0        9647.7          0   394       0 2016-02-29          125    ...      \n",
       "\n",
       "   Last Apps  End Renewed  last term  Earliest Date  Loc count State count  \\\n",
       "0     9647.7            0        394     2015-02-01          1           1   \n",
       "\n",
       "   # Packages  int_mkt  us_mkt   job_mkt  \n",
       "0           1        0       1  Domestic  \n",
       "\n",
       "[1 rows x 22 columns]"
      ]
     },
     "execution_count": 551,
     "metadata": {},
     "output_type": "execute_result"
    }
   ],
   "source": [
    "# Use the set same data structure for one_pkg\n",
    "employer_all.head(1)"
   ]
  },
  {
   "cell_type": "markdown",
   "metadata": {},
   "source": [
    "### Delivery Performance Matrix\n",
    "#### Application matrix: app/ package, app/day, app/slot\n",
    "#### Cost matrix: Cost per app, Cost per day\n",
    "#### Marketplace Value matrix: Mkt value per app, Mkt value to Cost ratio\n",
    "#### Customer gain: total gain, per day, per app"
   ]
  },
  {
   "cell_type": "markdown",
   "metadata": {},
   "source": [
    "### Job Slot Performance: Application Matrix"
   ]
  },
  {
   "cell_type": "code",
   "execution_count": 735,
   "metadata": {
    "collapsed": false
   },
   "outputs": [],
   "source": [
    "# application/package, application per day, application per slot\n",
    "employer_all[\"app_per_pkg\"] = employer_all[\"Applications\"]/employer_all[\"# Packages\"]\n",
    "employer_all[\"app_per_day\"] = employer_all[\"Applications\"]/employer_all[\"term\"]\n",
    "employer_all[\"app_per_slot\"] = employer_all[\"Applications\"]/ employer_all[\"Number of Slots\"]"
   ]
  },
  {
   "cell_type": "code",
   "execution_count": 565,
   "metadata": {
    "collapsed": false
   },
   "outputs": [],
   "source": [
    "# truncate to 2-3 decimals for new attributes\n",
    "employer_all = employer_all.round({\"app_per_pkg\":2, \"app_per_day\": 2, \"app_per_slot\":2, \"app_per_slot_day\":3})\n",
    "#employer_all.head()"
   ]
  },
  {
   "cell_type": "code",
   "execution_count": 673,
   "metadata": {
    "collapsed": false
   },
   "outputs": [],
   "source": [
    "# Apps\n",
    "def hist_plot(colname,step,category, floor, cap):\n",
    "    temp = employer_all[[\"Employer ID\", colname]]\n",
    "    print(temp[colname].describe(percentiles = [0.01, 0.02, 0.05, 0.1, 0.25,0.5,0.75,0.9,0.95,0.98,0.99]))\n",
    "    pkg_value = [temp[colname].quantile(floor),temp[colname].quantile(cap)]\n",
    "    temp.loc[:, colname + '_mani'] = temp[colname].apply(lambda x: pkg_value[0] if x < pkg_value[0] else x)\n",
    "    temp.loc[:, colname + '_mani'] = temp[colname + '_mani'].apply(lambda x: pkg_value[1] if x > pkg_value[1] else x)\n",
    "    bin_values = np.arange(start= temp[colname + '_mani'].min(), stop=temp[colname + '_mani'].max(), step=step)\n",
    "    app_plot = temp[colname + '_mani'].hist(bins=bin_values, figsize=[10,6])\n",
    "    app_plot.set_title(\"Histogram for \" + category, fontsize = 20)\n",
    "    app_plot.set_xlabel(colname, fontsize = 15)\n",
    "    app_plot.set_ylabel(\"# Count\", fontsize = 15)\n",
    "    #print(temp[colname + '_mani'].max())"
   ]
  },
  {
   "cell_type": "code",
   "execution_count": 657,
   "metadata": {
    "collapsed": false
   },
   "outputs": [
    {
     "name": "stdout",
     "output_type": "stream",
     "text": [
      "count     2748.000000\n",
      "mean      1671.789516\n",
      "std       1753.134281\n",
      "min          0.100000\n",
      "1%          53.714000\n",
      "2%          94.152000\n",
      "5%         215.157500\n",
      "10%        366.510000\n",
      "25%        743.025000\n",
      "50%       1240.500000\n",
      "75%       2043.475000\n",
      "90%       3318.340000\n",
      "95%       4624.920000\n",
      "98%       6283.808000\n",
      "99%       7512.647000\n",
      "max      50686.700000\n",
      "Name: app_per_pkg, dtype: float64\n"
     ]
    },
    {
     "data": {
      "image/png": "[encoded data removed]",
      "text/plain": [
       "<matplotlib.figure.Figure at 0x14817550>"
      ]
     },
     "metadata": {},
     "output_type": "display_data"
    }
   ],
   "source": [
    "hist_plot(\"app_per_pkg\",100,\"Application per Package\",0, 0.95)"
   ]
  },
  {
   "cell_type": "code",
   "execution_count": 656,
   "metadata": {
    "collapsed": false
   },
   "outputs": [
    {
     "name": "stdout",
     "output_type": "stream",
     "text": [
      "count    2748.000000\n",
      "mean        4.800459\n",
      "std         4.889811\n",
      "min         0.000000\n",
      "1%          0.204700\n",
      "2%          0.400000\n",
      "5%          0.790000\n",
      "10%         1.210000\n",
      "25%         2.197500\n",
      "50%         3.570000\n",
      "75%         5.900000\n",
      "90%         9.449000\n",
      "95%        12.823000\n",
      "98%        17.615000\n",
      "99%        21.144200\n",
      "max       138.490000\n",
      "Name: app_per_day, dtype: float64\n"
     ]
    },
    {
     "data": {
      "image/png": "[encoded data removed]",
      "text/plain": [
       "<matplotlib.figure.Figure at 0x1458d278>"
      ]
     },
     "metadata": {},
     "output_type": "display_data"
    }
   ],
   "source": [
    "hist_plot(\"app_per_day\",0.25,\"Application per day\",0, 0.99)"
   ]
  },
  {
   "cell_type": "code",
   "execution_count": 655,
   "metadata": {
    "collapsed": false
   },
   "outputs": [
    {
     "name": "stdout",
     "output_type": "stream",
     "text": [
      "count    2748.000000\n",
      "mean       50.292857\n",
      "std        26.648375\n",
      "min         0.000000\n",
      "1%          3.015200\n",
      "2%          4.888200\n",
      "5%         10.750500\n",
      "10%        17.628000\n",
      "25%        32.380000\n",
      "50%        49.065000\n",
      "75%        65.400000\n",
      "90%        81.976000\n",
      "95%        94.313500\n",
      "98%       108.247400\n",
      "99%       117.696500\n",
      "max       506.870000\n",
      "Name: app_per_slot, dtype: float64\n"
     ]
    },
    {
     "data": {
      "image/png": "[encoded data removed]",
      "text/plain": [
       "<matplotlib.figure.Figure at 0x14817550>"
      ]
     },
     "metadata": {},
     "output_type": "display_data"
    }
   ],
   "source": [
    "hist_plot(\"app_per_slot\",2,\"Application per Slot\",0, 0.99)"
   ]
  },
  {
   "cell_type": "code",
   "execution_count": null,
   "metadata": {
    "collapsed": true
   },
   "outputs": [],
   "source": [
    "#### Cost matrix: Cost per app, Cost per day"
   ]
  },
  {
   "cell_type": "code",
   "execution_count": 736,
   "metadata": {
    "collapsed": false
   },
   "outputs": [],
   "source": [
    "employer_all[\"Cost_per_app\"] = employer_all[\"Price Paid\"]/employer_all[\"Applications\"]\n",
    "employer_all[\"Cost_per_pkg\"] = employer_all[\"Price Paid\"]/employer_all[\"# Packages\"]\n",
    "employer_all[\"Cost_per_day\"] = employer_all[\"Price Paid\"]/employer_all[\"term\"]\n",
    "employer_all[\"Cost_per_slot\"] = employer_all[\"Price Paid\"]/employer_all[\"Number of Slots\"]\n",
    "#employer_all.head(5)"
   ]
  },
  {
   "cell_type": "code",
   "execution_count": 661,
   "metadata": {
    "collapsed": true
   },
   "outputs": [],
   "source": [
    "# truncate to 2-3 decimals for new attributes\n",
    "employer_all = employer_all.round({\"Cost_per_app\":3, \"Cost_per_pkg\": 0, \"Cost_per_day\":3, \"Cost_per_day\":0, \"Cost_per_slot\":0})"
   ]
  },
  {
   "cell_type": "code",
   "execution_count": 675,
   "metadata": {
    "collapsed": false
   },
   "outputs": [
    {
     "name": "stdout",
     "output_type": "stream",
     "text": [
      "count      2748.000000\n",
      "mean        181.399993\n",
      "std        5112.280605\n",
      "min           1.624000\n",
      "1%            6.475810\n",
      "2%            7.000400\n",
      "5%            7.837900\n",
      "10%           8.783700\n",
      "25%          10.624250\n",
      "50%          13.809500\n",
      "75%          20.950250\n",
      "90%          37.992900\n",
      "95%          65.376300\n",
      "98%         147.428380\n",
      "99%         243.278030\n",
      "max      214800.000000\n",
      "Name: Cost_per_app, dtype: float64\n"
     ]
    },
    {
     "data": {
      "image/png": "[encoded data removed]",
      "text/plain": [
       "<matplotlib.figure.Figure at 0x10dc6160>"
      ]
     },
     "metadata": {},
     "output_type": "display_data"
    }
   ],
   "source": [
    "hist_plot(\"Cost_per_app\",1,\"Cost per App ($)\",0,  0.95)"
   ]
  },
  {
   "cell_type": "code",
   "execution_count": 679,
   "metadata": {
    "collapsed": false
   },
   "outputs": [
    {
     "name": "stdout",
     "output_type": "stream",
     "text": [
      "count      2748.000000\n",
      "mean      22225.608443\n",
      "std       15410.237451\n",
      "min        1432.000000\n",
      "1%        10069.000000\n",
      "2%        10740.000000\n",
      "5%        10740.000000\n",
      "10%       10740.000000\n",
      "25%       13425.000000\n",
      "50%       17005.000000\n",
      "75%       26850.000000\n",
      "90%       40275.000000\n",
      "95%       53700.000000\n",
      "98%       67125.000000\n",
      "99%       80550.000000\n",
      "max      273870.000000\n",
      "Name: Cost_per_pkg, dtype: float64\n"
     ]
    },
    {
     "data": {
      "image/png": "[encoded data removed]",
      "text/plain": [
       "<matplotlib.figure.Figure at 0x15917c88>"
      ]
     },
     "metadata": {},
     "output_type": "display_data"
    }
   ],
   "source": [
    "hist_plot(\"Cost_per_pkg\",2500,\"Cost per Package ($)\",0,  0.98)"
   ]
  },
  {
   "cell_type": "code",
   "execution_count": 686,
   "metadata": {
    "collapsed": false
   },
   "outputs": [
    {
     "name": "stdout",
     "output_type": "stream",
     "text": [
      "count     2748.000000\n",
      "mean       725.492722\n",
      "std        387.581325\n",
      "min         54.000000\n",
      "1%         293.350000\n",
      "2%         358.000000\n",
      "5%         490.350000\n",
      "10%        537.000000\n",
      "25%        609.000000\n",
      "50%        716.000000\n",
      "75%        806.000000\n",
      "90%        955.000000\n",
      "95%       1074.000000\n",
      "98%       1217.600000\n",
      "99%       1353.420000\n",
      "max      18258.000000\n",
      "Name: Cost_per_slot, dtype: float64\n"
     ]
    },
    {
     "data": {
      "image/png": "[encoded data removed]",
      "text/plain": [
       "<matplotlib.figure.Figure at 0x16638cf8>"
      ]
     },
     "metadata": {},
     "output_type": "display_data"
    }
   ],
   "source": [
    "hist_plot(\"Cost_per_slot\",50,\"Cost per Slot ($)\",0.01, 0.99)"
   ]
  },
  {
   "cell_type": "code",
   "execution_count": 691,
   "metadata": {
    "collapsed": false
   },
   "outputs": [
    {
     "name": "stdout",
     "output_type": "stream",
     "text": [
      "count    2748.000000\n",
      "mean       68.872271\n",
      "std        78.653980\n",
      "min        25.000000\n",
      "1%         29.000000\n",
      "2%         29.000000\n",
      "5%         29.000000\n",
      "10%        29.000000\n",
      "25%        37.000000\n",
      "50%        49.000000\n",
      "75%        77.250000\n",
      "90%       123.000000\n",
      "95%       158.650000\n",
      "98%       212.180000\n",
      "99%       262.650000\n",
      "max      2983.000000\n",
      "Name: Cost_per_day, dtype: float64\n"
     ]
    },
    {
     "data": {
      "image/png": "[encoded data removed]",
      "text/plain": [
       "<matplotlib.figure.Figure at 0x138a8ef0>"
      ]
     },
     "metadata": {},
     "output_type": "display_data"
    }
   ],
   "source": [
    "hist_plot(\"Cost_per_day\",3,\"Cost per Day ($)\",0, 0.95)"
   ]
  },
  {
   "cell_type": "code",
   "execution_count": null,
   "metadata": {
    "collapsed": true
   },
   "outputs": [],
   "source": [
    "#### Marketplace Value matrix: Mkt value per app, Mkt value to Cost ratio"
   ]
  },
  {
   "cell_type": "code",
   "execution_count": 753,
   "metadata": {
    "collapsed": false
   },
   "outputs": [],
   "source": [
    "employer_all[\"MV_per_app\"] = employer_all[\"Marketplace Value Delivered\"]/employer_all[\"Applications\"]\n",
    "employer_all[\"MV_Cost\"] = employer_all[\"Marketplace Value Delivered\"]/employer_all[\"Price Paid\"]\n",
    "employer_all[\"MV_pkg\"] = employer_all[\"Marketplace Value Delivered\"]/employer_all[\"# Packages\"]\n",
    "#employer_all.head(3)"
   ]
  },
  {
   "cell_type": "code",
   "execution_count": 698,
   "metadata": {
    "collapsed": true
   },
   "outputs": [],
   "source": [
    "# truncate to 2-3 decimals for new attributes\n",
    "employer_all = employer_all.round({\"MV_per_app\":2, \"MV_Cost\": 3})"
   ]
  },
  {
   "cell_type": "code",
   "execution_count": 700,
   "metadata": {
    "collapsed": false
   },
   "outputs": [
    {
     "name": "stdout",
     "output_type": "stream",
     "text": [
      "count    2748.000000\n",
      "mean       12.745360\n",
      "std         3.288512\n",
      "min         3.250000\n",
      "1%          5.897600\n",
      "2%          6.528800\n",
      "5%          7.450000\n",
      "10%         8.500000\n",
      "25%        10.530000\n",
      "50%        12.680000\n",
      "75%        14.900000\n",
      "90%        16.933000\n",
      "95%        18.026500\n",
      "98%        19.210000\n",
      "99%        20.200600\n",
      "max        47.900000\n",
      "Name: MV_per_app, dtype: float64\n"
     ]
    },
    {
     "data": {
      "image/png": "[encoded data removed]",
      "text/plain": [
       "<matplotlib.figure.Figure at 0x148099e8>"
      ]
     },
     "metadata": {},
     "output_type": "display_data"
    }
   ],
   "source": [
    "hist_plot(\"MV_per_app\",1,\"Market Value per App ($)\",0, 0.99)"
   ]
  },
  {
   "cell_type": "code",
   "execution_count": 704,
   "metadata": {
    "collapsed": false
   },
   "outputs": [
    {
     "name": "stdout",
     "output_type": "stream",
     "text": [
      "count    2748.000000\n",
      "mean        0.891144\n",
      "std         0.476176\n",
      "min         0.000000\n",
      "1%          0.047470\n",
      "2%          0.077940\n",
      "5%          0.194700\n",
      "10%         0.331000\n",
      "25%         0.602000\n",
      "50%         0.853500\n",
      "75%         1.148250\n",
      "90%         1.455000\n",
      "95%         1.671950\n",
      "98%         1.960480\n",
      "99%         2.164120\n",
      "max         9.618000\n",
      "Name: MV_Cost, dtype: float64\n"
     ]
    },
    {
     "data": {
      "image/png": "[encoded data removed]",
      "text/plain": [
       "<matplotlib.figure.Figure at 0x147f8cf8>"
      ]
     },
     "metadata": {},
     "output_type": "display_data"
    }
   ],
   "source": [
    "hist_plot(\"MV_Cost\",0.05,\"Market Value per App ($)\",0, 0.99)"
   ]
  },
  {
   "cell_type": "code",
   "execution_count": null,
   "metadata": {
    "collapsed": true
   },
   "outputs": [],
   "source": [
    "#### Customer gain: total gain, per day, per app"
   ]
  },
  {
   "cell_type": "code",
   "execution_count": 752,
   "metadata": {
    "collapsed": true
   },
   "outputs": [],
   "source": [
    "employer_all[\"Employer_Gain\"] = employer_all[\"Marketplace Value Delivered\"] - employer_all[\"Price Paid\"]\n",
    "employer_all[\"Gain_per_app\"] = employer_all[\"Employer_Gain\"]/employer_all[\"Applications\"]\n",
    "employer_all[\"Gain_per_day\"] = employer_all[\"Employer_Gain\"]/employer_all[\"term\"]\n",
    "employer_all[\"Gain_per_pkg\"] = employer_all[\"Employer_Gain\"]/employer_all[\"# Packages\"]\n",
    "employer_all[\"ROI\"] = employer_all[\"Employer_Gain\"]/ employer_all[\"Price Paid\"]\n",
    "#employer_all.head(3)"
   ]
  },
  {
   "cell_type": "code",
   "execution_count": 709,
   "metadata": {
    "collapsed": false
   },
   "outputs": [
    {
     "name": "stdout",
     "output_type": "stream",
     "text": [
      "count      2748.000000\n",
      "mean      -1896.933347\n",
      "std       19336.996676\n",
      "min     -256445.363140\n",
      "1%       -35876.808959\n",
      "2%       -30013.592514\n",
      "5%       -19676.861042\n",
      "10%      -13908.175409\n",
      "25%       -7816.150454\n",
      "50%       -2822.282259\n",
      "75%        2824.403413\n",
      "90%        9992.431203\n",
      "95%       16357.376390\n",
      "98%       30652.978655\n",
      "99%       43873.628891\n",
      "max      709627.907879\n",
      "Name: Employer_Gain, dtype: float64\n"
     ]
    },
    {
     "data": {
      "image/png": "[encoded data removed]",
      "text/plain": [
       "<matplotlib.figure.Figure at 0x12e4ef60>"
      ]
     },
     "metadata": {},
     "output_type": "display_data"
    }
   ],
   "source": [
    "hist_plot(\"Employer_Gain\",1000,\"Employer Total Value Gain ($)\",0.01, 0.98)"
   ]
  },
  {
   "cell_type": "code",
   "execution_count": 714,
   "metadata": {
    "collapsed": false
   },
   "outputs": [
    {
     "name": "stdout",
     "output_type": "stream",
     "text": [
      "count      2748.000000\n",
      "mean       -168.654560\n",
      "std        5112.127233\n",
      "min     -214774.224000\n",
      "1%         -232.722300\n",
      "2%         -133.623835\n",
      "5%          -51.444595\n",
      "10%         -24.293628\n",
      "25%          -7.651671\n",
      "50%          -1.955134\n",
      "75%           1.628989\n",
      "90%           4.411632\n",
      "95%           5.989648\n",
      "98%           7.796012\n",
      "99%           8.725533\n",
      "max          22.042395\n",
      "Name: Gain_per_app, dtype: float64\n"
     ]
    },
    {
     "data": {
      "image/png": "[encoded data removed]",
      "text/plain": [
       "<matplotlib.figure.Figure at 0x145f1780>"
      ]
     },
     "metadata": {},
     "output_type": "display_data"
    }
   ],
   "source": [
    "hist_plot(\"Gain_per_app\",1,\"Employer Gain per app ($)\",0.05, 0.99)"
   ]
  },
  {
   "cell_type": "code",
   "execution_count": 717,
   "metadata": {
    "collapsed": false
   },
   "outputs": [
    {
     "name": "stdout",
     "output_type": "stream",
     "text": [
      "count    2748.000000\n",
      "mean       -9.431235\n",
      "std        83.674318\n",
      "min     -2962.127800\n",
      "1%       -136.833494\n",
      "2%       -105.443511\n",
      "5%        -62.525552\n",
      "10%       -40.579817\n",
      "25%       -21.046219\n",
      "50%        -7.392959\n",
      "75%         7.587920\n",
      "90%        26.080911\n",
      "95%        41.798550\n",
      "98%        77.372196\n",
      "99%       114.887091\n",
      "max      1938.874065\n",
      "Name: Gain_per_day, dtype: float64\n"
     ]
    },
    {
     "data": {
      "image/png": "[encoded data removed]",
      "text/plain": [
       "<matplotlib.figure.Figure at 0x10acb438>"
      ]
     },
     "metadata": {},
     "output_type": "display_data"
    }
   ],
   "source": [
    "hist_plot(\"Gain_per_day\",2,\"Employer Gain per day ($)\",0.01, 0.99)"
   ]
  },
  {
   "cell_type": "code",
   "execution_count": 723,
   "metadata": {
    "collapsed": false
   },
   "outputs": [
    {
     "name": "stdout",
     "output_type": "stream",
     "text": [
      "count    2748.000000\n",
      "mean       -0.108844\n",
      "std         0.476172\n",
      "min        -0.999945\n",
      "1%         -0.952281\n",
      "2%         -0.922184\n",
      "5%         -0.805464\n",
      "10%        -0.668987\n",
      "25%        -0.398335\n",
      "50%        -0.146619\n",
      "75%         0.148635\n",
      "90%         0.455324\n",
      "95%         0.671733\n",
      "98%         0.960468\n",
      "99%         1.164322\n",
      "max         8.618265\n",
      "Name: ROI, dtype: float64\n"
     ]
    },
    {
     "data": {
      "image/png": "[encoded data removed]",
      "text/plain": [
       "<matplotlib.figure.Figure at 0x13136780>"
      ]
     },
     "metadata": {},
     "output_type": "display_data"
    }
   ],
   "source": [
    "hist_plot(\"ROI\",0.02,\"Return on Price Paid on Job Slot Packages($)\",0.01, 0.98)"
   ]
  },
  {
   "cell_type": "code",
   "execution_count": null,
   "metadata": {
    "collapsed": true
   },
   "outputs": [],
   "source": [
    "# Scattered plot"
   ]
  },
  {
   "cell_type": "code",
   "execution_count": null,
   "metadata": {
    "collapsed": true
   },
   "outputs": [],
   "source": []
  },
  {
   "cell_type": "code",
   "execution_count": 760,
   "metadata": {
    "collapsed": false
   },
   "outputs": [],
   "source": []
  },
  {
   "cell_type": "markdown",
   "metadata": {},
   "source": [
    "## PART 2:  RETENTION ANALYSIS"
   ]
  },
  {
   "cell_type": "markdown",
   "metadata": {},
   "source": [
    "### What factor or combination of factors best predict likelihood to retain (i.e., Renewed = 1)?  "
   ]
  },
  {
   "cell_type": "code",
   "execution_count": 999,
   "metadata": {
    "collapsed": false
   },
   "outputs": [
    {
     "name": "stdout",
     "output_type": "stream",
     "text": [
      "(2748, 5)\n",
      "(2748, 41)\n"
     ]
    }
   ],
   "source": [
    "# target variable: Last_renewed\n",
    "# Correlated attributes\n",
    "# Overall delivery value, Job location, last-time package performance, completition, previous renew history (renew rate)\n",
    "# Choose top 4 locations\n",
    "job[\"CA\"] = job[\"Employer State\"].apply(lambda x: 1 if x == \"California\" else 0)\n",
    "job[\"NY\"] = job[\"Employer State\"].apply(lambda x: 1 if x == \"New York State\" else 0)\n",
    "job[\"FL\"] = job[\"Employer State\"].apply(lambda x: 1 if x == \"Florida\" else 0)\n",
    "job[\"TX\"] = job[\"Employer State\"].apply(lambda x: 1 if x == \"Texas\" else 0)\n",
    "employer_top4loc = job.groupby(\"Employer ID\")[\"CA\",\"NY\",\"FL\",\"TX\"].sum().reset_index()\n",
    "print(employer_top4loc.shape)\n",
    "employer_model = employer_all.merge(employer_top4loc, left_on = \"Employer ID\", right_on = \"Employer ID\", how = \"left\")\n",
    "print(employer_model.shape)"
   ]
  },
  {
   "cell_type": "code",
   "execution_count": 742,
   "metadata": {
    "collapsed": false
   },
   "outputs": [
    {
     "data": {
      "text/html": [
       "<div>\n",
       "<table border=\"1\" class=\"dataframe\">\n",
       "  <thead>\n",
       "    <tr style=\"text-align: right;\">\n",
       "      <th></th>\n",
       "      <th>Employer ID</th>\n",
       "      <th>Number of Slots</th>\n",
       "      <th>Price Paid</th>\n",
       "      <th>Marketplace Value Delivered</th>\n",
       "      <th>Applications</th>\n",
       "      <th># Renewed</th>\n",
       "      <th>term</th>\n",
       "      <th>NA_num</th>\n",
       "      <th>Last Date</th>\n",
       "      <th>Last #Slots</th>\n",
       "      <th>...</th>\n",
       "      <th>MV_per_app</th>\n",
       "      <th>MV_Cost</th>\n",
       "      <th>Employer_Gain</th>\n",
       "      <th>Gain_per_app</th>\n",
       "      <th>Gain_per_day</th>\n",
       "      <th>ROI</th>\n",
       "      <th>CA</th>\n",
       "      <th>NY</th>\n",
       "      <th>FL</th>\n",
       "      <th>TX</th>\n",
       "    </tr>\n",
       "  </thead>\n",
       "  <tbody>\n",
       "    <tr>\n",
       "      <th>0</th>\n",
       "      <td>40</td>\n",
       "      <td>125</td>\n",
       "      <td>67125.0</td>\n",
       "      <td>147711.043445</td>\n",
       "      <td>9647.7</td>\n",
       "      <td>0</td>\n",
       "      <td>394</td>\n",
       "      <td>0</td>\n",
       "      <td>2016-02-29</td>\n",
       "      <td>125</td>\n",
       "      <td>...</td>\n",
       "      <td>15.310493</td>\n",
       "      <td>2.200537</td>\n",
       "      <td>80586.043445</td>\n",
       "      <td>8.352876</td>\n",
       "      <td>204.533105</td>\n",
       "      <td>1.200537</td>\n",
       "      <td>1</td>\n",
       "      <td>0</td>\n",
       "      <td>0</td>\n",
       "      <td>0</td>\n",
       "    </tr>\n",
       "  </tbody>\n",
       "</table>\n",
       "<p>1 rows × 39 columns</p>\n",
       "</div>"
      ],
      "text/plain": [
       "   Employer ID  Number of Slots  Price Paid  Marketplace Value Delivered  \\\n",
       "0           40              125     67125.0                147711.043445   \n",
       "\n",
       "   Applications  # Renewed  term  NA_num  Last Date  Last #Slots ...  \\\n",
       "0        9647.7          0   394       0 2016-02-29          125 ...   \n",
       "\n",
       "   MV_per_app   MV_Cost  Employer_Gain  Gain_per_app  Gain_per_day       ROI  \\\n",
       "0   15.310493  2.200537   80586.043445      8.352876    204.533105  1.200537   \n",
       "\n",
       "   CA  NY  FL  TX  \n",
       "0   1   0   0   0  \n",
       "\n",
       "[1 rows x 39 columns]"
      ]
     },
     "execution_count": 742,
     "metadata": {},
     "output_type": "execute_result"
    }
   ],
   "source": [
    "employer_model.head(1)"
   ]
  },
  {
   "cell_type": "code",
   "execution_count": 1001,
   "metadata": {
    "collapsed": false
   },
   "outputs": [],
   "source": [
    "# Calculated attributes for the latest contract\n",
    "employer_model[\"last_total_Gain\"] = employer_model[\"Last MKT Value\"] - employer_model[\"Last Price Paid\"]\n",
    "employer_model[\"last_ROI\"] = employer_model[\"last_total_Gain\"]/employer_model[\"Last Price Paid\"]\n",
    "employer_model[\"last_gain_day\"] = employer_model[\"last_total_Gain\"]/employer_model[\"last term\"]\n",
    "employer_model[\"last_gain_app\"] = employer_model[\"last_total_Gain\"]/employer_model[\"Last Apps\"]\n",
    "employer_model[\"last_cost_app\"] = employer_model[\"Last Price Paid\"]/employer_model[\"Last Apps\"]\n",
    "employer_model[\"last_cost_day\"] = employer_model[\"Last Price Paid\"]/employer_model[\"last term\"]\n",
    "employer_model[\"last_MKT_app\"] = employer_model[\"Last MKT Value\"]/ employer_model[\"Last Apps\"]\n",
    "employer_model[\"last_MKT_day\"] = employer_model[\"Last MKT Value\"]/ employer_model[\"last term\"]\n",
    "employer_model[\"last_app_day\"] = employer_model[\"Last Apps\"]/employer_model[\"last term\"]\n",
    "# Calculated attributes for overall performance\n",
    "employer_model[\"total_hist\"] = employer_model.apply(lambda row: day_between(row[\"Earliest Date\"], row[\"Last Date\"]), axis = 1)\n",
    "employer_model[\"# prev renew\"] = employer_model[\"# Renewed\"] - employer_model[\"End Renewed\"]\n",
    "employer_model[\"term per package\"] = employer_model[\"term\"]/employer_model[\"# Packages\"]"
   ]
  },
  {
   "cell_type": "code",
   "execution_count": 1215,
   "metadata": {
    "collapsed": false
   },
   "outputs": [
    {
     "data": {
      "text/plain": [
       "Employer ID                             int64\n",
       "Number of Slots                         int64\n",
       "Price Paid                            float64\n",
       "Marketplace Value Delivered           float64\n",
       "Applications                          float64\n",
       "# Renewed                               int64\n",
       "term                                    int64\n",
       "NA_num                                  int64\n",
       "Last Date                      datetime64[ns]\n",
       "Last #Slots                             int64\n",
       "Last Price Paid                       float64\n",
       "Last MKT Value                        float64\n",
       "Last Apps                             float64\n",
       "End Renewed                             int64\n",
       "last term                               int64\n",
       "Earliest Date                  datetime64[ns]\n",
       "Loc count                               int64\n",
       "State count                             int64\n",
       "# Packages                              int64\n",
       "int_mkt                                 int64\n",
       "us_mkt                                  int64\n",
       "job_mkt                                object\n",
       "app_per_pkg                           float64\n",
       "app_per_day                           float64\n",
       "app_per_slot                          float64\n",
       "Cost_per_app                          float64\n",
       "Cost_per_pkg                          float64\n",
       "Cost_per_day                          float64\n",
       "Cost_per_slot                         float64\n",
       "MV_per_app                            float64\n",
       "                                    ...      \n",
       "last_total_Gain                       float64\n",
       "last_ROI                              float64\n",
       "last_gain_day                         float64\n",
       "last_gain_app                         float64\n",
       "last_cost_app                         float64\n",
       "last_cost_day                         float64\n",
       "last_MKT_app                          float64\n",
       "last_MKT_day                          float64\n",
       "last_app_day                          float64\n",
       "total_hist                              int64\n",
       "# prev renew                            int64\n",
       "term per package                      float64\n",
       "prev renew rate                         int64\n",
       "multi_pack                              int64\n",
       "multi_pack_prev_renew_rate              int64\n",
       "Both                                    uint8\n",
       "Domestic                                uint8\n",
       "International                           uint8\n",
       "Unknown                                 uint8\n",
       "retained                                int64\n",
       "last_renew                              int64\n",
       "last_total_gain_renew                 float64\n",
       "last_ROI_renew                        float64\n",
       "last_gain_day_renew                   float64\n",
       "last_gain_app_renew                   float64\n",
       "last_cost_app_renew                   float64\n",
       "last_cost_day_renew                   float64\n",
       "last_MKT_app_renew                    float64\n",
       "last_MKT_day_renew                    float64\n",
       "last_app_day_renew                    float64\n",
       "dtype: object"
      ]
     },
     "execution_count": 1215,
     "metadata": {},
     "output_type": "execute_result"
    }
   ],
   "source": [
    "employer_model.dtypes"
   ]
  },
  {
   "cell_type": "code",
   "execution_count": 1218,
   "metadata": {
    "collapsed": false
   },
   "outputs": [],
   "source": [
    "# last time value only applies for populaton with renews\n",
    "employer_model[\"last_renew\"] = employer_model[\"# prev renew\"].apply(lambda x: 1 if x > 0 else 0)\n",
    "employer_model[\"last_total_gain_renew\"] = employer_model[\"last_total_Gain\"] * employer_model[\"last_renew\"]\n",
    "employer_model[\"last_ROI_renew\"] = employer_model[\"last_ROI\"] * employer_model[\"last_renew\"]\n",
    "employer_model[\"last_gain_day_renew\"] = employer_model[\"last_gain_day\"] * employer_model[\"last_renew\"]\n",
    "employer_model[\"last_gain_app_renew\"] = employer_model[\"last_gain_app\"] * employer_model[\"last_renew\"]\n",
    "employer_model[\"last_cost_app_renew\"] = employer_model[\"last_cost_app\"] * employer_model[\"last_renew\"]\n",
    "employer_model[\"last_cost_day_renew\"] = employer_model[\"last_cost_day\"] * employer_model[\"last_renew\"]\n",
    "employer_model[\"last_MKT_app_renew\"] = employer_model[\"last_MKT_app\"] * employer_model[\"last_renew\"]\n",
    "employer_model[\"last_MKT_day_renew\"] = employer_model[\"last_MKT_day\"] * employer_model[\"last_renew\"]\n",
    "employer_model[\"last_app_day_renew\"] = employer_model[\"last_app_day\"] * employer_model[\"last_renew\"]\n",
    "employer_model[\"Last #Slots_renew\"] = employer_model[\"Last #Slots\"] * employer_model[\"last_renew\"]\n",
    "employer_model[\"Last Price Paid_renew\"] = employer_model[\"Last Price Paid\"] * employer_model[\"last_renew\"]\n",
    "employer_model[\"Last MKT value_renew\"] = employer_model[\"Last MKT Value\"] * employer_model[\"last_renew\"]\n",
    "employer_model[\"Last Apps_renew\"] = employer_model[\"Last Apps\"] * employer_model[\"last_renew\"]\n",
    "employer_model[\"Last term_renew\"] = employer_model[\"last term\"] * employer_model[\"last_renew\"]\n",
    "employer_model[\"total_hist_renew\"] = employer_model[\"total_hist\"] * employer_model[\"last_renew\"]"
   ]
  },
  {
   "cell_type": "code",
   "execution_count": 1002,
   "metadata": {
    "collapsed": false
   },
   "outputs": [],
   "source": [
    "def renew_rate(row):\n",
    "    if row[\"# Packages\"] == 1:\n",
    "        return -1\n",
    "    else:\n",
    "        return row[\"# prev renew\"]/(row[\"# Packages\"] - 1)\n",
    "employer_model[\"prev renew rate\"] = employer_model.apply(lambda row: renew_rate(row), axis = 1)\n",
    "# multiple package\n",
    "employer_model[\"multi_pack\"] = employer_model[\"# Packages\"].apply(lambda x: 1 if x > 1 else 0)\n",
    "employer_model[\"multi_pack_prev_renew_rate\"] = employer_model[\"multi_pack\"] * employer_model[\"prev renew rate\"]"
   ]
  },
  {
   "cell_type": "code",
   "execution_count": 1003,
   "metadata": {
    "collapsed": false
   },
   "outputs": [],
   "source": [
    "# get dummy variables for job market\n",
    "employer_model = pd.concat([employer_model,pd.get_dummies(employer_model[\"job_mkt\"])],axis = 1)"
   ]
  },
  {
   "cell_type": "code",
   "execution_count": 1004,
   "metadata": {
    "collapsed": false
   },
   "outputs": [
    {
     "data": {
      "text/plain": [
       "1    1780\n",
       "0     959\n",
       "2       8\n",
       "3       1\n",
       "Name: End Renewed, dtype: int64"
      ]
     },
     "execution_count": 1004,
     "metadata": {},
     "output_type": "execute_result"
    }
   ],
   "source": [
    "# Check target attributes\n",
    "employer_model[\"End Renewed\"].value_counts()"
   ]
  },
  {
   "cell_type": "code",
   "execution_count": 1005,
   "metadata": {
    "collapsed": false
   },
   "outputs": [
    {
     "data": {
      "text/plain": [
       "0.651018922852984"
      ]
     },
     "execution_count": 1005,
     "metadata": {},
     "output_type": "execute_result"
    }
   ],
   "source": [
    "# Define target variable: End Renewed > 1 (in the last contract, whether Employer renewed the contract in the end\n",
    "employer_model[\"retained\"] = employer_model[\"End Renewed\"].apply(lambda x: 1 if x >= 1 else 0)\n",
    "employer_model[\"retained\"].mean()"
   ]
  },
  {
   "cell_type": "code",
   "execution_count": 1006,
   "metadata": {
    "collapsed": false
   },
   "outputs": [
    {
     "data": {
      "text/plain": [
       "0"
      ]
     },
     "execution_count": 1006,
     "metadata": {},
     "output_type": "execute_result"
    }
   ],
   "source": [
    "# Check null value for attributes\n",
    "employer_model.isnull().sum().sum()"
   ]
  },
  {
   "cell_type": "code",
   "execution_count": 1263,
   "metadata": {
    "collapsed": false
   },
   "outputs": [],
   "source": [
    "# Independent variables\n",
    "dropcol = [\"last_renew\",\"last_total_Gain\",\"last_ROI\",\"last_gain_day\",\"last_gain_app\",\"last_cost_app\",\"last_cost_day\",\n",
    "           \"last_MKT_app\",\"last_MKT_day\",\"last_app_day\",\n",
    "           \"Last #Slots\", \"Last Price Paid\",\"Last MKT Value\", \"Last Apps\", \"last term\", \"total_hist\",\n",
    "           \"Employer ID\", \"Employer ID\",\"Last Date\",\"Earliest Date\",\"# Renewed\",\"int_mkt\",\"us_mkt\",\n",
    "           \"job_mkt\",\"retained\", \"End Renewed\", \"app_per_slot\"]\n",
    "X,y = employer_model.drop(dropcol,axis = 1), employer_model[\"retained\"]==1"
   ]
  },
  {
   "cell_type": "code",
   "execution_count": 1264,
   "metadata": {
    "collapsed": false
   },
   "outputs": [
    {
     "name": "stdout",
     "output_type": "stream",
     "text": [
      "(1923, 825)\n"
     ]
    }
   ],
   "source": [
    "# Generate train/validation samples\n",
    "X_train, X_test, y_train, y_test = train_test_split(X, y,random_state = 0, test_size= 0.3)\n",
    "print(X_train.shape[0], X_test.shape[0])"
   ]
  },
  {
   "cell_type": "code",
   "execution_count": 1265,
   "metadata": {
    "collapsed": false
   },
   "outputs": [
    {
     "data": {
      "text/plain": [
       "(0.65106604264170564, 0.65090909090909088)"
      ]
     },
     "execution_count": 1265,
     "metadata": {},
     "output_type": "execute_result"
    }
   ],
   "source": [
    "y_train.mean(), y_test.mean()"
   ]
  },
  {
   "cell_type": "code",
   "execution_count": 1266,
   "metadata": {
    "collapsed": false
   },
   "outputs": [],
   "source": [
    "from sklearn import cross_validation\n",
    "from sklearn import metrics"
   ]
  },
  {
   "cell_type": "code",
   "execution_count": 1267,
   "metadata": {
    "collapsed": true
   },
   "outputs": [],
   "source": [
    "def modelfit(alg, X_train, y_train, X_test, y_test, performCV=True, printFeatureImportance=True, cv_folds=5):\n",
    "#Fit the algorithm on the data\n",
    "    alg.fit(X_train, y_train)\n",
    "        \n",
    "    #Predict training set:\n",
    "    train_predictions = alg.predict(X_train)\n",
    "    train_predprob = alg.predict_proba(X_train)[:,1]\n",
    "    test_predictions = alg.predict(X_test)\n",
    "    test_predprob = alg.predict_proba(X_test)[:,1]\n",
    "    \n",
    "#     #Perform cross-validation:\n",
    "    if performCV:\n",
    "        cv_score = cross_validation.cross_val_score(alg, X_train, y_train, cv=cv_folds, scoring='roc_auc')\n",
    "    \n",
    "    #Print model report:\n",
    "    print \"\\nModel Report\"\n",
    "    print \"Accuracy(Train): %.4g\" % metrics.accuracy_score(y_train.values, train_predictions)\n",
    "    print \"Accuracy(Test) : %.4g\" % metrics.accuracy_score(y_test.values, test_predictions)\n",
    "    print \"Precision(Train): %.4g\" % metrics.precision_score(y_train.values, train_predictions)\n",
    "    print \"Precision(Test): %.4g\" % metrics.precision_score(y_test.values, test_predictions)\n",
    "    print \"Recall(Train): %.4g\" % metrics.recall_score(y_train.values, train_predictions)\n",
    "    print \"Recall(Test): %.4g\" % metrics.recall_score(y_test.values, test_predictions)        \n",
    "    print \"AUC Score (Train): %f\" % metrics.roc_auc_score(y_train, train_predprob)\n",
    "    print \"AUC Score (Test): %f\" % metrics.roc_auc_score(y_test, test_predprob)\n",
    "    \n",
    "    \n",
    "    if performCV:\n",
    "        print \"CV Score : Mean - %.7g | Std - %.7g | Min - %.7g | Max - %.7g\" % (np.mean(cv_score),np.std(cv_score),np.min(cv_score),np.max(cv_score))\n",
    "        \n",
    "    #Print Feature Importance:\n",
    "    if printFeatureImportance:\n",
    "        feat_imp = pd.Series(alg.feature_importances_, X_train.columns).sort_values(ascending=False)\n",
    "        feat_imp.plot(kind='bar', title='Feature Importances')\n",
    "        plt.ylabel('Feature Importance Score')"
   ]
  },
  {
   "cell_type": "code",
   "execution_count": 1353,
   "metadata": {
    "collapsed": false
   },
   "outputs": [
    {
     "name": "stdout",
     "output_type": "stream",
     "text": [
      "\n",
      "Model Report\n",
      "Accuracy(Train): 0.7244\n",
      "Accuracy(Test) : 0.7139\n",
      "Precision(Train): 0.7217\n",
      "Precision(Test): 0.7184\n",
      "Recall(Train): 0.9385\n",
      "Recall(Test): 0.9218\n",
      "AUC Score (Train): 0.738422\n",
      "AUC Score (Test): 0.672790\n",
      "CV Score : Mean - 0.6269848 | Std - 0.01640676 | Min - 0.5997049 | Max - 0.6509552\n"
     ]
    },
    {
     "data": {
      "image/png": "[encoded data removed]",
      "text/plain": [
       "<matplotlib.figure.Figure at 0x25c55e10>"
      ]
     },
     "metadata": {},
     "output_type": "display_data"
    }
   ],
   "source": [
    "#Choose all predictors except target & IDcols\n",
    "rcParams['figure.figsize'] = 16, 6\n",
    "gbm0 = GradientBoostingClassifier(max_depth = 4,  min_samples_split = 500, min_samples_leaf = 300)\n",
    "modelfit(gbm0, X_train, y_train, X_test, y_test)"
   ]
  },
  {
   "cell_type": "code",
   "execution_count": 1301,
   "metadata": {
    "collapsed": false
   },
   "outputs": [
    {
     "name": "stdout",
     "output_type": "stream",
     "text": [
      "                             Cost_per_day  Gain_per_day  MV_per_app  \\\n",
      "Cost_per_day                     1.000000     -0.693033    0.031154   \n",
      "Gain_per_day                    -0.693033      1.000000    0.044435   \n",
      "MV_per_app                       0.031154      0.044435    1.000000   \n",
      "Gain_per_app                    -0.000095      0.023616   -0.055964   \n",
      "term                            -0.157224      0.149068   -0.037404   \n",
      "MV_pkg                           0.244052      0.513812    0.086272   \n",
      "app_per_day                      0.325239      0.424922   -0.104046   \n",
      "Gain_per_pkg                    -0.064043      0.647185    0.128580   \n",
      "Cost_per_app                     0.000112     -0.023591    0.056509   \n",
      "app_per_pkg                      0.270642      0.458338   -0.105962   \n",
      "Cost_per_pkg                     0.489873     -0.002400   -0.026726   \n",
      "Applications                     0.282499      0.412039   -0.106791   \n",
      "Marketplace Value Delivered      0.258649      0.476443    0.082040   \n",
      "Price Paid                       0.444226     -0.009637   -0.030088   \n",
      "Employer_Gain                   -0.066555      0.638147    0.136006   \n",
      "Cost_per_slot                    0.125103     -0.175600    0.068949   \n",
      "Domestic                         0.039091     -0.000969   -0.040654   \n",
      "NA_num                          -0.010072      0.011531    0.023481   \n",
      "MV_Cost                         -0.050680      0.537999    0.225980   \n",
      "term per package                -0.338297      0.301081   -0.066380   \n",
      "ROI                             -0.050680      0.537999    0.225980   \n",
      "\n",
      "                             Gain_per_app      term    MV_pkg  app_per_day  \\\n",
      "Cost_per_day                    -0.000095 -0.157224  0.244052     0.325239   \n",
      "Gain_per_day                     0.023616  0.149068  0.513812     0.424922   \n",
      "MV_per_app                      -0.055964 -0.037404  0.086272    -0.104046   \n",
      "Gain_per_app                     1.000000  0.006919  0.030305     0.034845   \n",
      "term                             0.006919  1.000000  0.069731     0.013512   \n",
      "MV_pkg                           0.030305  0.069731  1.000000     0.933483   \n",
      "app_per_day                      0.034845  0.013512  0.933483     1.000000   \n",
      "Gain_per_pkg                     0.031658  0.016040  0.798288     0.675165   \n",
      "Cost_per_app                    -1.000000 -0.006939 -0.030257    -0.034901   \n",
      "app_per_pkg                      0.034025  0.080620  0.960249     0.972336   \n",
      "Cost_per_pkg                     0.008469  0.094576  0.605104     0.657417   \n",
      "Applications                     0.033505  0.274715  0.895728     0.934136   \n",
      "Marketplace Value Delivered      0.030634  0.248565  0.952582     0.911484   \n",
      "Price Paid                       0.011609  0.404751  0.517166     0.591769   \n",
      "Employer_Gain                    0.029795 -0.043603  0.782978     0.660146   \n",
      "Cost_per_slot                   -0.004195 -0.011516 -0.055932    -0.106612   \n",
      "Domestic                        -0.027634  0.029743  0.035308     0.049488   \n",
      "NA_num                           0.022958  0.176655  0.000707     0.003288   \n",
      "MV_Cost                          0.068795  0.069155  0.669540     0.576578   \n",
      "term per package                -0.006135  0.461149  0.143658    -0.006353   \n",
      "ROI                              0.068795  0.069155  0.669540     0.576578   \n",
      "\n",
      "                             Gain_per_pkg  Cost_per_app  app_per_pkg  \\\n",
      "Cost_per_day                    -0.064043      0.000112     0.270642   \n",
      "Gain_per_day                     0.647185     -0.023591     0.458338   \n",
      "MV_per_app                       0.128580      0.056509    -0.105962   \n",
      "Gain_per_app                     0.031658     -1.000000     0.034025   \n",
      "term                             0.016040     -0.006939     0.080620   \n",
      "MV_pkg                           0.798288     -0.030257     0.960249   \n",
      "app_per_day                      0.675165     -0.034901     0.972336   \n",
      "Gain_per_pkg                     1.000000     -0.031587     0.696918   \n",
      "Cost_per_app                    -0.031587      1.000000    -0.034082   \n",
      "app_per_pkg                      0.696918     -0.034082     1.000000   \n",
      "Cost_per_pkg                     0.003547     -0.008483     0.673102   \n",
      "Applications                     0.620392     -0.033563     0.941493   \n",
      "Marketplace Value Delivered      0.734399     -0.030588     0.920727   \n",
      "Price Paid                      -0.017267     -0.011625     0.581057   \n",
      "Employer_Gain                    0.985870     -0.029720     0.682197   \n",
      "Cost_per_slot                   -0.294068      0.004232    -0.077387   \n",
      "Domestic                         0.033787      0.027611     0.037377   \n",
      "NA_num                          -0.013012     -0.022944     0.001604   \n",
      "MV_Cost                          0.749814     -0.068670     0.599424   \n",
      "term per package                 0.096599      0.006099     0.163421   \n",
      "ROI                              0.749814     -0.068670     0.599424   \n",
      "\n",
      "                               ...     Applications  \\\n",
      "Cost_per_day                   ...         0.282499   \n",
      "Gain_per_day                   ...         0.412039   \n",
      "MV_per_app                     ...        -0.106791   \n",
      "Gain_per_app                   ...         0.033505   \n",
      "term                           ...         0.274715   \n",
      "MV_pkg                         ...         0.895728   \n",
      "app_per_day                    ...         0.934136   \n",
      "Gain_per_pkg                   ...         0.620392   \n",
      "Cost_per_app                   ...        -0.033563   \n",
      "app_per_pkg                    ...         0.941493   \n",
      "Cost_per_pkg                   ...         0.667134   \n",
      "Applications                   ...         1.000000   \n",
      "Marketplace Value Delivered    ...         0.959258   \n",
      "Price Paid                     ...         0.724537   \n",
      "Employer_Gain                  ...         0.601251   \n",
      "Cost_per_slot                  ...        -0.095047   \n",
      "Domestic                       ...         0.052841   \n",
      "NA_num                         ...         0.055576   \n",
      "MV_Cost                        ...         0.543840   \n",
      "term per package               ...         0.108434   \n",
      "ROI                            ...         0.543840   \n",
      "\n",
      "                             Marketplace Value Delivered  Price Paid  \\\n",
      "Cost_per_day                                    0.258649    0.444226   \n",
      "Gain_per_day                                    0.476443   -0.009637   \n",
      "MV_per_app                                      0.082040   -0.030088   \n",
      "Gain_per_app                                    0.030634    0.011609   \n",
      "term                                            0.248565    0.404751   \n",
      "MV_pkg                                          0.952582    0.517166   \n",
      "app_per_day                                     0.911484    0.591769   \n",
      "Gain_per_pkg                                    0.734399   -0.017267   \n",
      "Cost_per_app                                   -0.030588   -0.011625   \n",
      "app_per_pkg                                     0.920727    0.581057   \n",
      "Cost_per_pkg                                    0.610827    0.881506   \n",
      "Applications                                    0.959258    0.724537   \n",
      "Marketplace Value Delivered                     1.000000    0.654580   \n",
      "Price Paid                                      0.654580    1.000000   \n",
      "Employer_Gain                                   0.719344   -0.054285   \n",
      "Cost_per_slot                                  -0.073760    0.197988   \n",
      "Domestic                                        0.049746    0.035992   \n",
      "NA_num                                          0.051281    0.103327   \n",
      "MV_Cost                                         0.627472    0.078997   \n",
      "term per package                                0.098791    0.030436   \n",
      "ROI                                             0.627472    0.078997   \n",
      "\n",
      "                             Employer_Gain  Cost_per_slot  Domestic    NA_num  \\\n",
      "Cost_per_day                     -0.066555       0.125103  0.039091 -0.010072   \n",
      "Gain_per_day                      0.638147      -0.175600 -0.000969  0.011531   \n",
      "MV_per_app                        0.136006       0.068949 -0.040654  0.023481   \n",
      "Gain_per_app                      0.029795      -0.004195 -0.027634  0.022958   \n",
      "term                             -0.043603      -0.011516  0.029743  0.176655   \n",
      "MV_pkg                            0.782978      -0.055932  0.035308  0.000707   \n",
      "app_per_day                       0.660146      -0.106612  0.049488  0.003288   \n",
      "Gain_per_pkg                      0.985870      -0.294068  0.033787 -0.013012   \n",
      "Cost_per_app                     -0.029720       0.004232  0.027611 -0.022944   \n",
      "app_per_pkg                       0.682197      -0.077387  0.037377  0.001604   \n",
      "Cost_per_pkg                     -0.003194       0.295860  0.013960  0.018375   \n",
      "Applications                      0.601251      -0.095047  0.052841  0.055576   \n",
      "Marketplace Value Delivered       0.719344      -0.073760  0.049746  0.051281   \n",
      "Price Paid                       -0.054285       0.197988  0.035992  0.103327   \n",
      "Employer_Gain                     1.000000      -0.279347  0.032634 -0.027210   \n",
      "Cost_per_slot                    -0.279347       1.000000 -0.035721 -0.032747   \n",
      "Domestic                          0.032634      -0.035721  1.000000 -0.631635   \n",
      "NA_num                           -0.027210      -0.032747 -0.631635  1.000000   \n",
      "MV_Cost                           0.756186      -0.108021  0.022777 -0.004229   \n",
      "term per package                  0.102517       0.085042 -0.030047 -0.006337   \n",
      "ROI                               0.756186      -0.108021  0.022777 -0.004229   \n",
      "\n",
      "                              MV_Cost  term per package       ROI  \n",
      "Cost_per_day                -0.050680         -0.338297 -0.050680  \n",
      "Gain_per_day                 0.537999          0.301081  0.537999  \n",
      "MV_per_app                   0.225980         -0.066380  0.225980  \n",
      "Gain_per_app                 0.068795         -0.006135  0.068795  \n",
      "term                         0.069155          0.461149  0.069155  \n",
      "MV_pkg                       0.669540          0.143658  0.669540  \n",
      "app_per_day                  0.576578         -0.006353  0.576578  \n",
      "Gain_per_pkg                 0.749814          0.096599  0.749814  \n",
      "Cost_per_app                -0.068670          0.006099 -0.068670  \n",
      "app_per_pkg                  0.599424          0.163421  0.599424  \n",
      "Cost_per_pkg                 0.120498          0.110830  0.120498  \n",
      "Applications                 0.543840          0.108434  0.543840  \n",
      "Marketplace Value Delivered  0.627472          0.098791  0.627472  \n",
      "Price Paid                   0.078997          0.030436  0.078997  \n",
      "Employer_Gain                0.756186          0.102517  0.756186  \n",
      "Cost_per_slot               -0.108021          0.085042 -0.108021  \n",
      "Domestic                     0.022777         -0.030047  0.022777  \n",
      "NA_num                      -0.004229         -0.006337 -0.004229  \n",
      "MV_Cost                      1.000000          0.218882  1.000000  \n",
      "term per package             0.218882          1.000000  0.218882  \n",
      "ROI                          1.000000          0.218882  1.000000  \n",
      "\n",
      "[21 rows x 21 columns]\n"
     ]
    },
    {
     "data": {
      "image/png": "[encoded data removed]",
      "text/plain": [
       "<matplotlib.figure.Figure at 0x172a5f28>"
      ]
     },
     "metadata": {},
     "output_type": "display_data"
    }
   ],
   "source": [
    "# Check VIF for selected attributes\n",
    "from patsy import dmatrices\n",
    "import statsmodels.api as sm\n",
    "from statsmodels.stats.outliers_influence import variance_inflation_factor\n",
    "#gather features\n",
    "feature_df = pd.DataFrame({'Features': X_train.columns, \"Feature Importance\": gbm0.feature_importances_}).sort_values(\"Feature Importance\", ascending = False)\n",
    "columns = feature_df[feature_df[\"Feature Importance\"] > 0.005][\"Features\"]\n",
    "X_train_new = X_train[columns]\n",
    "%matplotlib inline\n",
    "rcParams['figure.figsize'] = 15,8\n",
    "import seaborn as sb\n",
    "sb.heatmap(X_train_new.corr())\n",
    "print(X_train_new.corr())"
   ]
  },
  {
   "cell_type": "code",
   "execution_count": 1350,
   "metadata": {
    "collapsed": false
   },
   "outputs": [
    {
     "name": "stdout",
     "output_type": "stream",
     "text": [
      "\n",
      "Model Report\n",
      "Accuracy(Train): 0.7239\n",
      "Accuracy(Test) : 0.697\n",
      "Precision(Train): 0.7235\n",
      "Precision(Test): 0.7113\n",
      "Recall(Train): 0.9321\n",
      "Recall(Test): 0.8994\n",
      "AUC Score (Train): 0.732464\n",
      "AUC Score (Test): 0.660514\n",
      "CV Score : Mean - 0.6352098 | Std - 0.02006175 | Min - 0.6142246 | Max - 0.6690597\n"
     ]
    },
    {
     "data": {
      "image/png": "[encoded data removed]",
      "text/plain": [
       "<matplotlib.figure.Figure at 0x24ee9358>"
      ]
     },
     "metadata": {},
     "output_type": "display_data"
    }
   ],
   "source": [
    "# get rid of columsn highly correlated\n",
    "col = [\"Cost_per_day\", \"Gain_per_day\",\"MV_per_app\",\"Gain_per_app\",\"term\",\"MV_pkg\",\"Cost_per_app\",\"Price Paid\",\"Cost_per_slot\",\n",
    "        \"Domestic\",\"NA_num\", \"MV_Cost\",\"term per package\"]\n",
    "rcParams['figure.figsize'] = 16, 6\n",
    "gbm0 = GradientBoostingClassifier(max_depth = 4,  min_samples_split = 500, min_samples_leaf = 200, learning_rate = 0.025, \n",
    "                                  subsample = 0.8, n_estimators = 300)\n",
    "modelfit(gbm0, X_train[[\"Cost_per_day\", \"Gain_per_day\",\"MV_per_app\",\"Gain_per_app\",\"term\",\"MV_pkg\",\"Cost_per_app\",\"Price Paid\",\"Cost_per_slot\",\n",
    "                        \"Domestic\",\"NA_num\", \"MV_Cost\",\"term per package\"]], y_train,\n",
    "         X_test[[\"Cost_per_day\", \"Gain_per_day\",\"MV_per_app\",\"Gain_per_app\",\"term\",\"MV_pkg\",\"Cost_per_app\",\"Price Paid\",\"Cost_per_slot\",\n",
    "                        \"Domestic\",\"NA_num\", \"MV_Cost\",\"term per package\"]], y_test)"
   ]
  },
  {
   "cell_type": "code",
   "execution_count": 1354,
   "metadata": {
    "collapsed": false
   },
   "outputs": [
    {
     "name": "stdout",
     "output_type": "stream",
     "text": [
      "\n",
      "Model Report\n",
      "Accuracy(Train): 0.7244\n",
      "Accuracy(Test) : 0.7115\n",
      "Precision(Train): 0.7228\n",
      "Precision(Test): 0.7189\n",
      "Recall(Train): 0.9353\n",
      "Recall(Test): 0.9143\n",
      "AUC Score (Train): 0.735421\n",
      "AUC Score (Test): 0.661904\n",
      "CV Score : Mean - 0.6286258 | Std - 0.01595708 | Min - 0.6129254 | Max - 0.6537015\n"
     ]
    },
    {
     "data": {
      "image/png": "[encoded data removed]",
      "text/plain": [
       "<matplotlib.figure.Figure at 0x2ac71b00>"
      ]
     },
     "metadata": {},
     "output_type": "display_data"
    }
   ],
   "source": [
    "#Tune Model to feature w. importance > 0.02\n",
    "feature_df = pd.DataFrame({'Features': X_train.columns, \"Feature Importance\": gbm0.feature_importances_}).sort_values(\"Feature Importance\", ascending = False)\n",
    "columns = feature_df[feature_df[\"Feature Importance\"] >= 0.02][\"Features\"]\n",
    "X_train_refine = X_train[columns]\n",
    "#X_train_refine.shape\n",
    "X_test_refine = X_test[columns]\n",
    "gbm1 = GradientBoostingClassifier(max_depth = 3,  min_samples_split = 500, min_samples_leaf = 200)\n",
    "modelfit(gbm1, X_train_refine, y_train, X_test_refine, y_test)"
   ]
  },
  {
   "cell_type": "code",
   "execution_count": 1355,
   "metadata": {
    "collapsed": false
   },
   "outputs": [
    {
     "data": {
      "image/png": "[encoded data removed]",
      "text/plain": [
       "<matplotlib.figure.Figure at 0x24431630>"
      ]
     },
     "metadata": {},
     "output_type": "display_data"
    }
   ],
   "source": [
    "# Plot Partial Dependence\n",
    "ftimp_gbm1 = gbm1.feature_importances_\n",
    "ft_gbm1 = X_train_refine.columns\n",
    "matplotlib.rc('xtick', labelsize = 7)\n",
    "feature_gbm1 = pd.DataFrame({\"Features\": ft_gbm1, \"Feature Importance\": ftimp_gbm1}).sort_values(by = \"Feature Importance\", ascending = False).reset_index().drop(\"index\", axis = 1)\n",
    "feature_matrx = np.arange(6)\n",
    "fig, axs = plot_partial_dependence(gbm1, X_train_refine, feature_matrx, feature_names = feature_gbm1.Features, \n",
    "                                   n_jobs = 3, grid_resolution = 100)\n",
    "plt.subplots_adjust(top = 0.9, wspace = 0.5, hspace = 0.5)"
   ]
  },
  {
   "cell_type": "code",
   "execution_count": 1346,
   "metadata": {
    "collapsed": false
   },
   "outputs": [
    {
     "data": {
      "image/png": "[encoded data removed]",
      "text/plain": [
       "<matplotlib.figure.Figure at 0x2b426390>"
      ]
     },
     "metadata": {},
     "output_type": "display_data"
    }
   ],
   "source": [
    "# PLOT ROC\n",
    "from sklearn.metrics import roc_curve, auc\n",
    "\n",
    "y_score_train = gbm1.fit(X_train_refine, y_train).decision_function(X_train_refine)\n",
    "y_score_lr = gbm1.fit(X_train_refine, y_train).decision_function(X_test_refine)\n",
    "\n",
    "fpr_lr, tpr_lr, _ = roc_curve(y_test, y_score_lr)\n",
    "fpr_lr_train, tpr_lr_train, _ = roc_curve(y_train, y_score_train)\n",
    "roc_auc_lr = auc(fpr_lr, tpr_lr)\n",
    "roc_auc_train = auc(fpr_lr_train, tpr_lr_train)\n",
    "\n",
    "\n",
    "plt.figure()\n",
    "plt.xlim([-0.01, 1.00])\n",
    "plt.ylim([-0.01, 1.01])\n",
    "plt.plot(fpr_lr_train, tpr_lr_train, lw=3, c = \"red\", label='Train ROC curve (area = {:0.2f})'.format(roc_auc_train))\n",
    "plt.plot(fpr_lr, tpr_lr, lw=3, label='Test ROC curve (area = {:0.2f})'.format(roc_auc_lr))\n",
    "plt.xlabel('False Positive Rate', fontsize=16)\n",
    "plt.ylabel('True Positive Rate', fontsize=16)\n",
    "plt.title('ROC curve (1-of-10 digits classifier)', fontsize=16)\n",
    "plt.legend(loc='lower right', fontsize=13)\n",
    "plt.plot([0, 1], [0, 1], color='navy', lw=3, linestyle='--')\n",
    "plt.axes().set_aspect('equal')\n",
    "plt.show()"
   ]
  },
  {
   "cell_type": "code",
   "execution_count": 1249,
   "metadata": {
    "collapsed": true
   },
   "outputs": [],
   "source": [
    "# build a logistic regression based on it\n",
    "from sklearn import preprocessing\n",
    "X_train_sc = pd.DataFrame(preprocessing.scale(X_train_refine))\n",
    "X_test_sc = pd.DataFrame(preprocessing.scale(X_test_refine))"
   ]
  },
  {
   "cell_type": "code",
   "execution_count": 1250,
   "metadata": {
    "collapsed": false
   },
   "outputs": [],
   "source": [
    "logreg = LogisticRegression()\n",
    "\n",
    "param_range = np.linspace(0.01,1.01,20)\n",
    "train_recall, test_recall = validation_curve(logreg, X = X_train_sc, y = y_train.astype(int), param_name = \"C\",\n",
    "                                            param_range = param_range, cv = 5, scoring = \"recall\", n_jobs = 1)\n",
    "CV_recall_mean = np.mean(test_recall, axis = 1)\n",
    "CV_recall_std = np.std(test_recall, axis = 1)\n",
    "best = param_range[np.where(CV_recall_mean == CV_recall_mean.max())][0]"
   ]
  },
  {
   "cell_type": "code",
   "execution_count": 1251,
   "metadata": {
    "collapsed": false
   },
   "outputs": [
    {
     "data": {
      "text/plain": [
       "0.01"
      ]
     },
     "execution_count": 1251,
     "metadata": {},
     "output_type": "execute_result"
    }
   ],
   "source": [
    "best"
   ]
  },
  {
   "cell_type": "code",
   "execution_count": 1252,
   "metadata": {
    "collapsed": false
   },
   "outputs": [],
   "source": [
    "# fit the regression\n",
    "logreg = LogisticRegression(C = best)\n",
    "logreg = logreg.fit(X_train_sc, y_train.astype(int))\n",
    "pred_y_test = logreg.predict(X_test_sc)\n",
    "preba_y_test = logreg.predict_proba(X_test_sc)"
   ]
  },
  {
   "cell_type": "code",
   "execution_count": 1253,
   "metadata": {
    "collapsed": false
   },
   "outputs": [
    {
     "data": {
      "image/png": "[encoded data removed]",
      "text/plain": [
       "<matplotlib.figure.Figure at 0x25ee9cf8>"
      ]
     },
     "metadata": {},
     "output_type": "display_data"
    }
   ],
   "source": [
    "# PLOT ROC\n",
    "y_score_train = logreg.fit(X_train_sc, y_train).decision_function(X_train_sc)\n",
    "y_score_lr = logreg.fit(X_train_sc, y_train).decision_function(X_test_sc)\n",
    "\n",
    "fpr_lr, tpr_lr, _ = roc_curve(y_test, y_score_lr)\n",
    "fpr_lr_train, tpr_lr_train, _ = roc_curve(y_train, y_score_train)\n",
    "roc_auc_lr = auc(fpr_lr, tpr_lr)\n",
    "roc_auc_train = auc(fpr_lr_train, tpr_lr_train)\n",
    "\n",
    "\n",
    "plt.figure()\n",
    "plt.xlim([-0.01, 1.00])\n",
    "plt.ylim([-0.01, 1.01])\n",
    "plt.plot(fpr_lr_train, tpr_lr_train, lw=3, c = \"red\", label='Train ROC curve (area = {:0.2f})'.format(roc_auc_train))\n",
    "plt.plot(fpr_lr, tpr_lr, lw=3, label='Test ROC curve (area = {:0.2f})'.format(roc_auc_lr))\n",
    "plt.xlabel('False Positive Rate', fontsize=16)\n",
    "plt.ylabel('True Positive Rate', fontsize=16)\n",
    "plt.title('ROC curve (1-of-10 digits classifier)', fontsize=16)\n",
    "plt.legend(loc='lower right', fontsize=13)\n",
    "plt.plot([0, 1], [0, 1], color='navy', lw=3, linestyle='--')\n",
    "plt.axes().set_aspect('equal')\n",
    "plt.show()"
   ]
  },
  {
   "cell_type": "code",
   "execution_count": 1254,
   "metadata": {
    "collapsed": false
   },
   "outputs": [
    {
     "data": {
      "text/html": [
       "<div>\n",
       "<table border=\"1\" class=\"dataframe\">\n",
       "  <thead>\n",
       "    <tr style=\"text-align: right;\">\n",
       "      <th></th>\n",
       "      <th>variable name</th>\n",
       "      <th>estimates</th>\n",
       "    </tr>\n",
       "  </thead>\n",
       "  <tbody>\n",
       "    <tr>\n",
       "      <th>4</th>\n",
       "      <td>term</td>\n",
       "      <td>0.244162</td>\n",
       "    </tr>\n",
       "    <tr>\n",
       "      <th>1</th>\n",
       "      <td>Gain_per_day</td>\n",
       "      <td>0.178141</td>\n",
       "    </tr>\n",
       "    <tr>\n",
       "      <th>9</th>\n",
       "      <td>app_per_pkg</td>\n",
       "      <td>0.124152</td>\n",
       "    </tr>\n",
       "    <tr>\n",
       "      <th>14</th>\n",
       "      <td>Employer_Gain</td>\n",
       "      <td>0.079773</td>\n",
       "    </tr>\n",
       "    <tr>\n",
       "      <th>11</th>\n",
       "      <td>Applications</td>\n",
       "      <td>0.071851</td>\n",
       "    </tr>\n",
       "    <tr>\n",
       "      <th>5</th>\n",
       "      <td>MV_pkg</td>\n",
       "      <td>0.054457</td>\n",
       "    </tr>\n",
       "    <tr>\n",
       "      <th>10</th>\n",
       "      <td>Cost_per_pkg</td>\n",
       "      <td>0.052202</td>\n",
       "    </tr>\n",
       "    <tr>\n",
       "      <th>3</th>\n",
       "      <td>Gain_per_app</td>\n",
       "      <td>0.049872</td>\n",
       "    </tr>\n",
       "    <tr>\n",
       "      <th>6</th>\n",
       "      <td>app_per_day</td>\n",
       "      <td>0.043924</td>\n",
       "    </tr>\n",
       "    <tr>\n",
       "      <th>7</th>\n",
       "      <td>Gain_per_pkg</td>\n",
       "      <td>0.028910</td>\n",
       "    </tr>\n",
       "    <tr>\n",
       "      <th>12</th>\n",
       "      <td>Marketplace Value Delivered</td>\n",
       "      <td>0.021131</td>\n",
       "    </tr>\n",
       "    <tr>\n",
       "      <th>15</th>\n",
       "      <td>Cost_per_slot</td>\n",
       "      <td>0.019254</td>\n",
       "    </tr>\n",
       "    <tr>\n",
       "      <th>8</th>\n",
       "      <td>Cost_per_app</td>\n",
       "      <td>-0.049906</td>\n",
       "    </tr>\n",
       "    <tr>\n",
       "      <th>13</th>\n",
       "      <td>Price Paid</td>\n",
       "      <td>-0.056442</td>\n",
       "    </tr>\n",
       "    <tr>\n",
       "      <th>2</th>\n",
       "      <td>MV_per_app</td>\n",
       "      <td>-0.066490</td>\n",
       "    </tr>\n",
       "    <tr>\n",
       "      <th>0</th>\n",
       "      <td>Cost_per_day</td>\n",
       "      <td>-0.216182</td>\n",
       "    </tr>\n",
       "  </tbody>\n",
       "</table>\n",
       "</div>"
      ],
      "text/plain": [
       "                  variable name  estimates\n",
       "4                          term   0.244162\n",
       "1                  Gain_per_day   0.178141\n",
       "9                   app_per_pkg   0.124152\n",
       "14                Employer_Gain   0.079773\n",
       "11                 Applications   0.071851\n",
       "5                        MV_pkg   0.054457\n",
       "10                 Cost_per_pkg   0.052202\n",
       "3                  Gain_per_app   0.049872\n",
       "6                   app_per_day   0.043924\n",
       "7                  Gain_per_pkg   0.028910\n",
       "12  Marketplace Value Delivered   0.021131\n",
       "15                Cost_per_slot   0.019254\n",
       "8                  Cost_per_app  -0.049906\n",
       "13                   Price Paid  -0.056442\n",
       "2                    MV_per_app  -0.066490\n",
       "0                  Cost_per_day  -0.216182"
      ]
     },
     "execution_count": 1254,
     "metadata": {},
     "output_type": "execute_result"
    }
   ],
   "source": [
    "coef = pd.DataFrame(list(zip(X_train_refine.columns,logreg.coef_.tolist()[0])),columns = [\"variable name\",\"estimates\"]).sort_values(by = \"estimates\", ascending = False)\n",
    "coef"
   ]
  },
  {
   "cell_type": "code",
   "execution_count": null,
   "metadata": {
    "collapsed": true
   },
   "outputs": [],
   "source": []
  },
  {
   "cell_type": "code",
   "execution_count": null,
   "metadata": {
    "collapsed": true
   },
   "outputs": [],
   "source": [
    "# Top 5 Attributes"
   ]
  },
  {
   "cell_type": "code",
   "execution_count": null,
   "metadata": {
    "collapsed": true
   },
   "outputs": [],
   "source": []
  },
  {
   "cell_type": "code",
   "execution_count": null,
   "metadata": {
    "collapsed": true
   },
   "outputs": [],
   "source": []
  },
  {
   "cell_type": "code",
   "execution_count": null,
   "metadata": {
    "collapsed": true
   },
   "outputs": [],
   "source": []
  },
  {
   "cell_type": "code",
   "execution_count": null,
   "metadata": {
    "collapsed": true
   },
   "outputs": [],
   "source": []
  },
  {
   "cell_type": "code",
   "execution_count": null,
   "metadata": {
    "collapsed": true
   },
   "outputs": [],
   "source": []
  },
  {
   "cell_type": "code",
   "execution_count": null,
   "metadata": {
    "collapsed": true
   },
   "outputs": [],
   "source": []
  },
  {
   "cell_type": "code",
   "execution_count": 958,
   "metadata": {
    "collapsed": false
   },
   "outputs": [
    {
     "data": {
      "text/plain": [
       "([mean: 0.65318, std: 0.02475, params: {'min_samples_split': 100, 'n_estimators': 20, 'max_depth': 3},\n",
       "  mean: 0.65923, std: 0.02662, params: {'min_samples_split': 100, 'n_estimators': 30, 'max_depth': 3},\n",
       "  mean: 0.65958, std: 0.02605, params: {'min_samples_split': 100, 'n_estimators': 40, 'max_depth': 3},\n",
       "  mean: 0.65912, std: 0.02536, params: {'min_samples_split': 100, 'n_estimators': 50, 'max_depth': 3},\n",
       "  mean: 0.65352, std: 0.02850, params: {'min_samples_split': 100, 'n_estimators': 60, 'max_depth': 3},\n",
       "  mean: 0.65302, std: 0.02612, params: {'min_samples_split': 100, 'n_estimators': 70, 'max_depth': 3},\n",
       "  mean: 0.65305, std: 0.02184, params: {'min_samples_split': 100, 'n_estimators': 80, 'max_depth': 3},\n",
       "  mean: 0.65265, std: 0.02744, params: {'min_samples_split': 1001, 'n_estimators': 20, 'max_depth': 3},\n",
       "  mean: 0.65599, std: 0.02409, params: {'min_samples_split': 1001, 'n_estimators': 30, 'max_depth': 3},\n",
       "  mean: 0.65141, std: 0.02276, params: {'min_samples_split': 1001, 'n_estimators': 40, 'max_depth': 3},\n",
       "  mean: 0.64973, std: 0.02229, params: {'min_samples_split': 1001, 'n_estimators': 50, 'max_depth': 3},\n",
       "  mean: 0.64807, std: 0.02120, params: {'min_samples_split': 1001, 'n_estimators': 60, 'max_depth': 3},\n",
       "  mean: 0.64584, std: 0.02435, params: {'min_samples_split': 1001, 'n_estimators': 70, 'max_depth': 3},\n",
       "  mean: 0.64826, std: 0.02426, params: {'min_samples_split': 1001, 'n_estimators': 80, 'max_depth': 3},\n",
       "  mean: 0.65347, std: 0.02492, params: {'min_samples_split': 100, 'n_estimators': 20, 'max_depth': 3},\n",
       "  mean: 0.65689, std: 0.02824, params: {'min_samples_split': 100, 'n_estimators': 30, 'max_depth': 3},\n",
       "  mean: 0.65955, std: 0.02674, params: {'min_samples_split': 100, 'n_estimators': 40, 'max_depth': 3},\n",
       "  mean: 0.65900, std: 0.02526, params: {'min_samples_split': 100, 'n_estimators': 50, 'max_depth': 3},\n",
       "  mean: 0.65363, std: 0.02816, params: {'min_samples_split': 100, 'n_estimators': 60, 'max_depth': 3},\n",
       "  mean: 0.65354, std: 0.02632, params: {'min_samples_split': 100, 'n_estimators': 70, 'max_depth': 3},\n",
       "  mean: 0.65409, std: 0.02163, params: {'min_samples_split': 100, 'n_estimators': 80, 'max_depth': 3},\n",
       "  mean: 0.64938, std: 0.02449, params: {'min_samples_split': 100, 'n_estimators': 20, 'max_depth': 4},\n",
       "  mean: 0.65789, std: 0.02110, params: {'min_samples_split': 100, 'n_estimators': 30, 'max_depth': 4},\n",
       "  mean: 0.65591, std: 0.01933, params: {'min_samples_split': 100, 'n_estimators': 40, 'max_depth': 4},\n",
       "  mean: 0.65527, std: 0.01978, params: {'min_samples_split': 100, 'n_estimators': 50, 'max_depth': 4},\n",
       "  mean: 0.65387, std: 0.02269, params: {'min_samples_split': 100, 'n_estimators': 60, 'max_depth': 4},\n",
       "  mean: 0.65242, std: 0.02298, params: {'min_samples_split': 100, 'n_estimators': 70, 'max_depth': 4},\n",
       "  mean: 0.64727, std: 0.02357, params: {'min_samples_split': 100, 'n_estimators': 80, 'max_depth': 4},\n",
       "  mean: 0.64988, std: 0.02921, params: {'min_samples_split': 1001, 'n_estimators': 20, 'max_depth': 4},\n",
       "  mean: 0.64973, std: 0.03058, params: {'min_samples_split': 1001, 'n_estimators': 30, 'max_depth': 4},\n",
       "  mean: 0.65296, std: 0.02833, params: {'min_samples_split': 1001, 'n_estimators': 40, 'max_depth': 4},\n",
       "  mean: 0.65211, std: 0.02857, params: {'min_samples_split': 1001, 'n_estimators': 50, 'max_depth': 4},\n",
       "  mean: 0.65129, std: 0.02553, params: {'min_samples_split': 1001, 'n_estimators': 60, 'max_depth': 4},\n",
       "  mean: 0.65195, std: 0.02250, params: {'min_samples_split': 1001, 'n_estimators': 70, 'max_depth': 4},\n",
       "  mean: 0.65256, std: 0.02326, params: {'min_samples_split': 1001, 'n_estimators': 80, 'max_depth': 4},\n",
       "  mean: 0.65057, std: 0.02549, params: {'min_samples_split': 100, 'n_estimators': 20, 'max_depth': 4},\n",
       "  mean: 0.65840, std: 0.02138, params: {'min_samples_split': 100, 'n_estimators': 30, 'max_depth': 4},\n",
       "  mean: 0.65739, std: 0.01845, params: {'min_samples_split': 100, 'n_estimators': 40, 'max_depth': 4},\n",
       "  mean: 0.65528, std: 0.02044, params: {'min_samples_split': 100, 'n_estimators': 50, 'max_depth': 4},\n",
       "  mean: 0.65245, std: 0.02169, params: {'min_samples_split': 100, 'n_estimators': 60, 'max_depth': 4},\n",
       "  mean: 0.65210, std: 0.02211, params: {'min_samples_split': 100, 'n_estimators': 70, 'max_depth': 4},\n",
       "  mean: 0.64661, std: 0.02334, params: {'min_samples_split': 100, 'n_estimators': 80, 'max_depth': 4},\n",
       "  mean: 0.64874, std: 0.02263, params: {'min_samples_split': 100, 'n_estimators': 20, 'max_depth': 5},\n",
       "  mean: 0.65288, std: 0.02573, params: {'min_samples_split': 100, 'n_estimators': 30, 'max_depth': 5},\n",
       "  mean: 0.65180, std: 0.02733, params: {'min_samples_split': 100, 'n_estimators': 40, 'max_depth': 5},\n",
       "  mean: 0.65110, std: 0.02508, params: {'min_samples_split': 100, 'n_estimators': 50, 'max_depth': 5},\n",
       "  mean: 0.64801, std: 0.02574, params: {'min_samples_split': 100, 'n_estimators': 60, 'max_depth': 5},\n",
       "  mean: 0.64781, std: 0.02386, params: {'min_samples_split': 100, 'n_estimators': 70, 'max_depth': 5},\n",
       "  mean: 0.64854, std: 0.02422, params: {'min_samples_split': 100, 'n_estimators': 80, 'max_depth': 5},\n",
       "  mean: 0.65048, std: 0.02805, params: {'min_samples_split': 1001, 'n_estimators': 20, 'max_depth': 5},\n",
       "  mean: 0.64996, std: 0.02667, params: {'min_samples_split': 1001, 'n_estimators': 30, 'max_depth': 5},\n",
       "  mean: 0.65050, std: 0.02853, params: {'min_samples_split': 1001, 'n_estimators': 40, 'max_depth': 5},\n",
       "  mean: 0.65138, std: 0.02956, params: {'min_samples_split': 1001, 'n_estimators': 50, 'max_depth': 5},\n",
       "  mean: 0.64859, std: 0.02717, params: {'min_samples_split': 1001, 'n_estimators': 60, 'max_depth': 5},\n",
       "  mean: 0.64959, std: 0.02788, params: {'min_samples_split': 1001, 'n_estimators': 70, 'max_depth': 5},\n",
       "  mean: 0.65124, std: 0.02930, params: {'min_samples_split': 1001, 'n_estimators': 80, 'max_depth': 5},\n",
       "  mean: 0.64685, std: 0.02404, params: {'min_samples_split': 100, 'n_estimators': 20, 'max_depth': 5},\n",
       "  mean: 0.65141, std: 0.02747, params: {'min_samples_split': 100, 'n_estimators': 30, 'max_depth': 5},\n",
       "  mean: 0.64798, std: 0.02752, params: {'min_samples_split': 100, 'n_estimators': 40, 'max_depth': 5},\n",
       "  mean: 0.65083, std: 0.02457, params: {'min_samples_split': 100, 'n_estimators': 50, 'max_depth': 5},\n",
       "  mean: 0.64779, std: 0.02562, params: {'min_samples_split': 100, 'n_estimators': 60, 'max_depth': 5},\n",
       "  mean: 0.64820, std: 0.02337, params: {'min_samples_split': 100, 'n_estimators': 70, 'max_depth': 5},\n",
       "  mean: 0.64768, std: 0.02448, params: {'min_samples_split': 100, 'n_estimators': 80, 'max_depth': 5},\n",
       "  mean: 0.63591, std: 0.01710, params: {'min_samples_split': 100, 'n_estimators': 20, 'max_depth': 6},\n",
       "  mean: 0.64267, std: 0.02318, params: {'min_samples_split': 100, 'n_estimators': 30, 'max_depth': 6},\n",
       "  mean: 0.64390, std: 0.02080, params: {'min_samples_split': 100, 'n_estimators': 40, 'max_depth': 6},\n",
       "  mean: 0.64651, std: 0.02866, params: {'min_samples_split': 100, 'n_estimators': 50, 'max_depth': 6},\n",
       "  mean: 0.64490, std: 0.01904, params: {'min_samples_split': 100, 'n_estimators': 60, 'max_depth': 6},\n",
       "  mean: 0.64192, std: 0.01969, params: {'min_samples_split': 100, 'n_estimators': 70, 'max_depth': 6},\n",
       "  mean: 0.64109, std: 0.02013, params: {'min_samples_split': 100, 'n_estimators': 80, 'max_depth': 6},\n",
       "  mean: 0.64302, std: 0.02323, params: {'min_samples_split': 1001, 'n_estimators': 20, 'max_depth': 6},\n",
       "  mean: 0.65335, std: 0.02611, params: {'min_samples_split': 1001, 'n_estimators': 30, 'max_depth': 6},\n",
       "  mean: 0.65136, std: 0.02702, params: {'min_samples_split': 1001, 'n_estimators': 40, 'max_depth': 6},\n",
       "  mean: 0.65145, std: 0.02451, params: {'min_samples_split': 1001, 'n_estimators': 50, 'max_depth': 6},\n",
       "  mean: 0.64998, std: 0.02524, params: {'min_samples_split': 1001, 'n_estimators': 60, 'max_depth': 6},\n",
       "  mean: 0.64952, std: 0.02430, params: {'min_samples_split': 1001, 'n_estimators': 70, 'max_depth': 6},\n",
       "  mean: 0.64864, std: 0.02478, params: {'min_samples_split': 1001, 'n_estimators': 80, 'max_depth': 6},\n",
       "  mean: 0.63891, std: 0.01780, params: {'min_samples_split': 100, 'n_estimators': 20, 'max_depth': 6},\n",
       "  mean: 0.64031, std: 0.01678, params: {'min_samples_split': 100, 'n_estimators': 30, 'max_depth': 6},\n",
       "  mean: 0.64226, std: 0.01918, params: {'min_samples_split': 100, 'n_estimators': 40, 'max_depth': 6},\n",
       "  mean: 0.64126, std: 0.02125, params: {'min_samples_split': 100, 'n_estimators': 50, 'max_depth': 6},\n",
       "  mean: 0.64290, std: 0.01984, params: {'min_samples_split': 100, 'n_estimators': 60, 'max_depth': 6},\n",
       "  mean: 0.64781, std: 0.02197, params: {'min_samples_split': 100, 'n_estimators': 70, 'max_depth': 6},\n",
       "  mean: 0.64299, std: 0.01782, params: {'min_samples_split': 100, 'n_estimators': 80, 'max_depth': 6},\n",
       "  mean: 0.64933, std: 0.02427, params: {'min_samples_split': 100, 'n_estimators': 20, 'max_depth': 7},\n",
       "  mean: 0.64850, std: 0.01654, params: {'min_samples_split': 100, 'n_estimators': 30, 'max_depth': 7},\n",
       "  mean: 0.65120, std: 0.02532, params: {'min_samples_split': 100, 'n_estimators': 40, 'max_depth': 7},\n",
       "  mean: 0.64591, std: 0.02012, params: {'min_samples_split': 100, 'n_estimators': 50, 'max_depth': 7},\n",
       "  mean: 0.64332, std: 0.02211, params: {'min_samples_split': 100, 'n_estimators': 60, 'max_depth': 7},\n",
       "  mean: 0.64289, std: 0.01886, params: {'min_samples_split': 100, 'n_estimators': 70, 'max_depth': 7},\n",
       "  mean: 0.63974, std: 0.02149, params: {'min_samples_split': 100, 'n_estimators': 80, 'max_depth': 7},\n",
       "  mean: 0.64387, std: 0.02875, params: {'min_samples_split': 1001, 'n_estimators': 20, 'max_depth': 7},\n",
       "  mean: 0.64908, std: 0.02866, params: {'min_samples_split': 1001, 'n_estimators': 30, 'max_depth': 7},\n",
       "  mean: 0.64876, std: 0.02660, params: {'min_samples_split': 1001, 'n_estimators': 40, 'max_depth': 7},\n",
       "  mean: 0.64604, std: 0.02628, params: {'min_samples_split': 1001, 'n_estimators': 50, 'max_depth': 7},\n",
       "  mean: 0.64574, std: 0.02824, params: {'min_samples_split': 1001, 'n_estimators': 60, 'max_depth': 7},\n",
       "  mean: 0.64651, std: 0.02831, params: {'min_samples_split': 1001, 'n_estimators': 70, 'max_depth': 7},\n",
       "  mean: 0.64560, std: 0.02965, params: {'min_samples_split': 1001, 'n_estimators': 80, 'max_depth': 7},\n",
       "  mean: 0.64945, std: 0.02044, params: {'min_samples_split': 100, 'n_estimators': 20, 'max_depth': 7},\n",
       "  mean: 0.65005, std: 0.01685, params: {'min_samples_split': 100, 'n_estimators': 30, 'max_depth': 7},\n",
       "  mean: 0.64826, std: 0.01945, params: {'min_samples_split': 100, 'n_estimators': 40, 'max_depth': 7},\n",
       "  mean: 0.64427, std: 0.02077, params: {'min_samples_split': 100, 'n_estimators': 50, 'max_depth': 7},\n",
       "  mean: 0.64752, std: 0.02368, params: {'min_samples_split': 100, 'n_estimators': 60, 'max_depth': 7},\n",
       "  mean: 0.64313, std: 0.01890, params: {'min_samples_split': 100, 'n_estimators': 70, 'max_depth': 7},\n",
       "  mean: 0.64020, std: 0.01943, params: {'min_samples_split': 100, 'n_estimators': 80, 'max_depth': 7},\n",
       "  mean: 0.63960, std: 0.02268, params: {'min_samples_split': 100, 'n_estimators': 20, 'max_depth': 8},\n",
       "  mean: 0.63750, std: 0.01976, params: {'min_samples_split': 100, 'n_estimators': 30, 'max_depth': 8},\n",
       "  mean: 0.63807, std: 0.02017, params: {'min_samples_split': 100, 'n_estimators': 40, 'max_depth': 8},\n",
       "  mean: 0.63756, std: 0.02217, params: {'min_samples_split': 100, 'n_estimators': 50, 'max_depth': 8},\n",
       "  mean: 0.63530, std: 0.02191, params: {'min_samples_split': 100, 'n_estimators': 60, 'max_depth': 8},\n",
       "  mean: 0.63104, std: 0.02317, params: {'min_samples_split': 100, 'n_estimators': 70, 'max_depth': 8},\n",
       "  mean: 0.63313, std: 0.02537, params: {'min_samples_split': 100, 'n_estimators': 80, 'max_depth': 8},\n",
       "  mean: 0.64277, std: 0.02447, params: {'min_samples_split': 1001, 'n_estimators': 20, 'max_depth': 8},\n",
       "  mean: 0.64468, std: 0.02481, params: {'min_samples_split': 1001, 'n_estimators': 30, 'max_depth': 8},\n",
       "  mean: 0.64389, std: 0.02519, params: {'min_samples_split': 1001, 'n_estimators': 40, 'max_depth': 8},\n",
       "  mean: 0.64130, std: 0.02206, params: {'min_samples_split': 1001, 'n_estimators': 50, 'max_depth': 8},\n",
       "  mean: 0.64551, std: 0.02695, params: {'min_samples_split': 1001, 'n_estimators': 60, 'max_depth': 8},\n",
       "  mean: 0.64011, std: 0.02461, params: {'min_samples_split': 1001, 'n_estimators': 70, 'max_depth': 8},\n",
       "  mean: 0.63755, std: 0.02782, params: {'min_samples_split': 1001, 'n_estimators': 80, 'max_depth': 8},\n",
       "  mean: 0.63599, std: 0.01782, params: {'min_samples_split': 100, 'n_estimators': 20, 'max_depth': 8},\n",
       "  mean: 0.63694, std: 0.02493, params: {'min_samples_split': 100, 'n_estimators': 30, 'max_depth': 8},\n",
       "  mean: 0.63864, std: 0.02074, params: {'min_samples_split': 100, 'n_estimators': 40, 'max_depth': 8},\n",
       "  mean: 0.63858, std: 0.02286, params: {'min_samples_split': 100, 'n_estimators': 50, 'max_depth': 8},\n",
       "  mean: 0.63675, std: 0.02582, params: {'min_samples_split': 100, 'n_estimators': 60, 'max_depth': 8},\n",
       "  mean: 0.63515, std: 0.01920, params: {'min_samples_split': 100, 'n_estimators': 70, 'max_depth': 8},\n",
       "  mean: 0.62834, std: 0.02115, params: {'min_samples_split': 100, 'n_estimators': 80, 'max_depth': 8},\n",
       "  mean: 0.63966, std: 0.01665, params: {'min_samples_split': 100, 'n_estimators': 20, 'max_depth': 9},\n",
       "  mean: 0.63558, std: 0.02153, params: {'min_samples_split': 100, 'n_estimators': 30, 'max_depth': 9},\n",
       "  mean: 0.63265, std: 0.02661, params: {'min_samples_split': 100, 'n_estimators': 40, 'max_depth': 9},\n",
       "  mean: 0.63102, std: 0.02343, params: {'min_samples_split': 100, 'n_estimators': 50, 'max_depth': 9},\n",
       "  mean: 0.63121, std: 0.02300, params: {'min_samples_split': 100, 'n_estimators': 60, 'max_depth': 9},\n",
       "  mean: 0.63114, std: 0.02666, params: {'min_samples_split': 100, 'n_estimators': 70, 'max_depth': 9},\n",
       "  mean: 0.63185, std: 0.02083, params: {'min_samples_split': 100, 'n_estimators': 80, 'max_depth': 9},\n",
       "  mean: 0.64607, std: 0.02185, params: {'min_samples_split': 1001, 'n_estimators': 20, 'max_depth': 9},\n",
       "  mean: 0.64633, std: 0.02352, params: {'min_samples_split': 1001, 'n_estimators': 30, 'max_depth': 9},\n",
       "  mean: 0.64329, std: 0.02342, params: {'min_samples_split': 1001, 'n_estimators': 40, 'max_depth': 9},\n",
       "  mean: 0.64275, std: 0.02404, params: {'min_samples_split': 1001, 'n_estimators': 50, 'max_depth': 9},\n",
       "  mean: 0.64146, std: 0.02682, params: {'min_samples_split': 1001, 'n_estimators': 60, 'max_depth': 9},\n",
       "  mean: 0.64007, std: 0.02794, params: {'min_samples_split': 1001, 'n_estimators': 70, 'max_depth': 9},\n",
       "  mean: 0.63768, std: 0.03023, params: {'min_samples_split': 1001, 'n_estimators': 80, 'max_depth': 9},\n",
       "  mean: 0.64045, std: 0.02187, params: {'min_samples_split': 100, 'n_estimators': 20, 'max_depth': 9},\n",
       "  mean: 0.63879, std: 0.02702, params: {'min_samples_split': 100, 'n_estimators': 30, 'max_depth': 9},\n",
       "  mean: 0.63271, std: 0.02294, params: {'min_samples_split': 100, 'n_estimators': 40, 'max_depth': 9},\n",
       "  mean: 0.63146, std: 0.02123, params: {'min_samples_split': 100, 'n_estimators': 50, 'max_depth': 9},\n",
       "  mean: 0.62953, std: 0.02084, params: {'min_samples_split': 100, 'n_estimators': 60, 'max_depth': 9},\n",
       "  mean: 0.63359, std: 0.02433, params: {'min_samples_split': 100, 'n_estimators': 70, 'max_depth': 9},\n",
       "  mean: 0.63355, std: 0.02288, params: {'min_samples_split': 100, 'n_estimators': 80, 'max_depth': 9},\n",
       "  mean: 0.63835, std: 0.01971, params: {'min_samples_split': 100, 'n_estimators': 20, 'max_depth': 10},\n",
       "  mean: 0.63711, std: 0.01693, params: {'min_samples_split': 100, 'n_estimators': 30, 'max_depth': 10},\n",
       "  mean: 0.63384, std: 0.02733, params: {'min_samples_split': 100, 'n_estimators': 40, 'max_depth': 10},\n",
       "  mean: 0.64134, std: 0.03118, params: {'min_samples_split': 100, 'n_estimators': 50, 'max_depth': 10},\n",
       "  mean: 0.63143, std: 0.01826, params: {'min_samples_split': 100, 'n_estimators': 60, 'max_depth': 10},\n",
       "  mean: 0.63241, std: 0.02206, params: {'min_samples_split': 100, 'n_estimators': 70, 'max_depth': 10},\n",
       "  mean: 0.63561, std: 0.02558, params: {'min_samples_split': 100, 'n_estimators': 80, 'max_depth': 10},\n",
       "  mean: 0.64570, std: 0.02730, params: {'min_samples_split': 1001, 'n_estimators': 20, 'max_depth': 10},\n",
       "  mean: 0.64446, std: 0.02857, params: {'min_samples_split': 1001, 'n_estimators': 30, 'max_depth': 10},\n",
       "  mean: 0.64027, std: 0.02607, params: {'min_samples_split': 1001, 'n_estimators': 40, 'max_depth': 10},\n",
       "  mean: 0.63620, std: 0.02974, params: {'min_samples_split': 1001, 'n_estimators': 50, 'max_depth': 10},\n",
       "  mean: 0.63609, std: 0.03071, params: {'min_samples_split': 1001, 'n_estimators': 60, 'max_depth': 10},\n",
       "  mean: 0.63963, std: 0.03261, params: {'min_samples_split': 1001, 'n_estimators': 70, 'max_depth': 10},\n",
       "  mean: 0.63919, std: 0.03049, params: {'min_samples_split': 1001, 'n_estimators': 80, 'max_depth': 10},\n",
       "  mean: 0.63389, std: 0.01779, params: {'min_samples_split': 100, 'n_estimators': 20, 'max_depth': 10},\n",
       "  mean: 0.63665, std: 0.01576, params: {'min_samples_split': 100, 'n_estimators': 30, 'max_depth': 10},\n",
       "  mean: 0.63648, std: 0.02279, params: {'min_samples_split': 100, 'n_estimators': 40, 'max_depth': 10},\n",
       "  mean: 0.63429, std: 0.01977, params: {'min_samples_split': 100, 'n_estimators': 50, 'max_depth': 10},\n",
       "  mean: 0.63584, std: 0.02567, params: {'min_samples_split': 100, 'n_estimators': 60, 'max_depth': 10},\n",
       "  mean: 0.63658, std: 0.02220, params: {'min_samples_split': 100, 'n_estimators': 70, 'max_depth': 10},\n",
       "  mean: 0.63202, std: 0.01931, params: {'min_samples_split': 100, 'n_estimators': 80, 'max_depth': 10}],\n",
       " {'max_depth': 3, 'min_samples_split': 100, 'n_estimators': 40},\n",
       " 0.6595846587974641)"
      ]
     },
     "execution_count": 958,
     "metadata": {},
     "output_type": "execute_result"
    }
   ],
   "source": [
    "# Grid search for n_estimator, max_depth, min_samples_split\n",
    "param_test1 = {'n_estimators':range(20,81,10), \"max_depth\": range(3,11,1), \"min_samples_split\":(100,1001,100)}\n",
    "gsearch1 = GridSearchCV(estimator = GradientBoostingClassifier(),\n",
    "                        param_grid = param_test1, scoring='roc_auc',n_jobs=4,iid=False, cv=5)\n",
    "gsearch1.fit(X_train,y_train)\n",
    "gsearch1.grid_scores_, gsearch1.best_params_, gsearch1.best_score_"
   ]
  },
  {
   "cell_type": "code",
   "execution_count": 954,
   "metadata": {
    "collapsed": false
   },
   "outputs": [
    {
     "name": "stdout",
     "output_type": "stream",
     "text": [
      "\n",
      "Model Report\n",
      "Accuracy(Train): 0.7219\n",
      "Accuracy(Test) : 0.7078\n",
      "AUC Score (Train): 0.750666\n",
      "AUC Score (Test): 0.642802\n",
      "CV Score : Mean - 0.6444677 | Std - 0.02212872 | Min - 0.6132626 | Max - 0.6684019\n"
     ]
    },
    {
     "data": {
      "image/png": "[encoded data removed]",
      "text/plain": [
       "<matplotlib.figure.Figure at 0x24db9d30>"
      ]
     },
     "metadata": {},
     "output_type": "display_data"
    }
   ],
   "source": [
    "modelfit(gsearch1.best_estimator_, X_train, y_train, X_test, y_test)"
   ]
  },
  {
   "cell_type": "code",
   "execution_count": 957,
   "metadata": {
    "collapsed": false
   },
   "outputs": [
    {
     "data": {
      "text/plain": [
       "([mean: 0.65867, std: 0.02458, params: {'min_samples_leaf': 1},\n",
       "  mean: 0.65700, std: 0.02327, params: {'min_samples_leaf': 11},\n",
       "  mean: 0.65538, std: 0.01885, params: {'min_samples_leaf': 21},\n",
       "  mean: 0.64985, std: 0.02320, params: {'min_samples_leaf': 31},\n",
       "  mean: 0.64582, std: 0.02491, params: {'min_samples_leaf': 41},\n",
       "  mean: 0.64558, std: 0.02525, params: {'min_samples_leaf': 51},\n",
       "  mean: 0.64179, std: 0.02407, params: {'min_samples_leaf': 61},\n",
       "  mean: 0.64955, std: 0.02597, params: {'min_samples_leaf': 71},\n",
       "  mean: 0.65062, std: 0.02652, params: {'min_samples_leaf': 81},\n",
       "  mean: 0.64777, std: 0.02941, params: {'min_samples_leaf': 91}],\n",
       " {'min_samples_leaf': 1},\n",
       " 0.6586726895756769)"
      ]
     },
     "execution_count": 957,
     "metadata": {},
     "output_type": "execute_result"
    }
   ],
   "source": [
    "# Grid search to tune the tree\n",
    "param_test2 = {'min_samples_leaf':range(1,101,10)}\n",
    "gsearch2 = GridSearchCV(estimator = GradientBoostingClassifier(n_estimators = 30 , min_samples_split=50, max_depth = 4),\n",
    "                        param_grid = param_test2, scoring='roc_auc',n_jobs=4,iid=False, cv=5)\n",
    "gsearch2.fit(X_train,y_train)\n",
    "gsearch2.grid_scores_, gsearch2.best_params_, gsearch2.best_score_"
   ]
  },
  {
   "cell_type": "code",
   "execution_count": 956,
   "metadata": {
    "collapsed": false
   },
   "outputs": [
    {
     "name": "stdout",
     "output_type": "stream",
     "text": [
      "\n",
      "Model Report\n",
      "Accuracy(Train): 0.7996\n",
      "Accuracy(Test) : 0.6946\n",
      "AUC Score (Train): 0.913829\n",
      "AUC Score (Test): 0.650168\n",
      "CV Score : Mean - 0.6498584 | Std - 0.02476385 | Min - 0.6288638 | Max - 0.696004\n"
     ]
    },
    {
     "data": {
      "image/png": "[encoded data removed]",
      "text/plain": [
       "<matplotlib.figure.Figure at 0x24c5eda0>"
      ]
     },
     "metadata": {},
     "output_type": "display_data"
    }
   ],
   "source": [
    "modelfit(gsearch2.best_estimator_, X_train, y_train, X_test, y_test)"
   ]
  },
  {
   "cell_type": "code",
   "execution_count": null,
   "metadata": {
    "collapsed": true
   },
   "outputs": [],
   "source": [
    "# Tune max features\n",
    "param_test3 = {\"max_features\": (6, 50, 2)}\n",
    "gsearch3 = GridSearchCV(estimator = GradientBoostingClassifier(n_estimator = 40, max_depth = 5, min_sample_split = 100),\n",
    "                        param_grid = param_test1, scoring='roc_auc',n_jobs=4,iid=False, cv=5)\n",
    "gsearch3.fit(X_train,y_train)\n",
    "gsearch3.grid_scores_, gsearch2.best_params_, gsearch2.best_score_"
   ]
  },
  {
   "cell_type": "code",
   "execution_count": null,
   "metadata": {
    "collapsed": true
   },
   "outputs": [],
   "source": [
    "modelfit(gsearch2, "
   ]
  },
  {
   "cell_type": "code",
   "execution_count": null,
   "metadata": {
    "collapsed": true
   },
   "outputs": [],
   "source": [
    "# Tune Subsample\n",
    "param_test2 = {'subsample':[0.6,0.7,0.75,0.8,0.85,0.9]}\n",
    "gsearch2 = GridSearchCV(estimator = GradientBoostingClassifier(learning_rate=0.1, n_estimators=40, max_depth=5,\n",
    "                                                               min_samples_split=100, min_samples_leaf=60, \n",
    "                                                               max_features=7),\n",
    "                        param_grid = param_test2, scoring='roc_auc',n_jobs=4,iid=False, cv=5)\n",
    "gsearch5.fit(train[predictors],train[target])\n",
    "gsearch5.grid_scores_, gsearch5.best_params_, gsearch5.best_score_"
   ]
  },
  {
   "cell_type": "code",
   "execution_count": null,
   "metadata": {
    "collapsed": true
   },
   "outputs": [],
   "source": [
    "from sklearn.svm import SVC\n",
    "from sklearn.model_selection import GridSearchCV\n",
    "from sklearn.metrics import roc_auc_score\n",
    "\n",
    "dataset = load_digits()\n",
    "X, y = dataset.data, dataset.target == 1\n",
    "X_train, X_test, y_train, y_test = train_test_split(X, y, random_state=0)\n",
    "\n",
    "clf = SVC(kernel='rbf')\n",
    "grid_values = {'gamma': [0.001, 0.01, 0.05, 0.1, 1, 10, 100]}\n",
    "\n",
    "# default metric to optimize over grid parameters: accuracy\n",
    "grid_clf_acc = GridSearchCV(clf, param_grid = grid_values)\n",
    "grid_clf_acc.fit(X_train, y_train)\n",
    "y_decision_fn_scores_acc = grid_clf_acc.decision_function(X_test) \n",
    "\n",
    "print('Grid best parameter (max. accuracy): ', grid_clf_acc.best_params_)\n",
    "print('Grid best score (accuracy): ', grid_clf_acc.best_score_)\n",
    "\n",
    "# alternative metric to optimize over grid parameters: AUC\n",
    "grid_clf_auc = GridSearchCV(clf, param_grid = grid_values, scoring = 'roc_auc')\n",
    "grid_clf_auc.fit(X_train, y_train)\n",
    "y_decision_fn_scores_auc = grid_clf_auc.decision_function(X_test) \n",
    "\n",
    "print('Test set AUC: ', roc_auc_score(y_test, y_decision_fn_scores_auc))\n",
    "print('Grid best parameter (max. AUC): ', grid_clf_auc.best_params_)\n",
    "print('Grid best score (AUC): ', grid_clf_auc.best_score_)"
   ]
  },
  {
   "cell_type": "code",
   "execution_count": 1082,
   "metadata": {
    "collapsed": false
   },
   "outputs": [],
   "source": [
    "# Standardise data\n",
    "from sklearn import preprocessing\n",
    "X_train_sc = pd.DataFrame(preprocessing.scale(X_train_refine))\n",
    "X_test_sc = pd.DataFrame(preprocessing.scale(X_test_refine))"
   ]
  },
  {
   "cell_type": "code",
   "execution_count": 1094,
   "metadata": {
    "collapsed": false
   },
   "outputs": [],
   "source": [
    "logreg = LogisticRegression()\n",
    "\n",
    "param_range = np.linspace(0.01,1.01,20)\n",
    "train_auc, test_auc = validation_curve(logreg, X = X_train_sc, y = y_train.astype(int), param_name = \"C\",\n",
    "                                       param_range = param_range, cv = 5, scoring = \"recall\", n_jobs = 1)\n",
    "CV_recall_mean = np.mean(test_recall, axis = 1)\n",
    "CV_recall_std = np.std(test_recall, axis = 1)\n",
    "best = param_range[np.where(CV_recall_mean == CV_recall_mean.max())][0]"
   ]
  },
  {
   "cell_type": "code",
   "execution_count": 1095,
   "metadata": {
    "collapsed": false
   },
   "outputs": [
    {
     "data": {
      "text/plain": [
       "0.01"
      ]
     },
     "execution_count": 1095,
     "metadata": {},
     "output_type": "execute_result"
    }
   ],
   "source": [
    "best"
   ]
  },
  {
   "cell_type": "code",
   "execution_count": null,
   "metadata": {
    "collapsed": true
   },
   "outputs": [],
   "source": []
  },
  {
   "cell_type": "code",
   "execution_count": 1096,
   "metadata": {
    "collapsed": false
   },
   "outputs": [
    {
     "data": {
      "text/html": [
       "<div>\n",
       "<table border=\"1\" class=\"dataframe\">\n",
       "  <thead>\n",
       "    <tr style=\"text-align: right;\">\n",
       "      <th></th>\n",
       "      <th>variable name</th>\n",
       "      <th>estimates</th>\n",
       "    </tr>\n",
       "  </thead>\n",
       "  <tbody>\n",
       "    <tr>\n",
       "      <th>2</th>\n",
       "      <td>Marketplace Value Delivered</td>\n",
       "      <td>0.605042</td>\n",
       "    </tr>\n",
       "    <tr>\n",
       "      <th>0</th>\n",
       "      <td>Number of Slots</td>\n",
       "      <td>0.385955</td>\n",
       "    </tr>\n",
       "    <tr>\n",
       "      <th>8</th>\n",
       "      <td>Last MKT Value</td>\n",
       "      <td>0.373930</td>\n",
       "    </tr>\n",
       "    <tr>\n",
       "      <th>17</th>\n",
       "      <td>Cost_per_app</td>\n",
       "      <td>0.362049</td>\n",
       "    </tr>\n",
       "    <tr>\n",
       "      <th>18</th>\n",
       "      <td>Cost_per_pkg</td>\n",
       "      <td>0.266041</td>\n",
       "    </tr>\n",
       "    <tr>\n",
       "      <th>15</th>\n",
       "      <td>app_per_day</td>\n",
       "      <td>0.180056</td>\n",
       "    </tr>\n",
       "    <tr>\n",
       "      <th>5</th>\n",
       "      <td>NA_num</td>\n",
       "      <td>0.148165</td>\n",
       "    </tr>\n",
       "    <tr>\n",
       "      <th>3</th>\n",
       "      <td>Applications</td>\n",
       "      <td>0.088261</td>\n",
       "    </tr>\n",
       "    <tr>\n",
       "      <th>10</th>\n",
       "      <td>last term</td>\n",
       "      <td>0.069894</td>\n",
       "    </tr>\n",
       "    <tr>\n",
       "      <th>14</th>\n",
       "      <td>app_per_pkg</td>\n",
       "      <td>0.059513</td>\n",
       "    </tr>\n",
       "    <tr>\n",
       "      <th>6</th>\n",
       "      <td>Last #Slots</td>\n",
       "      <td>0.023481</td>\n",
       "    </tr>\n",
       "    <tr>\n",
       "      <th>1</th>\n",
       "      <td>Price Paid</td>\n",
       "      <td>0.007427</td>\n",
       "    </tr>\n",
       "    <tr>\n",
       "      <th>9</th>\n",
       "      <td>Last Apps</td>\n",
       "      <td>-0.088178</td>\n",
       "    </tr>\n",
       "    <tr>\n",
       "      <th>4</th>\n",
       "      <td>term</td>\n",
       "      <td>-0.088252</td>\n",
       "    </tr>\n",
       "    <tr>\n",
       "      <th>7</th>\n",
       "      <td>Last Price Paid</td>\n",
       "      <td>-0.148156</td>\n",
       "    </tr>\n",
       "    <tr>\n",
       "      <th>16</th>\n",
       "      <td>app_per_slot</td>\n",
       "      <td>-0.190342</td>\n",
       "    </tr>\n",
       "    <tr>\n",
       "      <th>11</th>\n",
       "      <td>Loc count</td>\n",
       "      <td>-0.203361</td>\n",
       "    </tr>\n",
       "    <tr>\n",
       "      <th>13</th>\n",
       "      <td># Packages</td>\n",
       "      <td>-0.267774</td>\n",
       "    </tr>\n",
       "    <tr>\n",
       "      <th>12</th>\n",
       "      <td>State count</td>\n",
       "      <td>-0.268070</td>\n",
       "    </tr>\n",
       "    <tr>\n",
       "      <th>19</th>\n",
       "      <td>Cost_per_day</td>\n",
       "      <td>-0.359432</td>\n",
       "    </tr>\n",
       "  </tbody>\n",
       "</table>\n",
       "</div>"
      ],
      "text/plain": [
       "                  variable name  estimates\n",
       "2   Marketplace Value Delivered   0.605042\n",
       "0               Number of Slots   0.385955\n",
       "8                Last MKT Value   0.373930\n",
       "17                 Cost_per_app   0.362049\n",
       "18                 Cost_per_pkg   0.266041\n",
       "15                  app_per_day   0.180056\n",
       "5                        NA_num   0.148165\n",
       "3                  Applications   0.088261\n",
       "10                    last term   0.069894\n",
       "14                  app_per_pkg   0.059513\n",
       "6                   Last #Slots   0.023481\n",
       "1                    Price Paid   0.007427\n",
       "9                     Last Apps  -0.088178\n",
       "4                          term  -0.088252\n",
       "7               Last Price Paid  -0.148156\n",
       "16                 app_per_slot  -0.190342\n",
       "11                    Loc count  -0.203361\n",
       "13                   # Packages  -0.267774\n",
       "12                  State count  -0.268070\n",
       "19                 Cost_per_day  -0.359432"
      ]
     },
     "execution_count": 1096,
     "metadata": {},
     "output_type": "execute_result"
    }
   ],
   "source": [
    "coef = pd.DataFrame(list(zip(X.columns,logreg.coef_.tolist()[0])),columns = [\"variable name\",\"estimates\"]).sort_values(by = \"estimates\", ascending = False)\n",
    "coef"
   ]
  },
  {
   "cell_type": "code",
   "execution_count": null,
   "metadata": {
    "collapsed": true
   },
   "outputs": [],
   "source": []
  },
  {
   "cell_type": "code",
   "execution_count": null,
   "metadata": {
    "collapsed": true
   },
   "outputs": [],
   "source": []
  },
  {
   "cell_type": "code",
   "execution_count": null,
   "metadata": {
    "collapsed": true
   },
   "outputs": [],
   "source": []
  },
  {
   "cell_type": "code",
   "execution_count": null,
   "metadata": {
    "collapsed": true
   },
   "outputs": [],
   "source": []
  },
  {
   "cell_type": "code",
   "execution_count": 812,
   "metadata": {
    "collapsed": false
   },
   "outputs": [
    {
     "data": {
      "text/plain": [
       "<matplotlib.axes._subplots.AxesSubplot at 0x1fe3af28>"
      ]
     },
     "execution_count": 812,
     "metadata": {},
     "output_type": "execute_result"
    },
    {
     "data": {
      "image/png": "[encoded data removed]",
      "text/plain": [
       "<matplotlib.figure.Figure at 0x1fe4f5f8>"
      ]
     },
     "metadata": {},
     "output_type": "display_data"
    }
   ],
   "source": [
    "%matplotlib inline\n",
    "import seaborn as sb\n",
    "sb.heatmap(X_train.corr())"
   ]
  },
  {
   "cell_type": "code",
   "execution_count": 820,
   "metadata": {
    "collapsed": false
   },
   "outputs": [
    {
     "name": "stdout",
     "output_type": "stream",
     "text": [
      "Warning: Maximum number of iterations has been exceeded.\n",
      "         Current function value: inf\n",
      "         Iterations: 35\n"
     ]
    },
    {
     "ename": "LinAlgError",
     "evalue": "Singular matrix",
     "output_type": "error",
     "traceback": [
      "\u001b[0;31m---------------------------------------------------------------------------\u001b[0m",
      "\u001b[0;31mLinAlgError\u001b[0m                               Traceback (most recent call last)",
      "\u001b[0;32m<ipython-input-820-18f9cdabcf5b>\u001b[0m in \u001b[0;36m<module>\u001b[0;34m()\u001b[0m\n\u001b[1;32m      5\u001b[0m \u001b[1;33m\u001b[0m\u001b[0m\n\u001b[1;32m      6\u001b[0m \u001b[1;31m# fit the model\u001b[0m\u001b[1;33m\u001b[0m\u001b[1;33m\u001b[0m\u001b[0m\n\u001b[0;32m----> 7\u001b[0;31m \u001b[0mresult\u001b[0m \u001b[1;33m=\u001b[0m \u001b[0mlogit\u001b[0m\u001b[1;33m.\u001b[0m\u001b[0mfit\u001b[0m\u001b[1;33m(\u001b[0m\u001b[1;33m)\u001b[0m\u001b[1;33m\u001b[0m\u001b[0m\n\u001b[0m",
      "\u001b[0;32mC:\\ProgramData\\Anaconda2\\lib\\site-packages\\statsmodels\\discrete\\discrete_model.py\u001b[0m in \u001b[0;36mfit\u001b[0;34m(self, start_params, method, maxiter, full_output, disp, callback, **kwargs)\u001b[0m\n\u001b[1;32m   1374\u001b[0m         bnryfit = super(Logit, self).fit(start_params=start_params,\n\u001b[1;32m   1375\u001b[0m                 \u001b[0mmethod\u001b[0m\u001b[1;33m=\u001b[0m\u001b[0mmethod\u001b[0m\u001b[1;33m,\u001b[0m \u001b[0mmaxiter\u001b[0m\u001b[1;33m=\u001b[0m\u001b[0mmaxiter\u001b[0m\u001b[1;33m,\u001b[0m \u001b[0mfull_output\u001b[0m\u001b[1;33m=\u001b[0m\u001b[0mfull_output\u001b[0m\u001b[1;33m,\u001b[0m\u001b[1;33m\u001b[0m\u001b[0m\n\u001b[0;32m-> 1376\u001b[0;31m                 disp=disp, callback=callback, **kwargs)\n\u001b[0m\u001b[1;32m   1377\u001b[0m \u001b[1;33m\u001b[0m\u001b[0m\n\u001b[1;32m   1378\u001b[0m         \u001b[0mdiscretefit\u001b[0m \u001b[1;33m=\u001b[0m \u001b[0mLogitResults\u001b[0m\u001b[1;33m(\u001b[0m\u001b[0mself\u001b[0m\u001b[1;33m,\u001b[0m \u001b[0mbnryfit\u001b[0m\u001b[1;33m)\u001b[0m\u001b[1;33m\u001b[0m\u001b[0m\n",
      "\u001b[0;32mC:\\ProgramData\\Anaconda2\\lib\\site-packages\\statsmodels\\discrete\\discrete_model.py\u001b[0m in \u001b[0;36mfit\u001b[0;34m(self, start_params, method, maxiter, full_output, disp, callback, **kwargs)\u001b[0m\n\u001b[1;32m    201\u001b[0m         mlefit = super(DiscreteModel, self).fit(start_params=start_params,\n\u001b[1;32m    202\u001b[0m                 \u001b[0mmethod\u001b[0m\u001b[1;33m=\u001b[0m\u001b[0mmethod\u001b[0m\u001b[1;33m,\u001b[0m \u001b[0mmaxiter\u001b[0m\u001b[1;33m=\u001b[0m\u001b[0mmaxiter\u001b[0m\u001b[1;33m,\u001b[0m \u001b[0mfull_output\u001b[0m\u001b[1;33m=\u001b[0m\u001b[0mfull_output\u001b[0m\u001b[1;33m,\u001b[0m\u001b[1;33m\u001b[0m\u001b[0m\n\u001b[0;32m--> 203\u001b[0;31m                 disp=disp, callback=callback, **kwargs)\n\u001b[0m\u001b[1;32m    204\u001b[0m \u001b[1;33m\u001b[0m\u001b[0m\n\u001b[1;32m    205\u001b[0m         \u001b[1;32mreturn\u001b[0m \u001b[0mmlefit\u001b[0m \u001b[1;31m# up to subclasses to wrap results\u001b[0m\u001b[1;33m\u001b[0m\u001b[0m\n",
      "\u001b[0;32mC:\\ProgramData\\Anaconda2\\lib\\site-packages\\statsmodels\\base\\model.py\u001b[0m in \u001b[0;36mfit\u001b[0;34m(self, start_params, method, maxiter, full_output, disp, fargs, callback, retall, skip_hessian, **kwargs)\u001b[0m\n\u001b[1;32m    432\u001b[0m             \u001b[0mHinv\u001b[0m \u001b[1;33m=\u001b[0m \u001b[0mcov_params_func\u001b[0m\u001b[1;33m(\u001b[0m\u001b[0mself\u001b[0m\u001b[1;33m,\u001b[0m \u001b[0mxopt\u001b[0m\u001b[1;33m,\u001b[0m \u001b[0mretvals\u001b[0m\u001b[1;33m)\u001b[0m\u001b[1;33m\u001b[0m\u001b[0m\n\u001b[1;32m    433\u001b[0m         \u001b[1;32melif\u001b[0m \u001b[0mmethod\u001b[0m \u001b[1;33m==\u001b[0m \u001b[1;34m'newton'\u001b[0m \u001b[1;32mand\u001b[0m \u001b[0mfull_output\u001b[0m\u001b[1;33m:\u001b[0m\u001b[1;33m\u001b[0m\u001b[0m\n\u001b[0;32m--> 434\u001b[0;31m             \u001b[0mHinv\u001b[0m \u001b[1;33m=\u001b[0m \u001b[0mnp\u001b[0m\u001b[1;33m.\u001b[0m\u001b[0mlinalg\u001b[0m\u001b[1;33m.\u001b[0m\u001b[0minv\u001b[0m\u001b[1;33m(\u001b[0m\u001b[1;33m-\u001b[0m\u001b[0mretvals\u001b[0m\u001b[1;33m[\u001b[0m\u001b[1;34m'Hessian'\u001b[0m\u001b[1;33m]\u001b[0m\u001b[1;33m)\u001b[0m \u001b[1;33m/\u001b[0m \u001b[0mnobs\u001b[0m\u001b[1;33m\u001b[0m\u001b[0m\n\u001b[0m\u001b[1;32m    435\u001b[0m         \u001b[1;32melif\u001b[0m \u001b[1;32mnot\u001b[0m \u001b[0mskip_hessian\u001b[0m\u001b[1;33m:\u001b[0m\u001b[1;33m\u001b[0m\u001b[0m\n\u001b[1;32m    436\u001b[0m             \u001b[1;32mtry\u001b[0m\u001b[1;33m:\u001b[0m\u001b[1;33m\u001b[0m\u001b[0m\n",
      "\u001b[0;32mC:\\ProgramData\\Anaconda2\\lib\\site-packages\\numpy\\linalg\\linalg.py\u001b[0m in \u001b[0;36minv\u001b[0;34m(a)\u001b[0m\n\u001b[1;32m    524\u001b[0m     \u001b[0msignature\u001b[0m \u001b[1;33m=\u001b[0m \u001b[1;34m'D->D'\u001b[0m \u001b[1;32mif\u001b[0m \u001b[0misComplexType\u001b[0m\u001b[1;33m(\u001b[0m\u001b[0mt\u001b[0m\u001b[1;33m)\u001b[0m \u001b[1;32melse\u001b[0m \u001b[1;34m'd->d'\u001b[0m\u001b[1;33m\u001b[0m\u001b[0m\n\u001b[1;32m    525\u001b[0m     \u001b[0mextobj\u001b[0m \u001b[1;33m=\u001b[0m \u001b[0mget_linalg_error_extobj\u001b[0m\u001b[1;33m(\u001b[0m\u001b[0m_raise_linalgerror_singular\u001b[0m\u001b[1;33m)\u001b[0m\u001b[1;33m\u001b[0m\u001b[0m\n\u001b[0;32m--> 526\u001b[0;31m     \u001b[0mainv\u001b[0m \u001b[1;33m=\u001b[0m \u001b[0m_umath_linalg\u001b[0m\u001b[1;33m.\u001b[0m\u001b[0minv\u001b[0m\u001b[1;33m(\u001b[0m\u001b[0ma\u001b[0m\u001b[1;33m,\u001b[0m \u001b[0msignature\u001b[0m\u001b[1;33m=\u001b[0m\u001b[0msignature\u001b[0m\u001b[1;33m,\u001b[0m \u001b[0mextobj\u001b[0m\u001b[1;33m=\u001b[0m\u001b[0mextobj\u001b[0m\u001b[1;33m)\u001b[0m\u001b[1;33m\u001b[0m\u001b[0m\n\u001b[0m\u001b[1;32m    527\u001b[0m     \u001b[1;32mreturn\u001b[0m \u001b[0mwrap\u001b[0m\u001b[1;33m(\u001b[0m\u001b[0mainv\u001b[0m\u001b[1;33m.\u001b[0m\u001b[0mastype\u001b[0m\u001b[1;33m(\u001b[0m\u001b[0mresult_t\u001b[0m\u001b[1;33m,\u001b[0m \u001b[0mcopy\u001b[0m\u001b[1;33m=\u001b[0m\u001b[0mFalse\u001b[0m\u001b[1;33m)\u001b[0m\u001b[1;33m)\u001b[0m\u001b[1;33m\u001b[0m\u001b[0m\n\u001b[1;32m    528\u001b[0m \u001b[1;33m\u001b[0m\u001b[0m\n",
      "\u001b[0;32mC:\\ProgramData\\Anaconda2\\lib\\site-packages\\numpy\\linalg\\linalg.py\u001b[0m in \u001b[0;36m_raise_linalgerror_singular\u001b[0;34m(err, flag)\u001b[0m\n\u001b[1;32m     88\u001b[0m \u001b[1;33m\u001b[0m\u001b[0m\n\u001b[1;32m     89\u001b[0m \u001b[1;32mdef\u001b[0m \u001b[0m_raise_linalgerror_singular\u001b[0m\u001b[1;33m(\u001b[0m\u001b[0merr\u001b[0m\u001b[1;33m,\u001b[0m \u001b[0mflag\u001b[0m\u001b[1;33m)\u001b[0m\u001b[1;33m:\u001b[0m\u001b[1;33m\u001b[0m\u001b[0m\n\u001b[0;32m---> 90\u001b[0;31m     \u001b[1;32mraise\u001b[0m \u001b[0mLinAlgError\u001b[0m\u001b[1;33m(\u001b[0m\u001b[1;34m\"Singular matrix\"\u001b[0m\u001b[1;33m)\u001b[0m\u001b[1;33m\u001b[0m\u001b[0m\n\u001b[0m\u001b[1;32m     91\u001b[0m \u001b[1;33m\u001b[0m\u001b[0m\n\u001b[1;32m     92\u001b[0m \u001b[1;32mdef\u001b[0m \u001b[0m_raise_linalgerror_nonposdef\u001b[0m\u001b[1;33m(\u001b[0m\u001b[0merr\u001b[0m\u001b[1;33m,\u001b[0m \u001b[0mflag\u001b[0m\u001b[1;33m)\u001b[0m\u001b[1;33m:\u001b[0m\u001b[1;33m\u001b[0m\u001b[0m\n",
      "\u001b[0;31mLinAlgError\u001b[0m: Singular matrix"
     ]
    }
   ],
   "source": [
    "import statsmodels.api as sm\n",
    "train_cols = X_train.columns[0:10]\n",
    "# Index([gre, gpa, prestige_2, prestige_3, prestige_4], dtype=object)\n",
    "logit = sm.Logit(y_train, X_train)\n",
    "\n",
    "# fit the model\n",
    "result = logit.fit()\n"
   ]
  },
  {
   "cell_type": "code",
   "execution_count": 814,
   "metadata": {
    "collapsed": false
   },
   "outputs": [
    {
     "ename": "NameError",
     "evalue": "name 'result' is not defined",
     "output_type": "error",
     "traceback": [
      "\u001b[0;31m---------------------------------------------------------------------------\u001b[0m",
      "\u001b[0;31mNameError\u001b[0m                                 Traceback (most recent call last)",
      "\u001b[0;32m<ipython-input-814-48b38c155f6f>\u001b[0m in \u001b[0;36m<module>\u001b[0;34m()\u001b[0m\n\u001b[0;32m----> 1\u001b[0;31m \u001b[1;32mprint\u001b[0m \u001b[0mresult\u001b[0m\u001b[1;33m.\u001b[0m\u001b[0msummary\u001b[0m\u001b[1;33m(\u001b[0m\u001b[1;33m)\u001b[0m\u001b[1;33m\u001b[0m\u001b[0m\n\u001b[0m",
      "\u001b[0;31mNameError\u001b[0m: name 'result' is not defined"
     ]
    }
   ],
   "source": [
    "print result.summary()"
   ]
  },
  {
   "cell_type": "code",
   "execution_count": 795,
   "metadata": {
    "collapsed": false
   },
   "outputs": [
    {
     "data": {
      "text/plain": [
       "array([ 0.1,  0.2,  0.3,  0.4,  0.5,  0.6,  0.7,  0.8,  0.9,  1. ])"
      ]
     },
     "execution_count": 795,
     "metadata": {},
     "output_type": "execute_result"
    }
   ],
   "source": [
    "param_range"
   ]
  },
  {
   "cell_type": "code",
   "execution_count": 797,
   "metadata": {
    "collapsed": false
   },
   "outputs": [
    {
     "data": {
      "text/plain": [
       "array([ 0.98804293,  0.9843032 ,  0.98729387,  0.98355414,  0.98280787,\n",
       "        0.98132092,  0.98879479,  0.9820616 ,  0.98580133,  0.984306  ])"
      ]
     },
     "execution_count": 797,
     "metadata": {},
     "output_type": "execute_result"
    }
   ],
   "source": [
    "CV_recall_mean"
   ]
  },
  {
   "cell_type": "code",
   "execution_count": 787,
   "metadata": {
    "collapsed": false
   },
   "outputs": [
    {
     "data": {
      "text/plain": [
       "array([ 0.00760337,  0.00595129,  0.01045299,  0.00649625,  0.00767249,\n",
       "        0.0107971 ,  0.00944408,  0.00721807,  0.00760283,  0.00721863])"
      ]
     },
     "execution_count": 787,
     "metadata": {},
     "output_type": "execute_result"
    }
   ],
   "source": [
    "CV_recall_std"
   ]
  },
  {
   "cell_type": "code",
   "execution_count": 801,
   "metadata": {
    "collapsed": false
   },
   "outputs": [
    {
     "data": {
      "text/plain": [
       "array([<matplotlib.axes._subplots.AxesSubplot object at 0x0000000016543F28>,\n",
       "       <matplotlib.axes._subplots.AxesSubplot object at 0x0000000021543FD0>,\n",
       "       <matplotlib.axes._subplots.AxesSubplot object at 0x00000000170812E8>,\n",
       "       <matplotlib.axes._subplots.AxesSubplot object at 0x00000000170914A8>,\n",
       "       <matplotlib.axes._subplots.AxesSubplot object at 0x00000000216DBEF0>,\n",
       "       <matplotlib.axes._subplots.AxesSubplot object at 0x00000000180DD710>,\n",
       "       <matplotlib.axes._subplots.AxesSubplot object at 0x000000001714F3C8>,\n",
       "       <matplotlib.axes._subplots.AxesSubplot object at 0x0000000021AEAF60>,\n",
       "       <matplotlib.axes._subplots.AxesSubplot object at 0x000000001B2347F0>,\n",
       "       <matplotlib.axes._subplots.AxesSubplot object at 0x000000001B3422E8>], dtype=object)"
      ]
     },
     "execution_count": 801,
     "metadata": {},
     "output_type": "execute_result"
    }
   ],
   "source": [
    "ax"
   ]
  }
 ],
 "metadata": {
  "kernelspec": {
   "display_name": "Python 2",
   "language": "python",
   "name": "python2"
  },
  "language_info": {
   "codemirror_mode": {
    "name": "ipython",
    "version": 2
   },
   "file_extension": ".py",
   "mimetype": "text/x-python",
   "name": "python",
   "nbconvert_exporter": "python",
   "pygments_lexer": "ipython2",
   "version": "2.7.13"
  }
 },
 "nbformat": 4,
 "nbformat_minor": 2
}

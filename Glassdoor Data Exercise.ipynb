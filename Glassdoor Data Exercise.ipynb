{
 "cells": [
  {
   "cell_type": "markdown",
   "metadata": {},
   "source": [
    "# Glassdoor Take home "
   ]
  },
  {
   "cell_type": "markdown",
   "metadata": {},
   "source": [
    "### PART 1:  JOB SLOT SALES AND PERFORMANCE DISTRIBUTION"
   ]
  },
  {
   "cell_type": "raw",
   "metadata": {},
   "source": [
    "1)\tWhat is the variation across the Job Slot packages we sell?  \t\t\t\t\t\t\t\t\t\t\t\t\t\t\n",
    "\t- What does the distribution of pricing look like?\t\t\t\t\t\t\t\t\t\t\t\t\t\t\n",
    "\t- What packages are most popular, based on the number of slots?\t\t\t\t\t\t\t\t\t\t\t\t\t\t\n",
    "\t- How does term length vary?\t\t\t\t\t\t\t\t\t\t\t\t\t\t\n",
    "\t\t\t\t\t\t\t\t\t\t\t\t\t\t\t\n",
    "2)\tWhat metrics should we use to compare delivery performance across customers?  How does performance vary in terms of: \n",
    "\t- Application metrics?\t\t\t\t\t\t\t\t\t\t\t\t\t\t\n",
    "\t- Cost?\t\t\t\t\t\t\t\t\t\t\t\t\t\t\n",
    "\t- Marketplace value?\t\t\t\t\t\t\t\t\t\t\t\t\t\t"
   ]
  },
  {
   "cell_type": "markdown",
   "metadata": {},
   "source": [
    "### PART 2:  RETENTION ANALYSIS\t\t\t\t\t\t\t\t\t\t\t\t\t\t\t"
   ]
  },
  {
   "cell_type": "raw",
   "metadata": {},
   "source": [
    "3)\tWhat factor or combination of factors best predict likelihood to retain (i.e., Renewed = 1)?  Which factors appear to have the greatest impact on retention?\n",
    "\n",
    "4)\tHow well does your analysis in #3 predict retention?  What other factors might you want to investigate to see if they could improve your analysis?\t\t\t\t\t\t\t\t\n",
    "\n",
    "5) \tBased on your analysis, what modifications would you recommend we make to our ad platform algorithm to improve retention?"
   ]
  },
  {
   "cell_type": "markdown",
   "metadata": {},
   "source": [
    "# Code Start Here:"
   ]
  },
  {
   "cell_type": "code",
   "execution_count": 1,
   "metadata": {
    "collapsed": false
   },
   "outputs": [
    {
     "name": "stderr",
     "output_type": "stream",
     "text": [
      "C:\\ProgramData\\Anaconda2\\lib\\site-packages\\sklearn\\cross_validation.py:44: DeprecationWarning: This module was deprecated in version 0.18 in favor of the model_selection module into which all the refactored classes and functions are moved. Also note that the interface of the new CV iterators are different from that of this module. This module will be removed in 0.20.\n",
      "  \"This module will be removed in 0.20.\", DeprecationWarning)\n",
      "C:\\ProgramData\\Anaconda2\\lib\\site-packages\\sklearn\\grid_search.py:43: DeprecationWarning: This module was deprecated in version 0.18 in favor of the model_selection module into which all the refactored classes and functions are moved. This module will be removed in 0.20.\n",
      "  DeprecationWarning)\n"
     ]
    }
   ],
   "source": [
    "# Import all packages\n",
    "import pandas as pd\n",
    "import numpy as np\n",
    "from datetime import date\n",
    "%matplotlib notebook\n",
    "import matplotlib\n",
    "import matplotlib.pyplot as plt\n",
    "from sklearn.linear_model import LogisticRegression\n",
    "from sklearn.model_selection import train_test_split\n",
    "from sklearn.model_selection import validation_curve\n",
    "\n",
    "from sklearn.ensemble import GradientBoostingClassifier  #GBM algorithm\n",
    "from sklearn.ensemble.partial_dependence import plot_partial_dependence\n",
    "from sklearn.ensemble.partial_dependence import partial_dependence\n",
    "\n",
    "#from sklearn import cross_validation, metrics   #Additional scklearn functions\n",
    "from sklearn.grid_search import GridSearchCV   #Perforing grid search\n",
    "\n",
    "import matplotlib.pylab as plot\n",
    "%matplotlib inline\n",
    "from matplotlib.pylab import rcParams\n",
    "rcParams['figure.figsize'] = 12, 4\n"
   ]
  },
  {
   "cell_type": "code",
   "execution_count": 2,
   "metadata": {
    "collapsed": false
   },
   "outputs": [],
   "source": [
    "# Read data into dataframe job\n",
    "job = pd.read_excel(\"Job Slot Retention Case vCandidate.xlsx\", sheetname = \"Ex 1 - Job Slot Raw Data\")"
   ]
  },
  {
   "cell_type": "code",
   "execution_count": 3,
   "metadata": {
    "collapsed": false
   },
   "outputs": [
    {
     "data": {
      "text/html": [
       "<div>\n",
       "<table border=\"1\" class=\"dataframe\">\n",
       "  <thead>\n",
       "    <tr style=\"text-align: right;\">\n",
       "      <th></th>\n",
       "      <th>Start Date</th>\n",
       "      <th>End Date</th>\n",
       "      <th>Employer ID</th>\n",
       "      <th>Employer City</th>\n",
       "      <th>Employer State</th>\n",
       "      <th>Number of Slots</th>\n",
       "      <th>Price Paid</th>\n",
       "      <th>Marketplace Value Delivered</th>\n",
       "      <th>Applications</th>\n",
       "      <th>Renewed?</th>\n",
       "    </tr>\n",
       "  </thead>\n",
       "  <tbody>\n",
       "    <tr>\n",
       "      <th>0</th>\n",
       "      <td>2015-02-01</td>\n",
       "      <td>2016-02-29</td>\n",
       "      <td>40</td>\n",
       "      <td>Belmont</td>\n",
       "      <td>California</td>\n",
       "      <td>125</td>\n",
       "      <td>67125.0</td>\n",
       "      <td>147711.043445</td>\n",
       "      <td>9647.7</td>\n",
       "      <td>0</td>\n",
       "    </tr>\n",
       "    <tr>\n",
       "      <th>1</th>\n",
       "      <td>2015-12-31</td>\n",
       "      <td>2016-12-30</td>\n",
       "      <td>43</td>\n",
       "      <td>Northbrook</td>\n",
       "      <td>Illinois</td>\n",
       "      <td>100</td>\n",
       "      <td>85025.0</td>\n",
       "      <td>62214.929769</td>\n",
       "      <td>7182.2</td>\n",
       "      <td>1</td>\n",
       "    </tr>\n",
       "    <tr>\n",
       "      <th>2</th>\n",
       "      <td>2016-01-02</td>\n",
       "      <td>2017-01-01</td>\n",
       "      <td>72</td>\n",
       "      <td>New York</td>\n",
       "      <td>New York State</td>\n",
       "      <td>100</td>\n",
       "      <td>71600.0</td>\n",
       "      <td>58759.871766</td>\n",
       "      <td>6537.0</td>\n",
       "      <td>0</td>\n",
       "    </tr>\n",
       "  </tbody>\n",
       "</table>\n",
       "</div>"
      ],
      "text/plain": [
       "  Start Date   End Date  Employer ID Employer City  Employer State  \\\n",
       "0 2015-02-01 2016-02-29           40       Belmont      California   \n",
       "1 2015-12-31 2016-12-30           43    Northbrook        Illinois   \n",
       "2 2016-01-02 2017-01-01           72      New York  New York State   \n",
       "\n",
       "   Number of Slots  Price Paid  Marketplace Value Delivered  Applications  \\\n",
       "0              125     67125.0                147711.043445        9647.7   \n",
       "1              100     85025.0                 62214.929769        7182.2   \n",
       "2              100     71600.0                 58759.871766        6537.0   \n",
       "\n",
       "   Renewed?  \n",
       "0         0  \n",
       "1         1  \n",
       "2         0  "
      ]
     },
     "execution_count": 3,
     "metadata": {},
     "output_type": "execute_result"
    }
   ],
   "source": [
    "job.head(3)"
   ]
  },
  {
   "cell_type": "markdown",
   "metadata": {},
   "source": [
    "## Data Sanity Check"
   ]
  },
  {
   "cell_type": "code",
   "execution_count": 4,
   "metadata": {
    "collapsed": false
   },
   "outputs": [
    {
     "name": "stdout",
     "output_type": "stream",
     "text": [
      "(3078, 10)\n",
      "<class 'pandas.core.frame.DataFrame'>\n",
      "RangeIndex: 3078 entries, 0 to 3077\n",
      "Data columns (total 10 columns):\n",
      "Start Date                     3078 non-null datetime64[ns]\n",
      "End Date                       3078 non-null datetime64[ns]\n",
      "Employer ID                    3078 non-null int64\n",
      "Employer City                  3078 non-null object\n",
      "Employer State                 3078 non-null object\n",
      "Number of Slots                3078 non-null int64\n",
      "Price Paid                     3078 non-null float64\n",
      "Marketplace Value Delivered    3078 non-null float64\n",
      "Applications                   3078 non-null float64\n",
      "Renewed?                       3078 non-null int64\n",
      "dtypes: datetime64[ns](2), float64(3), int64(3), object(2)\n",
      "memory usage: 240.5+ KB\n",
      "None\n"
     ]
    }
   ],
   "source": [
    "# print data structure: # records, # columns, column names and type\n",
    "print(job.shape)\n",
    "print(job.info())"
   ]
  },
  {
   "cell_type": "code",
   "execution_count": 5,
   "metadata": {
    "collapsed": false
   },
   "outputs": [
    {
     "data": {
      "text/plain": [
       "(0, 10)"
      ]
     },
     "execution_count": 5,
     "metadata": {},
     "output_type": "execute_result"
    }
   ],
   "source": [
    "# check if date range is valid\n",
    "job_invalid = job[job[\"Start Date\"] > job[\"End Date\"]]\n",
    "job_invalid.shape\n",
    "# No invalid date data"
   ]
  },
  {
   "cell_type": "markdown",
   "metadata": {},
   "source": [
    "#### Conclusion: No valid record found for Start Date and End Date"
   ]
  },
  {
   "cell_type": "code",
   "execution_count": 6,
   "metadata": {
    "collapsed": false
   },
   "outputs": [
    {
     "name": "stdout",
     "output_type": "stream",
     "text": [
      "((0, 10), (0, 10), (0, 10), (0, 10))\n"
     ]
    },
    {
     "data": {
      "text/plain": [
       "1    2087\n",
       "0     991\n",
       "Name: Renewed?, dtype: int64"
      ]
     },
     "execution_count": 6,
     "metadata": {},
     "output_type": "execute_result"
    }
   ],
   "source": [
    "# Check if negative value for # slots, price paid, application, marketplace value, or invalid value for renewed\n",
    "job_negslot = job[job[\"Number of Slots\"] <= 0]\n",
    "job_negprice = job[job[\"Price Paid\"] <= 0]\n",
    "job_negvalue = job[job[\"Marketplace Value Delivered\"] < 0]\n",
    "job_negapp = job[job[\"Applications\"] < 0]\n",
    "print(job_negslot.shape, job_negprice.shape, job_negvalue.shape, job_negapp.shape)\n",
    "job[\"Renewed?\"].value_counts()"
   ]
  },
  {
   "cell_type": "markdown",
   "metadata": {},
   "source": [
    "#### Conclusion: No invalid value for #slot, price paid, marketplace value, #application, Renew or not fields"
   ]
  },
  {
   "cell_type": "code",
   "execution_count": 7,
   "metadata": {
    "collapsed": false
   },
   "outputs": [
    {
     "name": "stdout",
     "output_type": "stream",
     "text": [
      "127\n"
     ]
    },
    {
     "data": {
      "text/plain": [
       "0    10\n",
       "Name: Employer State, dtype: int64"
      ]
     },
     "execution_count": 7,
     "metadata": {},
     "output_type": "execute_result"
    }
   ],
   "source": [
    "# Chcek Employer State distribution\n",
    "print(job[\"Employer State\"].nunique(dropna = False))\n",
    "#job[\"Employer State\"].value_counts()\n",
    "#job[\"Employer City\"].value_counts()\n",
    "job[job[\"Employer City\"]==0][\"Employer State\"].value_counts()"
   ]
  },
  {
   "cell_type": "markdown",
   "metadata": {},
   "source": [
    "#### Conclusion 1: The file has \"na\" and \"0\" values for City and State; \n",
    "#### Assumption 1: City with \"0\" is data error (invalid records); State with \"0\" (while City has Valid value, like Singapore) is valid\n",
    "#### Assumption 2: \"na\" means no specific request location for the job and is valid\n",
    "#### Conclusion 2: The file includes both International and US market"
   ]
  },
  {
   "cell_type": "code",
   "execution_count": 8,
   "metadata": {
    "collapsed": false
   },
   "outputs": [
    {
     "data": {
      "text/plain": [
       "(3078, 10)"
      ]
     },
     "execution_count": 8,
     "metadata": {},
     "output_type": "execute_result"
    }
   ],
   "source": [
    "# Check duplication record\n",
    "# Given employer can have multiple contract transactions around the same period,\n",
    "# here I checked if there is duplicated contract transaction records\n",
    "job.drop_duplicates().shape"
   ]
  },
  {
   "cell_type": "code",
   "execution_count": 9,
   "metadata": {
    "collapsed": false
   },
   "outputs": [
    {
     "name": "stdout",
     "output_type": "stream",
     "text": [
      "(2757, 1)\n",
      "(3053, 3)\n"
     ]
    }
   ],
   "source": [
    "# Check duplications for repeated customers, and repeat_customers/ job location\n",
    "print(job[[\"Employer ID\"]].drop_duplicates().shape)\n",
    "print(job[[\"Employer ID\", \"Employer State\",\"Employer City\"]].drop_duplicates().shape)"
   ]
  },
  {
   "cell_type": "markdown",
   "metadata": {},
   "source": [
    "#### Conclusion: No duplication based on contract transaction data; \n",
    "#### Conclusion: Employer can purchase multiple contracts due to (1) different job location, (2) renew, and/or (3) purchase multiple contracts around the time"
   ]
  },
  {
   "cell_type": "markdown",
   "metadata": {},
   "source": [
    "## Data Cleaning"
   ]
  },
  {
   "cell_type": "code",
   "execution_count": 10,
   "metadata": {
    "collapsed": false
   },
   "outputs": [
    {
     "data": {
      "text/plain": [
       "(3068, 10)"
      ]
     },
     "execution_count": 10,
     "metadata": {},
     "output_type": "execute_result"
    }
   ],
   "source": [
    "# delete invalid values, both city has 0 values\n",
    "job = job[job[\"Employer City\"] != 0]\n",
    "job.shape"
   ]
  },
  {
   "cell_type": "code",
   "execution_count": 11,
   "metadata": {
    "collapsed": false
   },
   "outputs": [],
   "source": [
    "# Fill \"0\" in field employer state with the value in employer City\n",
    "def fillcity(row):\n",
    "    if row[\"Employer State\"] == 0:\n",
    "        return row[\"Employer City\"]\n",
    "    else:\n",
    "        return row[\"Employer State\"]\n",
    "job[\"Employer State\"] = job.apply(lambda x: fillcity(x), axis = 1)"
   ]
  },
  {
   "cell_type": "code",
   "execution_count": 12,
   "metadata": {
    "collapsed": false
   },
   "outputs": [],
   "source": [
    "#job[\"Employer State\"].value_counts()"
   ]
  },
  {
   "cell_type": "markdown",
   "metadata": {},
   "source": [
    "## PART 1:  JOB SLOT SALES AND PERFORMANCE DISTRIBUTION"
   ]
  },
  {
   "cell_type": "markdown",
   "metadata": {},
   "source": [
    "### What is the variation across the Job Slot packages we sell?  "
   ]
  },
  {
   "cell_type": "markdown",
   "metadata": {},
   "source": [
    "#### Price Distribution"
   ]
  },
  {
   "cell_type": "code",
   "execution_count": 13,
   "metadata": {
    "collapsed": false
   },
   "outputs": [
    {
     "data": {
      "text/plain": [
       "count      3068.000000\n",
       "mean      22365.443325\n",
       "std       15614.701211\n",
       "min         205.402500\n",
       "1%         5788.384397\n",
       "2%        10740.000000\n",
       "5%        10740.000000\n",
       "10%       10740.000000\n",
       "25%       13425.000000\n",
       "50%       17094.500000\n",
       "75%       26850.000000\n",
       "90%       40275.000000\n",
       "95%       53700.000000\n",
       "98%       67125.000000\n",
       "99%       80550.000000\n",
       "max      273870.000000\n",
       "Name: Price Paid, dtype: float64"
      ]
     },
     "execution_count": 13,
     "metadata": {},
     "output_type": "execute_result"
    }
   ],
   "source": [
    "# Price Paid: Statistics\n",
    "job[\"Price Paid\"].describe(percentiles=[.01, 0.02, .05, .1, .25, .5, .75, .9, .95, 0.98, .99])"
   ]
  },
  {
   "cell_type": "code",
   "execution_count": 14,
   "metadata": {
    "collapsed": false
   },
   "outputs": [],
   "source": [
    "# Floor/ Cap the field at 1%/99% percentile\n",
    "price = [job[\"Price Paid\"].quantile(0.01), job[\"Price Paid\"].quantile(0.95)]\n",
    "job[\"Price_paid_mani\"] = job[\"Price Paid\"].apply(lambda x: price[0] if x < price[0] else x)\n",
    "job[\"Price_paid_mani\"] = job[\"Price_paid_mani\"].apply(lambda x: price[1] if x > price[1] else x)"
   ]
  },
  {
   "cell_type": "code",
   "execution_count": 15,
   "metadata": {
    "collapsed": false
   },
   "outputs": [
    {
     "data": {
      "text/plain": [
       "<matplotlib.text.Text at 0xc21afd0>"
      ]
     },
     "execution_count": 15,
     "metadata": {},
     "output_type": "execute_result"
    },
    {
     "data": {
      "image/png": "[encoded data removed]",
      "text/plain": [
       "<matplotlib.figure.Figure at 0xc3b4e10>"
      ]
     },
     "metadata": {},
     "output_type": "display_data"
    }
   ],
   "source": [
    "bin_values = np.arange(start= job[\"Price_paid_mani\"].min(), stop=job[\"Price_paid_mani\"].max(), step=2000)\n",
    "price_plot = job['Price_paid_mani'].hist(bins=bin_values, figsize=[10,6])\n",
    "price_plot.set_title(\"Histogram for Price Paid\", fontsize = 20)\n",
    "price_plot.set_xlabel(\"$ Price Paid\", fontsize = 15)\n",
    "price_plot.set_ylabel(\"# Count\", fontsize = 15)"
   ]
  },
  {
   "cell_type": "markdown",
   "metadata": {},
   "source": [
    "### Popular Package"
   ]
  },
  {
   "cell_type": "code",
   "execution_count": 16,
   "metadata": {
    "collapsed": false
   },
   "outputs": [],
   "source": [
    "## Popularity by # puchased\n",
    "pkg_purchase = job[\"Number of Slots\"].value_counts().to_frame().rename(columns = {\"index\": \"# Slots\",\"Number of Slots\": \"# Purchase\"})\n",
    "pkg_purchase.sort_values(by = \"# Purchase\", ascending = False, inplace = True)"
   ]
  },
  {
   "cell_type": "code",
   "execution_count": 17,
   "metadata": {
    "collapsed": false
   },
   "outputs": [
    {
     "data": {
      "text/plain": [
       "<matplotlib.text.Text at 0xd483e80>"
      ]
     },
     "execution_count": 17,
     "metadata": {},
     "output_type": "execute_result"
    },
    {
     "data": {
      "image/png": "[encoded data removed]",
      "text/plain": [
       "<matplotlib.figure.Figure at 0x4ac5550>"
      ]
     },
     "metadata": {},
     "output_type": "display_data"
    }
   ],
   "source": [
    "purchase_plot = pkg_purchase.plot(kind='bar', figsize = [10,6],legend=None)\n",
    "purchase_plot.set_xlabel(\"# Slots in a package\", fontsize = 16)\n",
    "purchase_plot.set_ylabel(\"# Purchase\", fontsize = 16)\n",
    "purchase_plot.set_title(\"Package Popularity by # Purchase\", fontsize = 20)"
   ]
  },
  {
   "cell_type": "code",
   "execution_count": 18,
   "metadata": {
    "collapsed": false
   },
   "outputs": [],
   "source": [
    "## Popularity by # Employer purchased\n",
    "pkg_employer = job.drop_duplicates([\"Number of Slots\",\"Employer ID\"]).groupby(\"Number of Slots\").count()[[\"Employer ID\"]].rename(columns = {\"Employer ID\": \"# User\"})\n",
    "pkg_employer.sort_values(by = \"# User\", ascending = False, inplace = True)"
   ]
  },
  {
   "cell_type": "code",
   "execution_count": 19,
   "metadata": {
    "collapsed": false
   },
   "outputs": [
    {
     "data": {
      "text/plain": [
       "<matplotlib.text.Text at 0xd7559b0>"
      ]
     },
     "execution_count": 19,
     "metadata": {},
     "output_type": "execute_result"
    },
    {
     "data": {
      "image/png": "[encoded data removed]",
      "text/plain": [
       "<matplotlib.figure.Figure at 0xd4d0710>"
      ]
     },
     "metadata": {},
     "output_type": "display_data"
    }
   ],
   "source": [
    "employer_plot = pkg_employer.plot(kind='bar',legend=None,figsize = [10,6], color =\"green\")\n",
    "employer_plot.set_xlabel(\"# Slots in a package\", fontsize = 16)\n",
    "employer_plot.set_ylabel(\"# Users/Employers\", fontsize = 16)\n",
    "employer_plot.set_title(\"Package Popularity by # User\", fontsize = 20)"
   ]
  },
  {
   "cell_type": "code",
   "execution_count": 20,
   "metadata": {
    "collapsed": false
   },
   "outputs": [
    {
     "data": {
      "text/plain": [
       "<matplotlib.text.Text at 0xda1e278>"
      ]
     },
     "execution_count": 20,
     "metadata": {},
     "output_type": "execute_result"
    },
    {
     "data": {
      "image/png": "[encoded data removed]",
      "text/plain": [
       "<matplotlib.figure.Figure at 0xd7550b8>"
      ]
     },
     "metadata": {},
     "output_type": "display_data"
    }
   ],
   "source": [
    "# Combine 2 charts\n",
    "popular = pkg_purchase.merge(pkg_employer, left_index = True, right_index = True, how = \"outer\")\n",
    "popular_plot = popular.plot(kind='bar',legend= True,figsize = [12,6])\n",
    "popular_plot.set_xlabel(\"# Slots in a package\", fontsize = 16)\n",
    "popular_plot.set_ylabel(\"# Purchase/Users\", fontsize = 16)\n",
    "popular_plot.set_title(\"Package Popularity\", fontsize = 20)"
   ]
  },
  {
   "cell_type": "markdown",
   "metadata": {},
   "source": [
    "### Conclusion 1: The most popular package measured by # Times purchased is the one with 25 job slots;\n",
    "### Conclusion 2: The most popular package measured by # users/employers is the one with 15 job slots"
   ]
  },
  {
   "cell_type": "markdown",
   "metadata": {},
   "source": [
    "## Term variation"
   ]
  },
  {
   "cell_type": "code",
   "execution_count": 21,
   "metadata": {
    "collapsed": true
   },
   "outputs": [],
   "source": [
    "### Create term for each contract\n",
    "from dateutil import rrule\n",
    "import datetime\n",
    "def day_between(start_date, end_date):\n",
    "    days = rrule.rrule(rrule.DAILY, dtstart=start_date, until=end_date)\n",
    "    return days.count()\n",
    "job[\"term\"] = job.apply(lambda row: day_between(row[\"Start Date\"], row[\"End Date\"]), axis = 1)"
   ]
  },
  {
   "cell_type": "code",
   "execution_count": 23,
   "metadata": {
    "collapsed": false
   },
   "outputs": [
    {
     "data": {
      "text/plain": [
       "count    3068.000000\n",
       "mean      346.041069\n",
       "std        73.959362\n",
       "min         1.000000\n",
       "1%         37.680000\n",
       "2%         92.000000\n",
       "5%        154.350000\n",
       "10%       275.000000\n",
       "25%       365.000000\n",
       "50%       366.000000\n",
       "75%       366.000000\n",
       "90%       366.000000\n",
       "95%       366.000000\n",
       "98%       397.000000\n",
       "99%       427.000000\n",
       "max       732.000000\n",
       "Name: term, dtype: float64"
      ]
     },
     "execution_count": 23,
     "metadata": {},
     "output_type": "execute_result"
    }
   ],
   "source": [
    "job[\"term\"].describe(percentiles=[.01, 0.02, .05, .1, .25, .5, .75, .9, .95, 0.98, .99])"
   ]
  },
  {
   "cell_type": "code",
   "execution_count": 24,
   "metadata": {
    "collapsed": true
   },
   "outputs": [],
   "source": [
    "# Floor/ Cap at 1% and 99%\n",
    "term_perc = [job[\"term\"].quantile(0.01), job[\"term\"].quantile(0.99)]\n",
    "job[\"term_mani\"] = job[\"term\"].apply(lambda x: term_perc[0] if x < term_perc[0] else x)\n",
    "job[\"term_mani\"] = job[\"term_mani\"].apply(lambda x: term_perc[1] if x > term_perc[1] else x)"
   ]
  },
  {
   "cell_type": "code",
   "execution_count": 25,
   "metadata": {
    "collapsed": false
   },
   "outputs": [
    {
     "data": {
      "text/plain": [
       "<matplotlib.text.Text at 0xe3106d8>"
      ]
     },
     "execution_count": 25,
     "metadata": {},
     "output_type": "execute_result"
    },
    {
     "data": {
      "image/png": "[encoded data removed]",
      "text/plain": [
       "<matplotlib.figure.Figure at 0xdc84ba8>"
      ]
     },
     "metadata": {},
     "output_type": "display_data"
    }
   ],
   "source": [
    "bin_values = np.arange(start= job[\"term_mani\"].min(), stop=job[\"term_mani\"].max(), step=20)\n",
    "term_plot = job['term_mani'].hist(bins=bin_values, figsize=[10,6])\n",
    "term_plot.set_title(\"Histogram for Contract Term\", fontsize = 20)\n",
    "term_plot.set_xlabel(\"Term by Contract (# days)\", fontsize = 15)\n",
    "term_plot.set_ylabel(\"# Count\", fontsize = 15)"
   ]
  },
  {
   "cell_type": "markdown",
   "metadata": {},
   "source": [
    "## What metrics should we use to compare delivery performance across customers?"
   ]
  },
  {
   "cell_type": "markdown",
   "metadata": {},
   "source": [
    "### Customer level matrix: Dedup Contract-level dataframe into Employer-level dataframe"
   ]
  },
  {
   "cell_type": "code",
   "execution_count": 26,
   "metadata": {
    "collapsed": false
   },
   "outputs": [
    {
     "name": "stdout",
     "output_type": "stream",
     "text": [
      "947\n"
     ]
    }
   ],
   "source": [
    "# Combine \"City\" and \"State\" into one column: Location\n",
    "job[\"Location\"] = job[\"Employer City\"].str.strip() + str(\", \") + job[\"Employer State\"].str.strip()\n",
    "print(job[\"Location\"].nunique(dropna = False))"
   ]
  },
  {
   "cell_type": "code",
   "execution_count": 27,
   "metadata": {
    "collapsed": true
   },
   "outputs": [],
   "source": [
    "# Create indicator for Domestic vs. international market\n",
    "# job posted in domestic or international market\n",
    "US_list = [\"Alabama\",\"Alaska\",\"Arizona\",\"Arkansas\", \"California\", \"Colorado\", \"Connecticut\",\"Delaware\",\n",
    "           \"Florida\", \"Georgia\", \"Hawaii\", \"Idaho\", \"Illinois\", \"Indiana\",\"Iowa\",\"Kansas\",\"Kentucky\",\n",
    "           \"Louisiana\",\"Maine\", \"Maryland\",\"Massachusetts\",\"Michigan\",\"Minnesota\",\"Mississippi\",\"Missouri\",\n",
    "           \"Montana\",\"Nebraska\",\"Nevada\",\"New Hampshire\",\"New Jersey\",\"New Mexico\",\"New York State\", \"New York\"\n",
    "           \"North Carolina\", \"North Dakota\", \"Ohio\",\"Oklahoma\",\"Oregon\", \"Pennsylvania\",\"Rhode Island\",\n",
    "           \"South Carolina\",\"South Dakota\", \"Tennessee\",\"Texas\", \"Utah\",\"Vermont\", \"Virginia\",\"Washington\",\"Washington State\"\n",
    "           \"West Virginia\",\"Wisconsin\",\"Wyoming\",\"District of Columbia\"]\n",
    "\n",
    "def mkt_def(state):\n",
    "    if state == \"na\":\n",
    "        return -1\n",
    "    elif state in US_list:\n",
    "        return 1\n",
    "    else:\n",
    "        return 0\n",
    "    \n",
    "job[\"US_MKT\"] = job[\"Employer State\"].apply(lambda x: mkt_def(x))"
   ]
  },
  {
   "cell_type": "code",
   "execution_count": 28,
   "metadata": {
    "collapsed": false
   },
   "outputs": [
    {
     "data": {
      "text/plain": [
       " 1    1846\n",
       "-1     834\n",
       " 0     388\n",
       "Name: US_MKT, dtype: int64"
      ]
     },
     "execution_count": 28,
     "metadata": {},
     "output_type": "execute_result"
    }
   ],
   "source": [
    "job.US_MKT.value_counts()"
   ]
  },
  {
   "cell_type": "code",
   "execution_count": 29,
   "metadata": {
    "collapsed": false
   },
   "outputs": [],
   "source": [
    "# Create customer level dataframe\n",
    "employer_dup = job.groupby(\"Employer ID\")[\"Employer ID\"].count().to_frame().rename(columns = {\"Employer ID\":\"Count\"}).reset_index()"
   ]
  },
  {
   "cell_type": "code",
   "execution_count": 30,
   "metadata": {
    "collapsed": false
   },
   "outputs": [
    {
     "name": "stdout",
     "output_type": "stream",
     "text": [
      "2748\n"
     ]
    }
   ],
   "source": [
    "# check # unique Employer ID\n",
    "print(employer_dup.shape[0])"
   ]
  },
  {
   "cell_type": "code",
   "execution_count": 31,
   "metadata": {
    "collapsed": true
   },
   "outputs": [],
   "source": [
    "multi_pkg = employer_dup.merge(job, left_on = \"Employer ID\", right_on = \"Employer ID\", how = \"left\")"
   ]
  },
  {
   "cell_type": "code",
   "execution_count": 396,
   "metadata": {
    "collapsed": false
   },
   "outputs": [
    {
     "name": "stdout",
     "output_type": "stream",
     "text": [
      "(2449, 619)\n"
     ]
    }
   ],
   "source": [
    "#print(one_pkg.shape[0], multi_pkg.shape[0])"
   ]
  },
  {
   "cell_type": "code",
   "execution_count": null,
   "metadata": {
    "collapsed": true
   },
   "outputs": [],
   "source": [
    "# Determine grouping/deduping logic for Employers with multiple packages\n",
    "# sum: # Slots, price paid, market value delivered,applications, duration\n",
    "# Most recent: End date, Employer city, Employer State, last time purchase information, renewed or not\n",
    "# Early start: Start date\n",
    "# Agg: # job locations, # packages purchased, # renewed, # na"
   ]
  },
  {
   "cell_type": "code",
   "execution_count": 32,
   "metadata": {
    "collapsed": false
   },
   "outputs": [
    {
     "name": "stdout",
     "output_type": "stream",
     "text": [
      "((2748, 8), (2748, 8))\n"
     ]
    },
    {
     "data": {
      "text/plain": [
       "Employer ID                      int64\n",
       "Number of Slots                  int64\n",
       "Price Paid                     float64\n",
       "Marketplace Value Delivered    float64\n",
       "Applications                   float64\n",
       "# Renewed                        int64\n",
       "term                             int64\n",
       "NA_num                           int64\n",
       "dtype: object"
      ]
     },
     "execution_count": 32,
     "metadata": {},
     "output_type": "execute_result"
    }
   ],
   "source": [
    "# sum: # Slots, price paid, market value delivered,applications, duration\n",
    "# renewed (including the last time renewed record) & #NA \n",
    "multi_pkg[\"NA_num\"] = multi_pkg[\"Employer City\"].apply(lambda x: 1 if x == \"na\" else 0)\n",
    "employer_sum = multi_pkg.groupby(\"Employer ID\")[\"Number of Slots\",\"Price Paid\", \"Marketplace Value Delivered\",\"Applications\",\"Renewed?\",\"term\",\"NA_num\"].sum().reset_index()\n",
    "employer_sum.rename(columns = {\"Renewed?\": \"# Renewed\"}, inplace = True)\n",
    "print(employer_sum.shape, employer_sum.drop_duplicates(\"Employer ID\").shape)\n",
    "employer_sum.dtypes"
   ]
  },
  {
   "cell_type": "code",
   "execution_count": 33,
   "metadata": {
    "collapsed": false
   },
   "outputs": [],
   "source": [
    "# Users have Purchase at the same time\n",
    "multi_st = multi_pkg.groupby([\"Start Date\",\"End Date\"])[\"Employer ID\"].value_counts().to_frame().rename(columns = {\"Employer ID\": \"Count ST\"})\n",
    "multi_st = multi_st.reset_index().sort_values(by = [\"Employer ID\",\"Start Date\",\"End Date\"], ascending = False)\n",
    "multi_pkg2 = multi_st[multi_st[\"Count ST\"] > 1].merge(multi_pkg, left_on = [\"Employer ID\",\"Start Date\",\"End Date\"],right_on = [\"Employer ID\",\"Start Date\",\"End Date\"], how = \"right\", indicator = True)"
   ]
  },
  {
   "cell_type": "code",
   "execution_count": 35,
   "metadata": {
    "collapsed": false
   },
   "outputs": [],
   "source": [
    "multi_purchase_st = multi_pkg2[multi_pkg2[\"_merge\"]== \"both\"].groupby([\"Employer ID\",\"Start Date\",\"End Date\"])[\"Number of Slots\",\"Price Paid\", \"Marketplace Value Delivered\",\"Applications\",\"Renewed?\",\"term\"].sum()\n",
    "multi_purchase_st.reset_index(inplace = True)"
   ]
  },
  {
   "cell_type": "code",
   "execution_count": 36,
   "metadata": {
    "collapsed": false
   },
   "outputs": [],
   "source": [
    "# Combine users have purchases at the same time and 1 purchase at a time\n",
    "single_purchase_st = multi_pkg2[multi_pkg2[\"_merge\"]==\"right_only\"][[\"Employer ID\", \"Start Date\",\"End Date\",\"Number of Slots\",\"Price Paid\",\"Marketplace Value Delivered\",\"Applications\",\"Renewed?\",\"term\"]]\n",
    "multi_pkg_reset = pd.concat([single_purchase_st, multi_purchase_st])"
   ]
  },
  {
   "cell_type": "code",
   "execution_count": 37,
   "metadata": {
    "collapsed": false
   },
   "outputs": [
    {
     "data": {
      "text/html": [
       "<div>\n",
       "<table border=\"1\" class=\"dataframe\">\n",
       "  <thead>\n",
       "    <tr style=\"text-align: right;\">\n",
       "      <th></th>\n",
       "      <th>Employer ID</th>\n",
       "      <th>Last Date</th>\n",
       "      <th>Last #Slots</th>\n",
       "      <th>Last Price Paid</th>\n",
       "      <th>Last MKT Value</th>\n",
       "      <th>Last Apps</th>\n",
       "      <th>End Renewed</th>\n",
       "      <th>last term</th>\n",
       "    </tr>\n",
       "  </thead>\n",
       "  <tbody>\n",
       "    <tr>\n",
       "      <th>3067</th>\n",
       "      <td>107337</td>\n",
       "      <td>2016-12-31</td>\n",
       "      <td>50</td>\n",
       "      <td>4533.6941</td>\n",
       "      <td>3394.84598</td>\n",
       "      <td>211.0</td>\n",
       "      <td>1</td>\n",
       "      <td>44</td>\n",
       "    </tr>\n",
       "    <tr>\n",
       "      <th>3066</th>\n",
       "      <td>105891</td>\n",
       "      <td>2017-01-06</td>\n",
       "      <td>10</td>\n",
       "      <td>12530.0000</td>\n",
       "      <td>3090.77510</td>\n",
       "      <td>165.4</td>\n",
       "      <td>1</td>\n",
       "      <td>68</td>\n",
       "    </tr>\n",
       "    <tr>\n",
       "      <th>3065</th>\n",
       "      <td>103826</td>\n",
       "      <td>2017-01-26</td>\n",
       "      <td>15</td>\n",
       "      <td>16110.0000</td>\n",
       "      <td>2451.16872</td>\n",
       "      <td>203.2</td>\n",
       "      <td>0</td>\n",
       "      <td>91</td>\n",
       "    </tr>\n",
       "  </tbody>\n",
       "</table>\n",
       "</div>"
      ],
      "text/plain": [
       "      Employer ID  Last Date  Last #Slots  Last Price Paid  Last MKT Value  \\\n",
       "3067       107337 2016-12-31           50        4533.6941      3394.84598   \n",
       "3066       105891 2017-01-06           10       12530.0000      3090.77510   \n",
       "3065       103826 2017-01-26           15       16110.0000      2451.16872   \n",
       "\n",
       "      Last Apps  End Renewed  last term  \n",
       "3067      211.0            1         44  \n",
       "3066      165.4            1         68  \n",
       "3065      203.2            0         91  "
      ]
     },
     "execution_count": 37,
     "metadata": {},
     "output_type": "execute_result"
    }
   ],
   "source": [
    "# Get last record\n",
    "multi_pkg_reset = multi_pkg_reset.sort_values(by = [\"Employer ID\",\"End Date\",\"Start Date\",\"Renewed?\"], ascending = False)\n",
    "employer_last = multi_pkg_reset.drop_duplicates([\"Employer ID\"], keep= \"first\").drop(\"Start Date\", axis = 1)\n",
    "employer_last.rename(columns = {\"End Date\": \"Last Date\", \"Number of Slots\": \"Last #Slots\",\n",
    "                                \"Price Paid\": \"Last Price Paid\",\"Marketplace Value Delivered\": \"Last MKT Value\",\n",
    "                                \"Applications\": \"Last Apps\", \"Renewed?\": \"End Renewed\", \"term\": \"last term\"}, inplace= True)\n",
    "employer_last.head(3)"
   ]
  },
  {
   "cell_type": "code",
   "execution_count": 38,
   "metadata": {
    "collapsed": false
   },
   "outputs": [
    {
     "data": {
      "text/plain": [
       "(2748, 8)"
      ]
     },
     "execution_count": 38,
     "metadata": {},
     "output_type": "execute_result"
    }
   ],
   "source": [
    "employer_last.shape"
   ]
  },
  {
   "cell_type": "code",
   "execution_count": 39,
   "metadata": {
    "collapsed": false
   },
   "outputs": [
    {
     "data": {
      "text/html": [
       "<div>\n",
       "<table border=\"1\" class=\"dataframe\">\n",
       "  <thead>\n",
       "    <tr style=\"text-align: right;\">\n",
       "      <th></th>\n",
       "      <th>Employer ID</th>\n",
       "      <th>Earliest Date</th>\n",
       "    </tr>\n",
       "  </thead>\n",
       "  <tbody>\n",
       "    <tr>\n",
       "      <th>33</th>\n",
       "      <td>40</td>\n",
       "      <td>2015-02-01</td>\n",
       "    </tr>\n",
       "  </tbody>\n",
       "</table>\n",
       "</div>"
      ],
      "text/plain": [
       "    Employer ID Earliest Date\n",
       "33           40    2015-02-01"
      ]
     },
     "execution_count": 39,
     "metadata": {},
     "output_type": "execute_result"
    }
   ],
   "source": [
    "# First record: Early date\n",
    "multi_pkg_first = multi_pkg_reset.sort_values(by = [\"Employer ID\",\"Start Date\"], ascending = True)\n",
    "multi_pkg_first = multi_pkg_first.drop_duplicates([\"Employer ID\"], keep = \"first\")[[\"Employer ID\",\"Start Date\"]]\n",
    "employer_first = multi_pkg_first.rename(columns = {\"Start Date\": \"Earliest Date\"})\n",
    "employer_first.head(1)"
   ]
  },
  {
   "cell_type": "code",
   "execution_count": 40,
   "metadata": {
    "collapsed": false
   },
   "outputs": [],
   "source": [
    "# Agg: # job locations, # States, domestic or international, # packages purchased, # renewed, # na\n",
    "# job location: count unique values\n",
    "location_dedup = multi_pkg.groupby([\"Employer ID\"])[\"Location\"].nunique().to_frame().rename(columns = {\"Location\": \"Loc count\"})\n",
    "location_dedup.reset_index(inplace = True)\n",
    "# States: count unique values\n",
    "state_dedup = multi_pkg.groupby([\"Employer ID\"])[\"Employer State\"].nunique().to_frame().rename(columns = {\"Employer State\": \"State count\"})\n",
    "state_dedup.reset_index(inplace = True)"
   ]
  },
  {
   "cell_type": "code",
   "execution_count": 41,
   "metadata": {
    "collapsed": false
   },
   "outputs": [
    {
     "name": "stdout",
     "output_type": "stream",
     "text": [
      "((2748, 2), (2748, 2))\n",
      "((2748, 2), (2748, 2))\n"
     ]
    }
   ],
   "source": [
    "# check duplications\n",
    "print(location_dedup.shape, location_dedup.drop_duplicates(\"Employer ID\").shape)\n",
    "print(state_dedup.shape, state_dedup.drop_duplicates(\"Employer ID\").shape)"
   ]
  },
  {
   "cell_type": "code",
   "execution_count": 42,
   "metadata": {
    "collapsed": false
   },
   "outputs": [],
   "source": [
    "# both or only international\n",
    "multi_pk3 = multi_pkg\n",
    "multi_pk3[\"int_mkt\"] = multi_pk3[\"US_MKT\"].apply(lambda x: 1 if x == 0 else 0)\n",
    "multi_pk3[\"us_mkt\"] = multi_pk3[\"US_MKT\"].apply(lambda x: 1 if x == 1 else 0)\n",
    "mkt_dedup = multi_pk3.groupby([\"Employer ID\"]).max()[[\"int_mkt\",\"us_mkt\"]].reset_index()\n",
    "def jobmkt(row):\n",
    "    if row[\"int_mkt\"] == 1 and row[\"us_mkt\"] == 0:\n",
    "        return \"International\"\n",
    "    elif row[\"int_mkt\"] == 0 and row[\"us_mkt\"] == 1:\n",
    "        return \"Domestic\"\n",
    "    elif row[\"int_mkt\"] == 1 and row[\"us_mkt\"] ==1:\n",
    "        return \"Both\"\n",
    "    else:\n",
    "        return \"Unknown\"\n",
    "    \n",
    "mkt_dedup[\"job_mkt\"] = mkt_dedup.apply(lambda row: jobmkt(row),axis = 1)"
   ]
  },
  {
   "cell_type": "code",
   "execution_count": 43,
   "metadata": {
    "collapsed": false
   },
   "outputs": [
    {
     "name": "stdout",
     "output_type": "stream",
     "text": [
      "((2748, 4), (2748, 4))\n"
     ]
    },
    {
     "data": {
      "text/html": [
       "<div>\n",
       "<table border=\"1\" class=\"dataframe\">\n",
       "  <thead>\n",
       "    <tr style=\"text-align: right;\">\n",
       "      <th></th>\n",
       "      <th>Employer ID</th>\n",
       "      <th>int_mkt</th>\n",
       "      <th>us_mkt</th>\n",
       "      <th>job_mkt</th>\n",
       "    </tr>\n",
       "  </thead>\n",
       "  <tbody>\n",
       "    <tr>\n",
       "      <th>0</th>\n",
       "      <td>40</td>\n",
       "      <td>0</td>\n",
       "      <td>1</td>\n",
       "      <td>Domestic</td>\n",
       "    </tr>\n",
       "    <tr>\n",
       "      <th>1</th>\n",
       "      <td>43</td>\n",
       "      <td>0</td>\n",
       "      <td>1</td>\n",
       "      <td>Domestic</td>\n",
       "    </tr>\n",
       "    <tr>\n",
       "      <th>2</th>\n",
       "      <td>72</td>\n",
       "      <td>0</td>\n",
       "      <td>1</td>\n",
       "      <td>Domestic</td>\n",
       "    </tr>\n",
       "  </tbody>\n",
       "</table>\n",
       "</div>"
      ],
      "text/plain": [
       "   Employer ID  int_mkt  us_mkt   job_mkt\n",
       "0           40        0       1  Domestic\n",
       "1           43        0       1  Domestic\n",
       "2           72        0       1  Domestic"
      ]
     },
     "execution_count": 43,
     "metadata": {},
     "output_type": "execute_result"
    }
   ],
   "source": [
    "print(mkt_dedup.shape, mkt_dedup.drop_duplicates(\"Employer ID\").shape)\n",
    "mkt_dedup.head(3)"
   ]
  },
  {
   "cell_type": "code",
   "execution_count": 44,
   "metadata": {
    "collapsed": false
   },
   "outputs": [],
   "source": [
    "# packages purchased, # renewed, # NA\n",
    "# packages purchased (# time repeated)\n",
    "pkg_dedup = multi_pkg.groupby(\"Employer ID\")[\"Employer ID\"].count().to_frame().rename(columns = {\"Employer ID\": \"# Packages\"}).reset_index()"
   ]
  },
  {
   "cell_type": "code",
   "execution_count": 45,
   "metadata": {
    "collapsed": false
   },
   "outputs": [
    {
     "name": "stdout",
     "output_type": "stream",
     "text": [
      "((2748, 2), (2748, 2))\n"
     ]
    }
   ],
   "source": [
    "# Check Employer level duplications ;\n",
    "print(pkg_dedup.shape, pkg_dedup.drop_duplicates(\"Employer ID\").shape)"
   ]
  },
  {
   "cell_type": "code",
   "execution_count": 46,
   "metadata": {
    "collapsed": false
   },
   "outputs": [
    {
     "data": {
      "text/plain": [
       "2748"
      ]
     },
     "execution_count": 46,
     "metadata": {},
     "output_type": "execute_result"
    }
   ],
   "source": [
    "# Combine aggregated matrix into 1 df\n",
    "employer_agg = location_dedup.merge(state_dedup, left_on = \"Employer ID\", right_on = \"Employer ID\", how = \"left\")\n",
    "employer_agg = employer_agg.merge(pkg_dedup, left_on = \"Employer ID\", right_on = \"Employer ID\", how = \"left\")\n",
    "employer_agg = employer_agg.merge(mkt_dedup, left_on = \"Employer ID\", right_on = \"Employer ID\", how = \"left\")\n",
    "employer_agg.shape[0]"
   ]
  },
  {
   "cell_type": "code",
   "execution_count": 47,
   "metadata": {
    "collapsed": false
   },
   "outputs": [
    {
     "data": {
      "text/html": [
       "<div>\n",
       "<table border=\"1\" class=\"dataframe\">\n",
       "  <thead>\n",
       "    <tr style=\"text-align: right;\">\n",
       "      <th></th>\n",
       "      <th>Employer ID</th>\n",
       "      <th>Loc count</th>\n",
       "      <th>State count</th>\n",
       "      <th># Packages</th>\n",
       "      <th>int_mkt</th>\n",
       "      <th>us_mkt</th>\n",
       "      <th>job_mkt</th>\n",
       "    </tr>\n",
       "  </thead>\n",
       "  <tbody>\n",
       "    <tr>\n",
       "      <th>0</th>\n",
       "      <td>40</td>\n",
       "      <td>1</td>\n",
       "      <td>1</td>\n",
       "      <td>1</td>\n",
       "      <td>0</td>\n",
       "      <td>1</td>\n",
       "      <td>Domestic</td>\n",
       "    </tr>\n",
       "    <tr>\n",
       "      <th>1</th>\n",
       "      <td>43</td>\n",
       "      <td>1</td>\n",
       "      <td>1</td>\n",
       "      <td>1</td>\n",
       "      <td>0</td>\n",
       "      <td>1</td>\n",
       "      <td>Domestic</td>\n",
       "    </tr>\n",
       "    <tr>\n",
       "      <th>2</th>\n",
       "      <td>72</td>\n",
       "      <td>2</td>\n",
       "      <td>2</td>\n",
       "      <td>2</td>\n",
       "      <td>0</td>\n",
       "      <td>1</td>\n",
       "      <td>Domestic</td>\n",
       "    </tr>\n",
       "    <tr>\n",
       "      <th>3</th>\n",
       "      <td>94</td>\n",
       "      <td>1</td>\n",
       "      <td>1</td>\n",
       "      <td>1</td>\n",
       "      <td>0</td>\n",
       "      <td>1</td>\n",
       "      <td>Domestic</td>\n",
       "    </tr>\n",
       "    <tr>\n",
       "      <th>4</th>\n",
       "      <td>102</td>\n",
       "      <td>1</td>\n",
       "      <td>1</td>\n",
       "      <td>1</td>\n",
       "      <td>1</td>\n",
       "      <td>0</td>\n",
       "      <td>International</td>\n",
       "    </tr>\n",
       "  </tbody>\n",
       "</table>\n",
       "</div>"
      ],
      "text/plain": [
       "   Employer ID  Loc count  State count  # Packages  int_mkt  us_mkt  \\\n",
       "0           40          1            1           1        0       1   \n",
       "1           43          1            1           1        0       1   \n",
       "2           72          2            2           2        0       1   \n",
       "3           94          1            1           1        0       1   \n",
       "4          102          1            1           1        1       0   \n",
       "\n",
       "         job_mkt  \n",
       "0       Domestic  \n",
       "1       Domestic  \n",
       "2       Domestic  \n",
       "3       Domestic  \n",
       "4  International  "
      ]
     },
     "execution_count": 47,
     "metadata": {},
     "output_type": "execute_result"
    }
   ],
   "source": [
    "employer_agg.head()"
   ]
  },
  {
   "cell_type": "code",
   "execution_count": 48,
   "metadata": {
    "collapsed": false
   },
   "outputs": [
    {
     "name": "stdout",
     "output_type": "stream",
     "text": [
      "2748\n",
      "Employer ID                             int64\n",
      "Number of Slots                         int64\n",
      "Price Paid                            float64\n",
      "Marketplace Value Delivered           float64\n",
      "Applications                          float64\n",
      "# Renewed                               int64\n",
      "term                                    int64\n",
      "NA_num                                  int64\n",
      "Last Date                      datetime64[ns]\n",
      "Last #Slots                             int64\n",
      "Last Price Paid                       float64\n",
      "Last MKT Value                        float64\n",
      "Last Apps                             float64\n",
      "End Renewed                             int64\n",
      "last term                               int64\n",
      "Earliest Date                  datetime64[ns]\n",
      "Loc count                               int64\n",
      "State count                             int64\n",
      "# Packages                              int64\n",
      "int_mkt                                 int64\n",
      "us_mkt                                  int64\n",
      "job_mkt                                object\n",
      "dtype: object\n"
     ]
    }
   ],
   "source": [
    "# Combine all multi-package df together\n",
    "employer_all = employer_sum.merge(employer_last, left_on = \"Employer ID\", right_on = \"Employer ID\", how = \"left\")\n",
    "employer_all = employer_all.merge(employer_first, left_on = \"Employer ID\", right_on = \"Employer ID\", how = \"left\")\n",
    "employer_all = employer_all.merge(employer_agg, left_on = \"Employer ID\", right_on = \"Employer ID\", how = \"left\")\n",
    "print(employer_all.shape[0])\n",
    "print(employer_all.dtypes)"
   ]
  },
  {
   "cell_type": "code",
   "execution_count": 49,
   "metadata": {
    "collapsed": false
   },
   "outputs": [
    {
     "data": {
      "text/html": [
       "<div>\n",
       "<table border=\"1\" class=\"dataframe\">\n",
       "  <thead>\n",
       "    <tr style=\"text-align: right;\">\n",
       "      <th></th>\n",
       "      <th>Employer ID</th>\n",
       "      <th>Number of Slots</th>\n",
       "      <th>Price Paid</th>\n",
       "      <th>Marketplace Value Delivered</th>\n",
       "      <th>Applications</th>\n",
       "      <th># Renewed</th>\n",
       "      <th>term</th>\n",
       "      <th>NA_num</th>\n",
       "      <th>Last Date</th>\n",
       "      <th>Last #Slots</th>\n",
       "      <th>...</th>\n",
       "      <th>Last Apps</th>\n",
       "      <th>End Renewed</th>\n",
       "      <th>last term</th>\n",
       "      <th>Earliest Date</th>\n",
       "      <th>Loc count</th>\n",
       "      <th>State count</th>\n",
       "      <th># Packages</th>\n",
       "      <th>int_mkt</th>\n",
       "      <th>us_mkt</th>\n",
       "      <th>job_mkt</th>\n",
       "    </tr>\n",
       "  </thead>\n",
       "  <tbody>\n",
       "    <tr>\n",
       "      <th>0</th>\n",
       "      <td>40</td>\n",
       "      <td>125</td>\n",
       "      <td>67125.0</td>\n",
       "      <td>147711.043445</td>\n",
       "      <td>9647.7</td>\n",
       "      <td>0</td>\n",
       "      <td>394</td>\n",
       "      <td>0</td>\n",
       "      <td>2016-02-29</td>\n",
       "      <td>125</td>\n",
       "      <td>...</td>\n",
       "      <td>9647.7</td>\n",
       "      <td>0</td>\n",
       "      <td>394</td>\n",
       "      <td>2015-02-01</td>\n",
       "      <td>1</td>\n",
       "      <td>1</td>\n",
       "      <td>1</td>\n",
       "      <td>0</td>\n",
       "      <td>1</td>\n",
       "      <td>Domestic</td>\n",
       "    </tr>\n",
       "  </tbody>\n",
       "</table>\n",
       "<p>1 rows × 22 columns</p>\n",
       "</div>"
      ],
      "text/plain": [
       "   Employer ID  Number of Slots  Price Paid  Marketplace Value Delivered  \\\n",
       "0           40              125     67125.0                147711.043445   \n",
       "\n",
       "   Applications  # Renewed  term  NA_num  Last Date  Last #Slots    ...     \\\n",
       "0        9647.7          0   394       0 2016-02-29          125    ...      \n",
       "\n",
       "   Last Apps  End Renewed  last term  Earliest Date  Loc count State count  \\\n",
       "0     9647.7            0        394     2015-02-01          1           1   \n",
       "\n",
       "   # Packages  int_mkt  us_mkt   job_mkt  \n",
       "0           1        0       1  Domestic  \n",
       "\n",
       "[1 rows x 22 columns]"
      ]
     },
     "execution_count": 49,
     "metadata": {},
     "output_type": "execute_result"
    }
   ],
   "source": [
    "# Use the set same data structure for one_pkg\n",
    "employer_all.head(1)"
   ]
  },
  {
   "cell_type": "markdown",
   "metadata": {},
   "source": [
    "### Delivery Performance Matrix\n",
    "#### Application matrix: app/ package, app/day, app/slot\n",
    "#### Cost matrix: Cost per app, Cost per day\n",
    "#### Marketplace Value matrix: Mkt value per app, Mkt value to Cost ratio\n",
    "#### Customer gain: total gain, per day, per app"
   ]
  },
  {
   "cell_type": "markdown",
   "metadata": {},
   "source": [
    "### Job Slot Performance: Application Matrix"
   ]
  },
  {
   "cell_type": "code",
   "execution_count": 50,
   "metadata": {
    "collapsed": false
   },
   "outputs": [],
   "source": [
    "# application/package, application per day, application per slot\n",
    "employer_all[\"app_per_pkg\"] = employer_all[\"Applications\"]/employer_all[\"# Packages\"]\n",
    "employer_all[\"app_per_day\"] = employer_all[\"Applications\"]/employer_all[\"term\"]\n",
    "employer_all[\"app_per_slot\"] = employer_all[\"Applications\"]/ employer_all[\"Number of Slots\"]"
   ]
  },
  {
   "cell_type": "code",
   "execution_count": 51,
   "metadata": {
    "collapsed": false
   },
   "outputs": [],
   "source": [
    "# truncate to 2-3 decimals for new attributes\n",
    "employer_all = employer_all.round({\"app_per_pkg\":2, \"app_per_day\": 2, \"app_per_slot\":2, \"app_per_slot_day\":3})\n",
    "#employer_all.head()"
   ]
  },
  {
   "cell_type": "code",
   "execution_count": 52,
   "metadata": {
    "collapsed": false
   },
   "outputs": [],
   "source": [
    "# Apps\n",
    "def hist_plot(colname,step,category, floor, cap):\n",
    "    temp = employer_all[[\"Employer ID\", colname]]\n",
    "    print(temp[colname].describe(percentiles = [0.01, 0.02, 0.05, 0.1, 0.25,0.5,0.75,0.9,0.95,0.98,0.99]))\n",
    "    pkg_value = [temp[colname].quantile(floor),temp[colname].quantile(cap)]\n",
    "    temp.loc[:, colname + '_mani'] = temp[colname].apply(lambda x: pkg_value[0] if x < pkg_value[0] else x)\n",
    "    temp.loc[:, colname + '_mani'] = temp[colname + '_mani'].apply(lambda x: pkg_value[1] if x > pkg_value[1] else x)\n",
    "    bin_values = np.arange(start= temp[colname + '_mani'].min(), stop=temp[colname + '_mani'].max(), step=step)\n",
    "    app_plot = temp[colname + '_mani'].hist(bins=bin_values, figsize=[10,6])\n",
    "    app_plot.set_title(\"Histogram for \" + category, fontsize = 20)\n",
    "    app_plot.set_xlabel(colname, fontsize = 15)\n",
    "    app_plot.set_ylabel(\"# Count\", fontsize = 15)\n",
    "    #print(temp[colname + '_mani'].max())"
   ]
  },
  {
   "cell_type": "code",
   "execution_count": 53,
   "metadata": {
    "collapsed": false
   },
   "outputs": [
    {
     "name": "stdout",
     "output_type": "stream",
     "text": [
      "count     2748.000000\n",
      "mean      1671.789516\n",
      "std       1753.134281\n",
      "min          0.100000\n",
      "1%          53.714000\n",
      "2%          94.152000\n",
      "5%         215.157500\n",
      "10%        366.510000\n",
      "25%        743.025000\n",
      "50%       1240.500000\n",
      "75%       2043.475000\n",
      "90%       3318.340000\n",
      "95%       4624.920000\n",
      "98%       6283.808000\n",
      "99%       7512.647000\n",
      "max      50686.700000\n",
      "Name: app_per_pkg, dtype: float64\n"
     ]
    },
    {
     "name": "stderr",
     "output_type": "stream",
     "text": [
      "C:\\ProgramData\\Anaconda2\\lib\\site-packages\\pandas\\core\\indexing.py:297: SettingWithCopyWarning: \n",
      "A value is trying to be set on a copy of a slice from a DataFrame.\n",
      "Try using .loc[row_indexer,col_indexer] = value instead\n",
      "\n",
      "See the caveats in the documentation: http://pandas.pydata.org/pandas-docs/stable/indexing.html#indexing-view-versus-copy\n",
      "  self.obj[key] = _infer_fill_value(value)\n",
      "C:\\ProgramData\\Anaconda2\\lib\\site-packages\\pandas\\core\\indexing.py:477: SettingWithCopyWarning: \n",
      "A value is trying to be set on a copy of a slice from a DataFrame.\n",
      "Try using .loc[row_indexer,col_indexer] = value instead\n",
      "\n",
      "See the caveats in the documentation: http://pandas.pydata.org/pandas-docs/stable/indexing.html#indexing-view-versus-copy\n",
      "  self.obj[item] = s\n"
     ]
    },
    {
     "data": {
      "image/png": "[encoded data removed]",
      "text/plain": [
       "<matplotlib.figure.Figure at 0xdc7b278>"
      ]
     },
     "metadata": {},
     "output_type": "display_data"
    }
   ],
   "source": [
    "hist_plot(\"app_per_pkg\",100,\"Application per Package\",0, 0.95)"
   ]
  },
  {
   "cell_type": "code",
   "execution_count": 54,
   "metadata": {
    "collapsed": false
   },
   "outputs": [
    {
     "name": "stdout",
     "output_type": "stream",
     "text": [
      "count    2748.000000\n",
      "mean        4.800459\n",
      "std         4.889811\n",
      "min         0.000000\n",
      "1%          0.204700\n",
      "2%          0.400000\n",
      "5%          0.790000\n",
      "10%         1.210000\n",
      "25%         2.197500\n",
      "50%         3.570000\n",
      "75%         5.900000\n",
      "90%         9.449000\n",
      "95%        12.823000\n",
      "98%        17.615000\n",
      "99%        21.144200\n",
      "max       138.490000\n",
      "Name: app_per_day, dtype: float64\n"
     ]
    },
    {
     "data": {
      "image/png": "[encoded data removed]",
      "text/plain": [
       "<matplotlib.figure.Figure at 0xe3104a8>"
      ]
     },
     "metadata": {},
     "output_type": "display_data"
    }
   ],
   "source": [
    "hist_plot(\"app_per_day\",0.25,\"Application per day\",0, 0.99)"
   ]
  },
  {
   "cell_type": "code",
   "execution_count": 55,
   "metadata": {
    "collapsed": false
   },
   "outputs": [
    {
     "name": "stdout",
     "output_type": "stream",
     "text": [
      "count    2748.000000\n",
      "mean       50.292857\n",
      "std        26.648375\n",
      "min         0.000000\n",
      "1%          3.015200\n",
      "2%          4.888200\n",
      "5%         10.750500\n",
      "10%        17.628000\n",
      "25%        32.380000\n",
      "50%        49.065000\n",
      "75%        65.400000\n",
      "90%        81.976000\n",
      "95%        94.313500\n",
      "98%       108.247400\n",
      "99%       117.696500\n",
      "max       506.870000\n",
      "Name: app_per_slot, dtype: float64\n"
     ]
    },
    {
     "data": {
      "image/png": "[encoded data removed]",
      "text/plain": [
       "<matplotlib.figure.Figure at 0xe4ddef0>"
      ]
     },
     "metadata": {},
     "output_type": "display_data"
    }
   ],
   "source": [
    "hist_plot(\"app_per_slot\",2,\"Application per Slot\",0, 0.99)"
   ]
  },
  {
   "cell_type": "code",
   "execution_count": null,
   "metadata": {
    "collapsed": true
   },
   "outputs": [],
   "source": [
    "#### Cost matrix: Cost per app, Cost per day"
   ]
  },
  {
   "cell_type": "code",
   "execution_count": 56,
   "metadata": {
    "collapsed": false
   },
   "outputs": [],
   "source": [
    "employer_all[\"Cost_per_app\"] = employer_all[\"Price Paid\"]/employer_all[\"Applications\"]\n",
    "employer_all[\"Cost_per_pkg\"] = employer_all[\"Price Paid\"]/employer_all[\"# Packages\"]\n",
    "employer_all[\"Cost_per_day\"] = employer_all[\"Price Paid\"]/employer_all[\"term\"]\n",
    "employer_all[\"Cost_per_slot\"] = employer_all[\"Price Paid\"]/employer_all[\"Number of Slots\"]\n",
    "#employer_all.head(5)"
   ]
  },
  {
   "cell_type": "code",
   "execution_count": 57,
   "metadata": {
    "collapsed": true
   },
   "outputs": [],
   "source": [
    "# truncate to 2-3 decimals for new attributes\n",
    "employer_all = employer_all.round({\"Cost_per_app\":3, \"Cost_per_pkg\": 0, \"Cost_per_day\":3, \"Cost_per_day\":0, \"Cost_per_slot\":0})"
   ]
  },
  {
   "cell_type": "code",
   "execution_count": 58,
   "metadata": {
    "collapsed": false
   },
   "outputs": [
    {
     "name": "stdout",
     "output_type": "stream",
     "text": [
      "count      2748.000000\n",
      "mean        181.399993\n",
      "std        5112.280605\n",
      "min           1.624000\n",
      "1%            6.475810\n",
      "2%            7.000400\n",
      "5%            7.837900\n",
      "10%           8.783700\n",
      "25%          10.624250\n",
      "50%          13.809500\n",
      "75%          20.950250\n",
      "90%          37.992900\n",
      "95%          65.376300\n",
      "98%         147.428380\n",
      "99%         243.278030\n",
      "max      214800.000000\n",
      "Name: Cost_per_app, dtype: float64\n"
     ]
    },
    {
     "data": {
      "image/png": "[encoded data removed]",
      "text/plain": [
       "<matplotlib.figure.Figure at 0xe575320>"
      ]
     },
     "metadata": {},
     "output_type": "display_data"
    }
   ],
   "source": [
    "hist_plot(\"Cost_per_app\",1,\"Cost per App ($)\",0,  0.95)"
   ]
  },
  {
   "cell_type": "code",
   "execution_count": 59,
   "metadata": {
    "collapsed": false
   },
   "outputs": [
    {
     "name": "stdout",
     "output_type": "stream",
     "text": [
      "count      2748.000000\n",
      "mean      22225.608443\n",
      "std       15410.237451\n",
      "min        1432.000000\n",
      "1%        10069.000000\n",
      "2%        10740.000000\n",
      "5%        10740.000000\n",
      "10%       10740.000000\n",
      "25%       13425.000000\n",
      "50%       17005.000000\n",
      "75%       26850.000000\n",
      "90%       40275.000000\n",
      "95%       53700.000000\n",
      "98%       67125.000000\n",
      "99%       80550.000000\n",
      "max      273870.000000\n",
      "Name: Cost_per_pkg, dtype: float64\n"
     ]
    },
    {
     "data": {
      "image/png": "[encoded data removed]",
      "text/plain": [
       "<matplotlib.figure.Figure at 0xdbf6b70>"
      ]
     },
     "metadata": {},
     "output_type": "display_data"
    }
   ],
   "source": [
    "hist_plot(\"Cost_per_pkg\",2500,\"Cost per Package ($)\",0,  0.98)"
   ]
  },
  {
   "cell_type": "code",
   "execution_count": 60,
   "metadata": {
    "collapsed": false
   },
   "outputs": [
    {
     "name": "stdout",
     "output_type": "stream",
     "text": [
      "count     2748.000000\n",
      "mean       725.492722\n",
      "std        387.581325\n",
      "min         54.000000\n",
      "1%         293.350000\n",
      "2%         358.000000\n",
      "5%         490.350000\n",
      "10%        537.000000\n",
      "25%        609.000000\n",
      "50%        716.000000\n",
      "75%        806.000000\n",
      "90%        955.000000\n",
      "95%       1074.000000\n",
      "98%       1217.600000\n",
      "99%       1353.420000\n",
      "max      18258.000000\n",
      "Name: Cost_per_slot, dtype: float64\n"
     ]
    },
    {
     "data": {
      "image/png": "[encoded data removed]",
      "text/plain": [
       "<matplotlib.figure.Figure at 0xdb28f98>"
      ]
     },
     "metadata": {},
     "output_type": "display_data"
    }
   ],
   "source": [
    "hist_plot(\"Cost_per_slot\",50,\"Cost per Slot ($)\",0.01, 0.99)"
   ]
  },
  {
   "cell_type": "code",
   "execution_count": 61,
   "metadata": {
    "collapsed": false
   },
   "outputs": [
    {
     "name": "stdout",
     "output_type": "stream",
     "text": [
      "count    2748.000000\n",
      "mean       68.872271\n",
      "std        78.653980\n",
      "min        25.000000\n",
      "1%         29.000000\n",
      "2%         29.000000\n",
      "5%         29.000000\n",
      "10%        29.000000\n",
      "25%        37.000000\n",
      "50%        49.000000\n",
      "75%        77.250000\n",
      "90%       123.000000\n",
      "95%       158.650000\n",
      "98%       212.180000\n",
      "99%       262.650000\n",
      "max      2983.000000\n",
      "Name: Cost_per_day, dtype: float64\n"
     ]
    },
    {
     "data": {
      "image/png": "[encoded data removed]",
      "text/plain": [
       "<matplotlib.figure.Figure at 0xe4f9748>"
      ]
     },
     "metadata": {},
     "output_type": "display_data"
    }
   ],
   "source": [
    "hist_plot(\"Cost_per_day\",3,\"Cost per Day ($)\",0, 0.95)"
   ]
  },
  {
   "cell_type": "code",
   "execution_count": null,
   "metadata": {
    "collapsed": true
   },
   "outputs": [],
   "source": [
    "#### Marketplace Value matrix: Mkt value per app, Mkt value to Cost ratio"
   ]
  },
  {
   "cell_type": "code",
   "execution_count": 62,
   "metadata": {
    "collapsed": false
   },
   "outputs": [],
   "source": [
    "employer_all[\"MV_per_app\"] = employer_all[\"Marketplace Value Delivered\"]/employer_all[\"Applications\"]\n",
    "employer_all[\"MV_Cost\"] = employer_all[\"Marketplace Value Delivered\"]/employer_all[\"Price Paid\"]\n",
    "employer_all[\"MV_pkg\"] = employer_all[\"Marketplace Value Delivered\"]/employer_all[\"# Packages\"]\n",
    "#employer_all.head(3)"
   ]
  },
  {
   "cell_type": "code",
   "execution_count": 63,
   "metadata": {
    "collapsed": true
   },
   "outputs": [],
   "source": [
    "# truncate to 2-3 decimals for new attributes\n",
    "employer_all = employer_all.round({\"MV_per_app\":2, \"MV_Cost\": 3})"
   ]
  },
  {
   "cell_type": "code",
   "execution_count": 64,
   "metadata": {
    "collapsed": false
   },
   "outputs": [
    {
     "name": "stdout",
     "output_type": "stream",
     "text": [
      "count    2748.000000\n",
      "mean       12.745360\n",
      "std         3.288512\n",
      "min         3.250000\n",
      "1%          5.897600\n",
      "2%          6.528800\n",
      "5%          7.450000\n",
      "10%         8.500000\n",
      "25%        10.530000\n",
      "50%        12.680000\n",
      "75%        14.900000\n",
      "90%        16.933000\n",
      "95%        18.026500\n",
      "98%        19.210000\n",
      "99%        20.200600\n",
      "max        47.900000\n",
      "Name: MV_per_app, dtype: float64\n"
     ]
    },
    {
     "data": {
      "image/png": "[encoded data removed]",
      "text/plain": [
       "<matplotlib.figure.Figure at 0xc4e6128>"
      ]
     },
     "metadata": {},
     "output_type": "display_data"
    }
   ],
   "source": [
    "hist_plot(\"MV_per_app\",1,\"Market Value per App ($)\",0, 0.99)"
   ]
  },
  {
   "cell_type": "code",
   "execution_count": 65,
   "metadata": {
    "collapsed": false
   },
   "outputs": [
    {
     "name": "stdout",
     "output_type": "stream",
     "text": [
      "count    2748.000000\n",
      "mean        0.891144\n",
      "std         0.476176\n",
      "min         0.000000\n",
      "1%          0.047470\n",
      "2%          0.077940\n",
      "5%          0.194700\n",
      "10%         0.331000\n",
      "25%         0.602000\n",
      "50%         0.853500\n",
      "75%         1.148250\n",
      "90%         1.455000\n",
      "95%         1.671950\n",
      "98%         1.960480\n",
      "99%         2.164120\n",
      "max         9.618000\n",
      "Name: MV_Cost, dtype: float64\n"
     ]
    },
    {
     "data": {
      "image/png": "[encoded data removed]",
      "text/plain": [
       "<matplotlib.figure.Figure at 0xe4eb0b8>"
      ]
     },
     "metadata": {},
     "output_type": "display_data"
    }
   ],
   "source": [
    "hist_plot(\"MV_Cost\",0.05,\"Market Value per App ($)\",0, 0.99)"
   ]
  },
  {
   "cell_type": "code",
   "execution_count": null,
   "metadata": {
    "collapsed": true
   },
   "outputs": [],
   "source": [
    "#### Customer gain: total gain, per day, per app"
   ]
  },
  {
   "cell_type": "code",
   "execution_count": 66,
   "metadata": {
    "collapsed": true
   },
   "outputs": [],
   "source": [
    "employer_all[\"Employer_Gain\"] = employer_all[\"Marketplace Value Delivered\"] - employer_all[\"Price Paid\"]\n",
    "employer_all[\"Gain_per_app\"] = employer_all[\"Employer_Gain\"]/employer_all[\"Applications\"]\n",
    "employer_all[\"Gain_per_day\"] = employer_all[\"Employer_Gain\"]/employer_all[\"term\"]\n",
    "employer_all[\"Gain_per_pkg\"] = employer_all[\"Employer_Gain\"]/employer_all[\"# Packages\"]\n",
    "employer_all[\"ROI\"] = employer_all[\"Employer_Gain\"]/ employer_all[\"Price Paid\"]\n",
    "#employer_all.head(3)"
   ]
  },
  {
   "cell_type": "code",
   "execution_count": 67,
   "metadata": {
    "collapsed": false
   },
   "outputs": [
    {
     "name": "stdout",
     "output_type": "stream",
     "text": [
      "count      2748.000000\n",
      "mean      -1896.933347\n",
      "std       19336.996676\n",
      "min     -256445.363140\n",
      "1%       -35876.808959\n",
      "2%       -30013.592514\n",
      "5%       -19676.861042\n",
      "10%      -13908.175409\n",
      "25%       -7816.150454\n",
      "50%       -2822.282259\n",
      "75%        2824.403413\n",
      "90%        9992.431203\n",
      "95%       16357.376390\n",
      "98%       30652.978655\n",
      "99%       43873.628891\n",
      "max      709627.907879\n",
      "Name: Employer_Gain, dtype: float64\n"
     ]
    },
    {
     "data": {
      "image/png": "[encoded data removed]",
      "text/plain": [
       "<matplotlib.figure.Figure at 0xdbf6b70>"
      ]
     },
     "metadata": {},
     "output_type": "display_data"
    }
   ],
   "source": [
    "hist_plot(\"Employer_Gain\",1000,\"Employer Total Value Gain ($)\",0.01, 0.98)"
   ]
  },
  {
   "cell_type": "code",
   "execution_count": 68,
   "metadata": {
    "collapsed": false
   },
   "outputs": [
    {
     "name": "stdout",
     "output_type": "stream",
     "text": [
      "count      2748.000000\n",
      "mean       -168.654560\n",
      "std        5112.127233\n",
      "min     -214774.224000\n",
      "1%         -232.722300\n",
      "2%         -133.623835\n",
      "5%          -51.444595\n",
      "10%         -24.293628\n",
      "25%          -7.651671\n",
      "50%          -1.955134\n",
      "75%           1.628989\n",
      "90%           4.411632\n",
      "95%           5.989648\n",
      "98%           7.796012\n",
      "99%           8.725533\n",
      "max          22.042395\n",
      "Name: Gain_per_app, dtype: float64\n"
     ]
    },
    {
     "data": {
      "image/png": "[encoded data removed]",
      "text/plain": [
       "<matplotlib.figure.Figure at 0xe4eb0b8>"
      ]
     },
     "metadata": {},
     "output_type": "display_data"
    }
   ],
   "source": [
    "hist_plot(\"Gain_per_app\",1,\"Employer Gain per app ($)\",0.05, 0.99)"
   ]
  },
  {
   "cell_type": "code",
   "execution_count": 69,
   "metadata": {
    "collapsed": false
   },
   "outputs": [
    {
     "name": "stdout",
     "output_type": "stream",
     "text": [
      "count    2748.000000\n",
      "mean       -9.431235\n",
      "std        83.674318\n",
      "min     -2962.127800\n",
      "1%       -136.833494\n",
      "2%       -105.443511\n",
      "5%        -62.525552\n",
      "10%       -40.579817\n",
      "25%       -21.046219\n",
      "50%        -7.392959\n",
      "75%         7.587920\n",
      "90%        26.080911\n",
      "95%        41.798550\n",
      "98%        77.372196\n",
      "99%       114.887091\n",
      "max      1938.874065\n",
      "Name: Gain_per_day, dtype: float64\n"
     ]
    },
    {
     "data": {
      "image/png": "[encoded data removed]",
      "text/plain": [
       "<matplotlib.figure.Figure at 0xc3b4908>"
      ]
     },
     "metadata": {},
     "output_type": "display_data"
    }
   ],
   "source": [
    "hist_plot(\"Gain_per_day\",2,\"Employer Gain per day ($)\",0.01, 0.99)"
   ]
  },
  {
   "cell_type": "code",
   "execution_count": 71,
   "metadata": {
    "collapsed": false
   },
   "outputs": [
    {
     "name": "stdout",
     "output_type": "stream",
     "text": [
      "count    2748.000000\n",
      "mean       -0.108844\n",
      "std         0.476172\n",
      "min        -0.999945\n",
      "1%         -0.952281\n",
      "2%         -0.922184\n",
      "5%         -0.805464\n",
      "10%        -0.668987\n",
      "25%        -0.398335\n",
      "50%        -0.146619\n",
      "75%         0.148635\n",
      "90%         0.455324\n",
      "95%         0.671733\n",
      "98%         0.960468\n",
      "99%         1.164322\n",
      "max         8.618265\n",
      "Name: ROI, dtype: float64\n"
     ]
    },
    {
     "data": {
      "image/png": "[encoded data removed]",
      "text/plain": [
       "<matplotlib.figure.Figure at 0xdbd9f60>"
      ]
     },
     "metadata": {},
     "output_type": "display_data"
    }
   ],
   "source": [
    "hist_plot(\"ROI\",0.02,\"Return on Price Paid on Job Slot Packages(%)\",0.01, 0.98)"
   ]
  },
  {
   "cell_type": "code",
   "execution_count": null,
   "metadata": {
    "collapsed": true
   },
   "outputs": [],
   "source": []
  },
  {
   "cell_type": "code",
   "execution_count": 760,
   "metadata": {
    "collapsed": false
   },
   "outputs": [],
   "source": []
  },
  {
   "cell_type": "markdown",
   "metadata": {},
   "source": [
    "## PART 2:  RETENTION ANALYSIS"
   ]
  },
  {
   "cell_type": "markdown",
   "metadata": {},
   "source": [
    "### What factor or combination of factors best predict likelihood to retain (i.e., Renewed = 1)?  "
   ]
  },
  {
   "cell_type": "code",
   "execution_count": 72,
   "metadata": {
    "collapsed": false
   },
   "outputs": [
    {
     "name": "stdout",
     "output_type": "stream",
     "text": [
      "(2748, 5)\n",
      "(2748, 41)\n"
     ]
    }
   ],
   "source": [
    "# target variable: Last_renewed\n",
    "# Correlated attributes\n",
    "# Overall delivery value, Job location, last-time package performance, completition, previous renew history (renew rate)\n",
    "# Choose top 4 locations\n",
    "job[\"CA\"] = job[\"Employer State\"].apply(lambda x: 1 if x == \"California\" else 0)\n",
    "job[\"NY\"] = job[\"Employer State\"].apply(lambda x: 1 if x == \"New York State\" else 0)\n",
    "job[\"FL\"] = job[\"Employer State\"].apply(lambda x: 1 if x == \"Florida\" else 0)\n",
    "job[\"TX\"] = job[\"Employer State\"].apply(lambda x: 1 if x == \"Texas\" else 0)\n",
    "employer_top4loc = job.groupby(\"Employer ID\")[\"CA\",\"NY\",\"FL\",\"TX\"].sum().reset_index()\n",
    "print(employer_top4loc.shape)\n",
    "employer_model = employer_all.merge(employer_top4loc, left_on = \"Employer ID\", right_on = \"Employer ID\", how = \"left\")\n",
    "print(employer_model.shape)"
   ]
  },
  {
   "cell_type": "code",
   "execution_count": 73,
   "metadata": {
    "collapsed": false
   },
   "outputs": [
    {
     "data": {
      "text/html": [
       "<div>\n",
       "<table border=\"1\" class=\"dataframe\">\n",
       "  <thead>\n",
       "    <tr style=\"text-align: right;\">\n",
       "      <th></th>\n",
       "      <th>Employer ID</th>\n",
       "      <th>Number of Slots</th>\n",
       "      <th>Price Paid</th>\n",
       "      <th>Marketplace Value Delivered</th>\n",
       "      <th>Applications</th>\n",
       "      <th># Renewed</th>\n",
       "      <th>term</th>\n",
       "      <th>NA_num</th>\n",
       "      <th>Last Date</th>\n",
       "      <th>Last #Slots</th>\n",
       "      <th>...</th>\n",
       "      <th>MV_pkg</th>\n",
       "      <th>Employer_Gain</th>\n",
       "      <th>Gain_per_app</th>\n",
       "      <th>Gain_per_day</th>\n",
       "      <th>Gain_per_pkg</th>\n",
       "      <th>ROI</th>\n",
       "      <th>CA</th>\n",
       "      <th>NY</th>\n",
       "      <th>FL</th>\n",
       "      <th>TX</th>\n",
       "    </tr>\n",
       "  </thead>\n",
       "  <tbody>\n",
       "    <tr>\n",
       "      <th>0</th>\n",
       "      <td>40</td>\n",
       "      <td>125</td>\n",
       "      <td>67125.0</td>\n",
       "      <td>147711.043445</td>\n",
       "      <td>9647.7</td>\n",
       "      <td>0</td>\n",
       "      <td>394</td>\n",
       "      <td>0</td>\n",
       "      <td>2016-02-29</td>\n",
       "      <td>125</td>\n",
       "      <td>...</td>\n",
       "      <td>147711.043445</td>\n",
       "      <td>80586.043445</td>\n",
       "      <td>8.352876</td>\n",
       "      <td>204.533105</td>\n",
       "      <td>80586.043445</td>\n",
       "      <td>1.200537</td>\n",
       "      <td>1</td>\n",
       "      <td>0</td>\n",
       "      <td>0</td>\n",
       "      <td>0</td>\n",
       "    </tr>\n",
       "  </tbody>\n",
       "</table>\n",
       "<p>1 rows × 41 columns</p>\n",
       "</div>"
      ],
      "text/plain": [
       "   Employer ID  Number of Slots  Price Paid  Marketplace Value Delivered  \\\n",
       "0           40              125     67125.0                147711.043445   \n",
       "\n",
       "   Applications  # Renewed  term  NA_num  Last Date  Last #Slots ...  \\\n",
       "0        9647.7          0   394       0 2016-02-29          125 ...   \n",
       "\n",
       "          MV_pkg  Employer_Gain  Gain_per_app  Gain_per_day  Gain_per_pkg  \\\n",
       "0  147711.043445   80586.043445      8.352876    204.533105  80586.043445   \n",
       "\n",
       "        ROI  CA  NY  FL  TX  \n",
       "0  1.200537   1   0   0   0  \n",
       "\n",
       "[1 rows x 41 columns]"
      ]
     },
     "execution_count": 73,
     "metadata": {},
     "output_type": "execute_result"
    }
   ],
   "source": [
    "employer_model.head(1)"
   ]
  },
  {
   "cell_type": "code",
   "execution_count": 74,
   "metadata": {
    "collapsed": false
   },
   "outputs": [],
   "source": [
    "# Calculated attributes for the latest contract\n",
    "employer_model[\"last_total_Gain\"] = employer_model[\"Last MKT Value\"] - employer_model[\"Last Price Paid\"]\n",
    "employer_model[\"last_ROI\"] = employer_model[\"last_total_Gain\"]/employer_model[\"Last Price Paid\"]\n",
    "employer_model[\"last_gain_day\"] = employer_model[\"last_total_Gain\"]/employer_model[\"last term\"]\n",
    "employer_model[\"last_gain_app\"] = employer_model[\"last_total_Gain\"]/employer_model[\"Last Apps\"]\n",
    "employer_model[\"last_cost_app\"] = employer_model[\"Last Price Paid\"]/employer_model[\"Last Apps\"]\n",
    "employer_model[\"last_cost_day\"] = employer_model[\"Last Price Paid\"]/employer_model[\"last term\"]\n",
    "employer_model[\"last_MKT_app\"] = employer_model[\"Last MKT Value\"]/ employer_model[\"Last Apps\"]\n",
    "employer_model[\"last_MKT_day\"] = employer_model[\"Last MKT Value\"]/ employer_model[\"last term\"]\n",
    "employer_model[\"last_app_day\"] = employer_model[\"Last Apps\"]/employer_model[\"last term\"]\n",
    "# Calculated attributes for overall performance\n",
    "employer_model[\"total_hist\"] = employer_model.apply(lambda row: day_between(row[\"Earliest Date\"], row[\"Last Date\"]), axis = 1)\n",
    "employer_model[\"# prev renew\"] = employer_model[\"# Renewed\"] - employer_model[\"End Renewed\"]\n",
    "employer_model[\"term per package\"] = employer_model[\"term\"]/employer_model[\"# Packages\"]"
   ]
  },
  {
   "cell_type": "code",
   "execution_count": 77,
   "metadata": {
    "collapsed": false
   },
   "outputs": [
    {
     "name": "stdout",
     "output_type": "stream",
     "text": [
      "<class 'pandas.core.frame.DataFrame'>\n",
      "Int64Index: 2748 entries, 0 to 2747\n",
      "Data columns (total 69 columns):\n",
      "Employer ID                    2748 non-null int64\n",
      "Number of Slots                2748 non-null int64\n",
      "Price Paid                     2748 non-null float64\n",
      "Marketplace Value Delivered    2748 non-null float64\n",
      "Applications                   2748 non-null float64\n",
      "# Renewed                      2748 non-null int64\n",
      "term                           2748 non-null int64\n",
      "NA_num                         2748 non-null int64\n",
      "Last Date                      2748 non-null datetime64[ns]\n",
      "Last #Slots                    2748 non-null int64\n",
      "Last Price Paid                2748 non-null float64\n",
      "Last MKT Value                 2748 non-null float64\n",
      "Last Apps                      2748 non-null float64\n",
      "End Renewed                    2748 non-null int64\n",
      "last term                      2748 non-null int64\n",
      "Earliest Date                  2748 non-null datetime64[ns]\n",
      "Loc count                      2748 non-null int64\n",
      "State count                    2748 non-null int64\n",
      "# Packages                     2748 non-null int64\n",
      "int_mkt                        2748 non-null int64\n",
      "us_mkt                         2748 non-null int64\n",
      "job_mkt                        2748 non-null object\n",
      "app_per_pkg                    2748 non-null float64\n",
      "app_per_day                    2748 non-null float64\n",
      "app_per_slot                   2748 non-null float64\n",
      "Cost_per_app                   2748 non-null float64\n",
      "Cost_per_pkg                   2748 non-null float64\n",
      "Cost_per_day                   2748 non-null float64\n",
      "Cost_per_slot                  2748 non-null float64\n",
      "MV_per_app                     2748 non-null float64\n",
      "MV_Cost                        2748 non-null float64\n",
      "MV_pkg                         2748 non-null float64\n",
      "Employer_Gain                  2748 non-null float64\n",
      "Gain_per_app                   2748 non-null float64\n",
      "Gain_per_day                   2748 non-null float64\n",
      "Gain_per_pkg                   2748 non-null float64\n",
      "ROI                            2748 non-null float64\n",
      "CA                             2748 non-null int64\n",
      "NY                             2748 non-null int64\n",
      "FL                             2748 non-null int64\n",
      "TX                             2748 non-null int64\n",
      "last_total_Gain                2748 non-null float64\n",
      "last_ROI                       2748 non-null float64\n",
      "last_gain_day                  2748 non-null float64\n",
      "last_gain_app                  2748 non-null float64\n",
      "last_cost_app                  2748 non-null float64\n",
      "last_cost_day                  2748 non-null float64\n",
      "last_MKT_app                   2748 non-null float64\n",
      "last_MKT_day                   2748 non-null float64\n",
      "last_app_day                   2748 non-null float64\n",
      "total_hist                     2748 non-null int64\n",
      "# prev renew                   2748 non-null int64\n",
      "term per package               2748 non-null float64\n",
      "last_renew                     2748 non-null int64\n",
      "last_total_gain_renew          2748 non-null float64\n",
      "last_ROI_renew                 2748 non-null float64\n",
      "last_gain_day_renew            2748 non-null float64\n",
      "last_gain_app_renew            2748 non-null float64\n",
      "last_cost_app_renew            2748 non-null float64\n",
      "last_cost_day_renew            2748 non-null float64\n",
      "last_MKT_app_renew             2748 non-null float64\n",
      "last_MKT_day_renew             2748 non-null float64\n",
      "last_app_day_renew             2748 non-null float64\n",
      "Last #Slots_renew              2748 non-null int64\n",
      "Last Price Paid_renew          2748 non-null float64\n",
      "Last MKT value_renew           2748 non-null float64\n",
      "Last Apps_renew                2748 non-null float64\n",
      "Last term_renew                2748 non-null int64\n",
      "total_hist_renew               2748 non-null int64\n",
      "dtypes: datetime64[ns](2), float64(43), int64(23), object(1)\n",
      "memory usage: 1.5+ MB\n"
     ]
    }
   ],
   "source": [
    "employer_model.info()"
   ]
  },
  {
   "cell_type": "code",
   "execution_count": 78,
   "metadata": {
    "collapsed": false
   },
   "outputs": [],
   "source": [
    "# last time value only applies for populaton with renews\n",
    "employer_model[\"last_renew\"] = employer_model[\"# prev renew\"].apply(lambda x: 1 if x > 0 else 0)\n",
    "employer_model[\"last_total_gain_renew\"] = employer_model[\"last_total_Gain\"] * employer_model[\"last_renew\"]\n",
    "employer_model[\"last_ROI_renew\"] = employer_model[\"last_ROI\"] * employer_model[\"last_renew\"]\n",
    "employer_model[\"last_gain_day_renew\"] = employer_model[\"last_gain_day\"] * employer_model[\"last_renew\"]\n",
    "employer_model[\"last_gain_app_renew\"] = employer_model[\"last_gain_app\"] * employer_model[\"last_renew\"]\n",
    "employer_model[\"last_cost_app_renew\"] = employer_model[\"last_cost_app\"] * employer_model[\"last_renew\"]\n",
    "employer_model[\"last_cost_day_renew\"] = employer_model[\"last_cost_day\"] * employer_model[\"last_renew\"]\n",
    "employer_model[\"last_MKT_app_renew\"] = employer_model[\"last_MKT_app\"] * employer_model[\"last_renew\"]\n",
    "employer_model[\"last_MKT_day_renew\"] = employer_model[\"last_MKT_day\"] * employer_model[\"last_renew\"]\n",
    "employer_model[\"last_app_day_renew\"] = employer_model[\"last_app_day\"] * employer_model[\"last_renew\"]\n",
    "employer_model[\"Last #Slots_renew\"] = employer_model[\"Last #Slots\"] * employer_model[\"last_renew\"]\n",
    "employer_model[\"Last Price Paid_renew\"] = employer_model[\"Last Price Paid\"] * employer_model[\"last_renew\"]\n",
    "employer_model[\"Last MKT value_renew\"] = employer_model[\"Last MKT Value\"] * employer_model[\"last_renew\"]\n",
    "employer_model[\"Last Apps_renew\"] = employer_model[\"Last Apps\"] * employer_model[\"last_renew\"]\n",
    "employer_model[\"Last term_renew\"] = employer_model[\"last term\"] * employer_model[\"last_renew\"]\n",
    "employer_model[\"total_hist_renew\"] = employer_model[\"total_hist\"] * employer_model[\"last_renew\"]"
   ]
  },
  {
   "cell_type": "code",
   "execution_count": 79,
   "metadata": {
    "collapsed": false
   },
   "outputs": [],
   "source": [
    "def renew_rate(row):\n",
    "    if row[\"# Packages\"] == 1:\n",
    "        return -1\n",
    "    else:\n",
    "        return row[\"# prev renew\"]/(row[\"# Packages\"] - 1)\n",
    "employer_model[\"prev renew rate\"] = employer_model.apply(lambda row: renew_rate(row), axis = 1)\n",
    "# multiple package\n",
    "employer_model[\"multi_pack\"] = employer_model[\"# Packages\"].apply(lambda x: 1 if x > 1 else 0)\n",
    "employer_model[\"multi_pack_prev_renew_rate\"] = employer_model[\"multi_pack\"] * employer_model[\"prev renew rate\"]"
   ]
  },
  {
   "cell_type": "code",
   "execution_count": 80,
   "metadata": {
    "collapsed": false
   },
   "outputs": [],
   "source": [
    "# get dummy variables for job market\n",
    "employer_model = pd.concat([employer_model,pd.get_dummies(employer_model[\"job_mkt\"])],axis = 1)"
   ]
  },
  {
   "cell_type": "code",
   "execution_count": 81,
   "metadata": {
    "collapsed": false
   },
   "outputs": [
    {
     "data": {
      "text/plain": [
       "1    1780\n",
       "0     959\n",
       "2       8\n",
       "3       1\n",
       "Name: End Renewed, dtype: int64"
      ]
     },
     "execution_count": 81,
     "metadata": {},
     "output_type": "execute_result"
    }
   ],
   "source": [
    "# Check target attributes\n",
    "employer_model[\"End Renewed\"].value_counts()"
   ]
  },
  {
   "cell_type": "code",
   "execution_count": 82,
   "metadata": {
    "collapsed": false
   },
   "outputs": [
    {
     "data": {
      "text/plain": [
       "0.651018922852984"
      ]
     },
     "execution_count": 82,
     "metadata": {},
     "output_type": "execute_result"
    }
   ],
   "source": [
    "# Define target variable: End Renewed > 1 (in the last contract, whether Employer renewed the contract in the end\n",
    "employer_model[\"retained\"] = employer_model[\"End Renewed\"].apply(lambda x: 1 if x >= 1 else 0)\n",
    "employer_model[\"retained\"].mean()"
   ]
  },
  {
   "cell_type": "code",
   "execution_count": 83,
   "metadata": {
    "collapsed": false
   },
   "outputs": [
    {
     "data": {
      "text/plain": [
       "0"
      ]
     },
     "execution_count": 83,
     "metadata": {},
     "output_type": "execute_result"
    }
   ],
   "source": [
    "# Check null value for attributes\n",
    "employer_model.isnull().sum().sum()"
   ]
  },
  {
   "cell_type": "code",
   "execution_count": 84,
   "metadata": {
    "collapsed": false
   },
   "outputs": [],
   "source": [
    "# Independent variables\n",
    "dropcol = [\"last_renew\",\"last_total_Gain\",\"last_ROI\",\"last_gain_day\",\"last_gain_app\",\"last_cost_app\",\"last_cost_day\",\n",
    "           \"last_MKT_app\",\"last_MKT_day\",\"last_app_day\",\n",
    "           \"Last #Slots\", \"Last Price Paid\",\"Last MKT Value\", \"Last Apps\", \"last term\", \"total_hist\",\n",
    "           \"Employer ID\", \"Employer ID\",\"Last Date\",\"Earliest Date\",\"# Renewed\",\"int_mkt\",\"us_mkt\",\n",
    "           \"job_mkt\",\"retained\", \"End Renewed\", \"app_per_slot\"]\n",
    "X,y = employer_model.drop(dropcol,axis = 1), employer_model[\"retained\"]==1"
   ]
  },
  {
   "cell_type": "code",
   "execution_count": 115,
   "metadata": {
    "collapsed": false
   },
   "outputs": [],
   "source": [
    "# Cap/floor extreme value ;\n",
    "def extre_value(row):\n",
    "    if row[col] < X[col].quantile(0.01):\n",
    "        row[col] = X[col].quantile(0.01)\n",
    "    elif row[col] > X[col].quantile(0.99):\n",
    "        row[col] = X[col].quantile(0.99)\n",
    "    return row[col]\n",
    "\n",
    "for col in X.columns:\n",
    "    X[col] = X.apply(lambda x: extre_value(x), axis = 1)"
   ]
  },
  {
   "cell_type": "code",
   "execution_count": 116,
   "metadata": {
    "collapsed": false
   },
   "outputs": [
    {
     "name": "stdout",
     "output_type": "stream",
     "text": [
      "(1923, 825)\n"
     ]
    }
   ],
   "source": [
    "# Generate train/validation samples\n",
    "X_train, X_test, y_train, y_test = train_test_split(X, y,random_state = 0, test_size= 0.3)\n",
    "print(X_train.shape[0], X_test.shape[0])"
   ]
  },
  {
   "cell_type": "code",
   "execution_count": 117,
   "metadata": {
    "collapsed": false
   },
   "outputs": [
    {
     "data": {
      "text/plain": [
       "(0.65106604264170564, 0.65090909090909088)"
      ]
     },
     "execution_count": 117,
     "metadata": {},
     "output_type": "execute_result"
    }
   ],
   "source": [
    "y_train.mean(), y_test.mean()"
   ]
  },
  {
   "cell_type": "code",
   "execution_count": 118,
   "metadata": {
    "collapsed": false
   },
   "outputs": [],
   "source": [
    "from sklearn import cross_validation\n",
    "from sklearn import metrics"
   ]
  },
  {
   "cell_type": "code",
   "execution_count": 119,
   "metadata": {
    "collapsed": true
   },
   "outputs": [],
   "source": [
    "def modelfit(alg, X_train, y_train, X_test, y_test, performCV=True, printFeatureImportance=True, cv_folds=5):\n",
    "#Fit the algorithm on the data\n",
    "    alg.fit(X_train, y_train)\n",
    "        \n",
    "    #Predict training set:\n",
    "    train_predictions = alg.predict(X_train)\n",
    "    train_predprob = alg.predict_proba(X_train)[:,1]\n",
    "    test_predictions = alg.predict(X_test)\n",
    "    test_predprob = alg.predict_proba(X_test)[:,1]\n",
    "    \n",
    "#     #Perform cross-validation:\n",
    "    if performCV:\n",
    "        cv_score = cross_validation.cross_val_score(alg, X_train, y_train, cv=cv_folds, scoring='roc_auc')\n",
    "    \n",
    "    #Print model report:\n",
    "    print \"\\nModel Report\"\n",
    "    print \"Accuracy(Train): %.4g\" % metrics.accuracy_score(y_train.values, train_predictions)\n",
    "    print \"Accuracy(Test) : %.4g\" % metrics.accuracy_score(y_test.values, test_predictions)\n",
    "    print \"Precision(Train): %.4g\" % metrics.precision_score(y_train.values, train_predictions)\n",
    "    print \"Precision(Test): %.4g\" % metrics.precision_score(y_test.values, test_predictions)\n",
    "    print \"Recall(Train): %.4g\" % metrics.recall_score(y_train.values, train_predictions)\n",
    "    print \"Recall(Test): %.4g\" % metrics.recall_score(y_test.values, test_predictions)        \n",
    "    print \"AUC Score (Train): %f\" % metrics.roc_auc_score(y_train, train_predprob)\n",
    "    print \"AUC Score (Test): %f\" % metrics.roc_auc_score(y_test, test_predprob)\n",
    "    \n",
    "    \n",
    "    if performCV:\n",
    "        print \"CV Score : Mean - %.7g | Std - %.7g | Min - %.7g | Max - %.7g\" % (np.mean(cv_score),np.std(cv_score),np.min(cv_score),np.max(cv_score))\n",
    "        \n",
    "    #Print Feature Importance:\n",
    "    if printFeatureImportance:\n",
    "        feat_imp = pd.Series(alg.feature_importances_, X_train.columns).sort_values(ascending=False)\n",
    "        feat_imp.plot(kind='bar', title='Feature Importances')\n",
    "        plt.ylabel('Feature Importance Score')"
   ]
  },
  {
   "cell_type": "code",
   "execution_count": 120,
   "metadata": {
    "collapsed": false
   },
   "outputs": [
    {
     "name": "stdout",
     "output_type": "stream",
     "text": [
      "\n",
      "Model Report\n",
      "Accuracy(Train): 0.7223\n",
      "Accuracy(Test) : 0.7127\n",
      "Precision(Train): 0.7189\n",
      "Precision(Test): 0.7155\n",
      "Recall(Train): 0.9417\n",
      "Recall(Test): 0.9274\n",
      "AUC Score (Train): 0.738107\n",
      "AUC Score (Test): 0.670608\n",
      "CV Score : Mean - 0.6238522 | Std - 0.01606514 | Min - 0.5968865 | Max - 0.646597\n"
     ]
    },
    {
     "data": {
      "image/png": "[encoded data removed]",
      "text/plain": [
       "<matplotlib.figure.Figure at 0xebc6d68>"
      ]
     },
     "metadata": {},
     "output_type": "display_data"
    }
   ],
   "source": [
    "#Choose all predictors except target & IDcols\n",
    "rcParams['figure.figsize'] = 16, 6\n",
    "gbm0 = GradientBoostingClassifier(max_depth = 4,  min_samples_split = 500, min_samples_leaf = 300)\n",
    "modelfit(gbm0, X_train, y_train, X_test, y_test)"
   ]
  },
  {
   "cell_type": "code",
   "execution_count": 121,
   "metadata": {
    "collapsed": false
   },
   "outputs": [
    {
     "name": "stdout",
     "output_type": "stream",
     "text": [
      "\n",
      "Model Report\n",
      "Accuracy(Train): 0.7192\n",
      "Accuracy(Test) : 0.7115\n",
      "Precision(Train): 0.7158\n",
      "Precision(Test): 0.7133\n",
      "Recall(Train): 0.9433\n",
      "Recall(Test): 0.9311\n",
      "AUC Score (Train): 0.723855\n",
      "AUC Score (Test): 0.673168\n",
      "CV Score : Mean - 0.6149054 | Std - 0.01595129 | Min - 0.5982441 | Max - 0.6371642\n"
     ]
    },
    {
     "data": {
      "image/png": "[encoded data removed]",
      "text/plain": [
       "<matplotlib.figure.Figure at 0xea3cb70>"
      ]
     },
     "metadata": {},
     "output_type": "display_data"
    }
   ],
   "source": [
    "#Tune Model to feature w. importance > 0.02\n",
    "feature_df = pd.DataFrame({'Features': X_train.columns, \"Feature Importance\": gbm0.feature_importances_}).sort_values(\"Feature Importance\", ascending = False)\n",
    "columns = feature_df[feature_df[\"Feature Importance\"] >= 0.02][\"Features\"]\n",
    "X_train_refine = X_train[columns]\n",
    "#X_train_refine.shape\n",
    "X_test_refine = X_test[columns]\n",
    "gbm1 = GradientBoostingClassifier(max_depth = 3,  min_samples_split = 500, min_samples_leaf = 300)\n",
    "modelfit(gbm1, X_train_refine, y_train, X_test_refine, y_test)"
   ]
  },
  {
   "cell_type": "code",
   "execution_count": 122,
   "metadata": {
    "collapsed": false
   },
   "outputs": [
    {
     "data": {
      "image/png": "[encoded data removed]",
      "text/plain": [
       "<matplotlib.figure.Figure at 0x10f01198>"
      ]
     },
     "metadata": {},
     "output_type": "display_data"
    }
   ],
   "source": [
    "# Plot Partial Dependence\n",
    "ftimp_gbm1 = gbm1.feature_importances_\n",
    "ft_gbm1 = X_train_refine.columns\n",
    "matplotlib.rc('xtick', labelsize = 7)\n",
    "feature_gbm1 = pd.DataFrame({\"Features\": ft_gbm1, \"Feature Importance\": ftimp_gbm1}).sort_values(by = \"Feature Importance\", ascending = False).reset_index().drop(\"index\", axis = 1)\n",
    "feature_matrx = np.arange(6)\n",
    "fig, axs = plot_partial_dependence(gbm1, X_train_refine, feature_matrx, feature_names = feature_gbm1.Features, \n",
    "                                   n_jobs = 3, grid_resolution = 100)\n",
    "plt.subplots_adjust(top = 0.9, wspace = 0.5, hspace = 0.5)"
   ]
  },
  {
   "cell_type": "code",
   "execution_count": 123,
   "metadata": {
    "collapsed": false
   },
   "outputs": [
    {
     "data": {
      "image/png": "[encoded data removed]",
      "text/plain": [
       "<matplotlib.figure.Figure at 0xec1aba8>"
      ]
     },
     "metadata": {},
     "output_type": "display_data"
    }
   ],
   "source": [
    "# PLOT ROC\n",
    "from sklearn.metrics import roc_curve, auc\n",
    "\n",
    "y_score_train = gbm1.fit(X_train_refine, y_train).decision_function(X_train_refine)\n",
    "y_score_lr = gbm1.fit(X_train_refine, y_train).decision_function(X_test_refine)\n",
    "\n",
    "fpr_lr, tpr_lr, _ = roc_curve(y_test, y_score_lr)\n",
    "fpr_lr_train, tpr_lr_train, _ = roc_curve(y_train, y_score_train)\n",
    "roc_auc_lr = auc(fpr_lr, tpr_lr)\n",
    "roc_auc_train = auc(fpr_lr_train, tpr_lr_train)\n",
    "\n",
    "\n",
    "plt.figure()\n",
    "plt.xlim([-0.01, 1.00])\n",
    "plt.ylim([-0.01, 1.01])\n",
    "plt.plot(fpr_lr_train, tpr_lr_train, lw=3, c = \"red\", label='Train ROC curve (area = {:0.2f})'.format(roc_auc_train))\n",
    "plt.plot(fpr_lr, tpr_lr, lw=3, label='Test ROC curve (area = {:0.2f})'.format(roc_auc_lr))\n",
    "plt.xlabel('False Positive Rate', fontsize=16)\n",
    "plt.ylabel('True Positive Rate', fontsize=16)\n",
    "plt.title('ROC curve (1-of-10 digits classifier)', fontsize=16)\n",
    "plt.legend(loc='lower right', fontsize=13)\n",
    "plt.plot([0, 1], [0, 1], color='navy', lw=3, linestyle='--')\n",
    "plt.axes().set_aspect('equal')\n",
    "plt.show()"
   ]
  },
  {
   "cell_type": "code",
   "execution_count": 96,
   "metadata": {
    "collapsed": true
   },
   "outputs": [],
   "source": [
    "# build a logistic regression based on it"
   ]
  },
  {
   "cell_type": "code",
   "execution_count": null,
   "metadata": {
    "collapsed": true
   },
   "outputs": [],
   "source": [
    "# get rid of columsn highly correlated\n",
    "col = [\"Cost_per_day\", \"Gain_per_day\",\"MV_per_app\",\"Gain_per_app\",\"term\",\"MV_pkg\",\"Cost_per_app\",\"Price Paid\",\"Cost_per_slot\",\n",
    "        \"Domestic\",\"NA_num\", \"MV_Cost\",\"term per package\"]"
   ]
  },
  {
   "cell_type": "code",
   "execution_count": null,
   "metadata": {
    "collapsed": true
   },
   "outputs": [],
   "source": [
    "from sklearn import preprocessing\n",
    "X_train_sc = pd.DataFrame(preprocessing.scale(X_train_refine))\n",
    "X_test_sc = pd.DataFrame(preprocessing.scale(X_test_refine))"
   ]
  },
  {
   "cell_type": "code",
   "execution_count": 1250,
   "metadata": {
    "collapsed": false
   },
   "outputs": [],
   "source": [
    "logreg = LogisticRegression()\n",
    "\n",
    "param_range = np.linspace(0.01,1.01,20)\n",
    "train_recall, test_recall = validation_curve(logreg, X = X_train_sc, y = y_train.astype(int), param_name = \"C\",\n",
    "                                            param_range = param_range, cv = 5, scoring = \"recall\", n_jobs = 1)\n",
    "CV_recall_mean = np.mean(test_recall, axis = 1)\n",
    "CV_recall_std = np.std(test_recall, axis = 1)\n",
    "best = param_range[np.where(CV_recall_mean == CV_recall_mean.max())][0]"
   ]
  },
  {
   "cell_type": "code",
   "execution_count": 1251,
   "metadata": {
    "collapsed": false
   },
   "outputs": [
    {
     "data": {
      "text/plain": [
       "0.01"
      ]
     },
     "execution_count": 1251,
     "metadata": {},
     "output_type": "execute_result"
    }
   ],
   "source": [
    "best"
   ]
  },
  {
   "cell_type": "code",
   "execution_count": 1252,
   "metadata": {
    "collapsed": false
   },
   "outputs": [],
   "source": [
    "# fit the regression\n",
    "logreg = LogisticRegression(C = best)\n",
    "logreg = logreg.fit(X_train_sc, y_train.astype(int))\n",
    "pred_y_test = logreg.predict(X_test_sc)\n",
    "preba_y_test = logreg.predict_proba(X_test_sc)"
   ]
  },
  {
   "cell_type": "code",
   "execution_count": 1253,
   "metadata": {
    "collapsed": false
   },
   "outputs": [
    {
     "data": {
      "image/png": "[encoded data removed]",
      "text/plain": [
       "<matplotlib.figure.Figure at 0x25ee9cf8>"
      ]
     },
     "metadata": {},
     "output_type": "display_data"
    }
   ],
   "source": [
    "# PLOT ROC\n",
    "y_score_train = logreg.fit(X_train_sc, y_train).decision_function(X_train_sc)\n",
    "y_score_lr = logreg.fit(X_train_sc, y_train).decision_function(X_test_sc)\n",
    "\n",
    "fpr_lr, tpr_lr, _ = roc_curve(y_test, y_score_lr)\n",
    "fpr_lr_train, tpr_lr_train, _ = roc_curve(y_train, y_score_train)\n",
    "roc_auc_lr = auc(fpr_lr, tpr_lr)\n",
    "roc_auc_train = auc(fpr_lr_train, tpr_lr_train)\n",
    "\n",
    "\n",
    "plt.figure()\n",
    "plt.xlim([-0.01, 1.00])\n",
    "plt.ylim([-0.01, 1.01])\n",
    "plt.plot(fpr_lr_train, tpr_lr_train, lw=3, c = \"red\", label='Train ROC curve (area = {:0.2f})'.format(roc_auc_train))\n",
    "plt.plot(fpr_lr, tpr_lr, lw=3, label='Test ROC curve (area = {:0.2f})'.format(roc_auc_lr))\n",
    "plt.xlabel('False Positive Rate', fontsize=16)\n",
    "plt.ylabel('True Positive Rate', fontsize=16)\n",
    "plt.title('ROC curve (1-of-10 digits classifier)', fontsize=16)\n",
    "plt.legend(loc='lower right', fontsize=13)\n",
    "plt.plot([0, 1], [0, 1], color='navy', lw=3, linestyle='--')\n",
    "plt.axes().set_aspect('equal')\n",
    "plt.show()"
   ]
  },
  {
   "cell_type": "code",
   "execution_count": 1254,
   "metadata": {
    "collapsed": false
   },
   "outputs": [
    {
     "data": {
      "text/html": [
       "<div>\n",
       "<table border=\"1\" class=\"dataframe\">\n",
       "  <thead>\n",
       "    <tr style=\"text-align: right;\">\n",
       "      <th></th>\n",
       "      <th>variable name</th>\n",
       "      <th>estimates</th>\n",
       "    </tr>\n",
       "  </thead>\n",
       "  <tbody>\n",
       "    <tr>\n",
       "      <th>4</th>\n",
       "      <td>term</td>\n",
       "      <td>0.244162</td>\n",
       "    </tr>\n",
       "    <tr>\n",
       "      <th>1</th>\n",
       "      <td>Gain_per_day</td>\n",
       "      <td>0.178141</td>\n",
       "    </tr>\n",
       "    <tr>\n",
       "      <th>9</th>\n",
       "      <td>app_per_pkg</td>\n",
       "      <td>0.124152</td>\n",
       "    </tr>\n",
       "    <tr>\n",
       "      <th>14</th>\n",
       "      <td>Employer_Gain</td>\n",
       "      <td>0.079773</td>\n",
       "    </tr>\n",
       "    <tr>\n",
       "      <th>11</th>\n",
       "      <td>Applications</td>\n",
       "      <td>0.071851</td>\n",
       "    </tr>\n",
       "    <tr>\n",
       "      <th>5</th>\n",
       "      <td>MV_pkg</td>\n",
       "      <td>0.054457</td>\n",
       "    </tr>\n",
       "    <tr>\n",
       "      <th>10</th>\n",
       "      <td>Cost_per_pkg</td>\n",
       "      <td>0.052202</td>\n",
       "    </tr>\n",
       "    <tr>\n",
       "      <th>3</th>\n",
       "      <td>Gain_per_app</td>\n",
       "      <td>0.049872</td>\n",
       "    </tr>\n",
       "    <tr>\n",
       "      <th>6</th>\n",
       "      <td>app_per_day</td>\n",
       "      <td>0.043924</td>\n",
       "    </tr>\n",
       "    <tr>\n",
       "      <th>7</th>\n",
       "      <td>Gain_per_pkg</td>\n",
       "      <td>0.028910</td>\n",
       "    </tr>\n",
       "    <tr>\n",
       "      <th>12</th>\n",
       "      <td>Marketplace Value Delivered</td>\n",
       "      <td>0.021131</td>\n",
       "    </tr>\n",
       "    <tr>\n",
       "      <th>15</th>\n",
       "      <td>Cost_per_slot</td>\n",
       "      <td>0.019254</td>\n",
       "    </tr>\n",
       "    <tr>\n",
       "      <th>8</th>\n",
       "      <td>Cost_per_app</td>\n",
       "      <td>-0.049906</td>\n",
       "    </tr>\n",
       "    <tr>\n",
       "      <th>13</th>\n",
       "      <td>Price Paid</td>\n",
       "      <td>-0.056442</td>\n",
       "    </tr>\n",
       "    <tr>\n",
       "      <th>2</th>\n",
       "      <td>MV_per_app</td>\n",
       "      <td>-0.066490</td>\n",
       "    </tr>\n",
       "    <tr>\n",
       "      <th>0</th>\n",
       "      <td>Cost_per_day</td>\n",
       "      <td>-0.216182</td>\n",
       "    </tr>\n",
       "  </tbody>\n",
       "</table>\n",
       "</div>"
      ],
      "text/plain": [
       "                  variable name  estimates\n",
       "4                          term   0.244162\n",
       "1                  Gain_per_day   0.178141\n",
       "9                   app_per_pkg   0.124152\n",
       "14                Employer_Gain   0.079773\n",
       "11                 Applications   0.071851\n",
       "5                        MV_pkg   0.054457\n",
       "10                 Cost_per_pkg   0.052202\n",
       "3                  Gain_per_app   0.049872\n",
       "6                   app_per_day   0.043924\n",
       "7                  Gain_per_pkg   0.028910\n",
       "12  Marketplace Value Delivered   0.021131\n",
       "15                Cost_per_slot   0.019254\n",
       "8                  Cost_per_app  -0.049906\n",
       "13                   Price Paid  -0.056442\n",
       "2                    MV_per_app  -0.066490\n",
       "0                  Cost_per_day  -0.216182"
      ]
     },
     "execution_count": 1254,
     "metadata": {},
     "output_type": "execute_result"
    }
   ],
   "source": [
    "coef = pd.DataFrame(list(zip(X_train_refine.columns,logreg.coef_.tolist()[0])),columns = [\"variable name\",\"estimates\"]).sort_values(by = \"estimates\", ascending = False)\n",
    "coef"
   ]
  },
  {
   "cell_type": "code",
   "execution_count": null,
   "metadata": {
    "collapsed": true
   },
   "outputs": [],
   "source": [
    "# Insights based on the findings (Top 6 features in GBM)\n",
    "# Segment with one-pkg user and multi-pkg user, and/or international/ domestic empployer"
   ]
  },
  {
   "cell_type": "code",
   "execution_count": 98,
   "metadata": {
    "collapsed": false
   },
   "outputs": [
    {
     "data": {
      "text/plain": [
       "0    2449\n",
       "1     299\n",
       "Name: multi_pkg_user, dtype: int64"
      ]
     },
     "execution_count": 98,
     "metadata": {},
     "output_type": "execute_result"
    }
   ],
   "source": [
    "employer_model[\"multi_pkg_user\"] = employer_model[\"# Packages\"].apply(lambda x: 1 if x > 1 else 0)\n",
    "employer_model.multi_pkg_user.value_counts()"
   ]
  },
  {
   "cell_type": "code",
   "execution_count": 99,
   "metadata": {
    "collapsed": false
   },
   "outputs": [
    {
     "data": {
      "text/plain": [
       "Domestic         1691\n",
       "Unknown           676\n",
       "International     336\n",
       "Both               45\n",
       "Name: job_mkt, dtype: int64"
      ]
     },
     "execution_count": 99,
     "metadata": {},
     "output_type": "execute_result"
    }
   ],
   "source": [
    "employer_model.job_mkt.value_counts()"
   ]
  },
  {
   "cell_type": "code",
   "execution_count": 101,
   "metadata": {
    "collapsed": false
   },
   "outputs": [],
   "source": [
    "# Category job market\n",
    "def pop_jobloc(row):\n",
    "    if row[\"CA\"]==1 or row[\"FL\"] == 1 or row[\"TX\"] == 1 or row[\"NY\"] == 1:\n",
    "        return 1\n",
    "    else:\n",
    "        return 0\n",
    "employer_model[\"pop_jobloc\"] = employer_model.apply(lambda row: pop_jobloc(row), axis = 1)"
   ]
  },
  {
   "cell_type": "code",
   "execution_count": 105,
   "metadata": {
    "collapsed": true
   },
   "outputs": [],
   "source": [
    "# Cost per day by one-purchase/ multi-purchase\n",
    "# define cost by quantile;\n",
    "def group_hist(colname):\n",
    "    ax = employer_model.groupby(colname)[\"retained\"].mean().reset_index().set_index(col_name).rename()\n"
   ]
  },
  {
   "cell_type": "code",
   "execution_count": 142,
   "metadata": {
    "collapsed": false
   },
   "outputs": [],
   "source": [
    "def groups(row, colname):\n",
    "    if row[colname] < employer_model[colname].quantile(0.1):\n",
    "        return \"LOW\"\n",
    "    elif row[colname] < employer_model[colname].quantile(0.5):\n",
    "        return \"LOW - MED\"\n",
    "    elif row[colname] > employer_model[colname].quantile(0.9):\n",
    "        return 'HIGH'\n",
    "    else:\n",
    "        return 'MED - HIGH'\n",
    "\n",
    "employer_model[\"Cost_per_day_grp\"] = employer_model.apply(lambda row: groups(row, \"Cost_per_day\"), axis = 1)"
   ]
  },
  {
   "cell_type": "code",
   "execution_count": 157,
   "metadata": {
    "collapsed": false
   },
   "outputs": [
    {
     "data": {
      "text/plain": [
       "<matplotlib.axes._subplots.AxesSubplot at 0xeb38160>"
      ]
     },
     "execution_count": 157,
     "metadata": {},
     "output_type": "execute_result"
    },
    {
     "data": {
      "image/png": "[encoded data removed]",
      "text/plain": [
       "<matplotlib.figure.Figure at 0xd841ba8>"
      ]
     },
     "metadata": {},
     "output_type": "display_data"
    }
   ],
   "source": [
    "#temp1 = employer_model[employer_model[\"multi_pkg_user\"]==1]\n"
   ]
  },
  {
   "cell_type": "code",
   "execution_count": 151,
   "metadata": {
    "collapsed": false
   },
   "outputs": [
    {
     "data": {
      "text/html": [
       "<div>\n",
       "<table border=\"1\" class=\"dataframe\">\n",
       "  <thead>\n",
       "    <tr style=\"text-align: right;\">\n",
       "      <th></th>\n",
       "      <th>Cost per day group</th>\n",
       "      <th>Cost_per_day_grp</th>\n",
       "    </tr>\n",
       "  </thead>\n",
       "  <tbody>\n",
       "    <tr>\n",
       "      <th>0</th>\n",
       "      <td>LOW - MED</td>\n",
       "      <td>1282</td>\n",
       "    </tr>\n",
       "    <tr>\n",
       "      <th>1</th>\n",
       "      <td>MED - HIGH</td>\n",
       "      <td>1184</td>\n",
       "    </tr>\n",
       "    <tr>\n",
       "      <th>2</th>\n",
       "      <td>HIGH</td>\n",
       "      <td>271</td>\n",
       "    </tr>\n",
       "    <tr>\n",
       "      <th>3</th>\n",
       "      <td>LOW</td>\n",
       "      <td>11</td>\n",
       "    </tr>\n",
       "  </tbody>\n",
       "</table>\n",
       "</div>"
      ],
      "text/plain": [
       "  Cost per day group  Cost_per_day_grp\n",
       "0          LOW - MED              1282\n",
       "1         MED - HIGH              1184\n",
       "2               HIGH               271\n",
       "3                LOW                11"
      ]
     },
     "execution_count": 151,
     "metadata": {},
     "output_type": "execute_result"
    }
   ],
   "source": [
    "employer_model[\"Cost_per_day_grp\"].value_counts().to_frame().reset_index().rename(columns = {\"index\": \"Cost per day group\",\n",
    "                                                                                             \"Cost_per_day_grp\": \"count\"})"
   ]
  },
  {
   "cell_type": "code",
   "execution_count": null,
   "metadata": {
    "collapsed": true
   },
   "outputs": [],
   "source": []
  }
 ],
 "metadata": {
  "kernelspec": {
   "display_name": "Python 2",
   "language": "python",
   "name": "python2"
  },
  "language_info": {
   "codemirror_mode": {
    "name": "ipython",
    "version": 2
   },
   "file_extension": ".py",
   "mimetype": "text/x-python",
   "name": "python",
   "nbconvert_exporter": "python",
   "pygments_lexer": "ipython2",
   "version": "2.7.13"
  }
 },
 "nbformat": 4,
 "nbformat_minor": 2
}
